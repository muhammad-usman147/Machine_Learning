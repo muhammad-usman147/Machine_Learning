{
 "cells": [
  {
   "cell_type": "code",
   "execution_count": 1,
   "id": "extensive-quarter",
   "metadata": {},
   "outputs": [],
   "source": [
    "#machine learning algorithm"
   ]
  },
  {
   "cell_type": "code",
   "execution_count": 4,
   "id": "italic-shower",
   "metadata": {},
   "outputs": [],
   "source": [
    "max_length = 10\n",
    "max_number = 50\n",
    "users = 10"
   ]
  },
  {
   "cell_type": "code",
   "execution_count": 3,
   "id": "bottom-oasis",
   "metadata": {},
   "outputs": [],
   "source": [
    "import numpy as np\n",
    "import pandas as pd"
   ]
  },
  {
   "cell_type": "code",
   "execution_count": 87,
   "id": "supposed-illness",
   "metadata": {},
   "outputs": [],
   "source": [
    "random_data = np.zeros((users*max_length, max_length+1)) # shapes = (rows=total entries, columns = max_length)\n",
    "output_ = np.zeros((users*max_length,))"
   ]
  },
  {
   "cell_type": "code",
   "execution_count": 88,
   "id": "posted-berry",
   "metadata": {},
   "outputs": [
    {
     "data": {
      "text/plain": [
       "(100, 11)"
      ]
     },
     "execution_count": 88,
     "metadata": {},
     "output_type": "execute_result"
    }
   ],
   "source": [
    "random_data.shape"
   ]
  },
  {
   "cell_type": "code",
   "execution_count": 90,
   "id": "rotary-electric",
   "metadata": {},
   "outputs": [],
   "source": [
    "np.random.seed(np.random.randint(1,99999))\n",
    "count = 0\n",
    "add_user = 1\n",
    "for i in range(users*max_length):\n",
    "    \n",
    "    count += 1\n",
    "    for j in range(1,count+1):\n",
    "        random_data[i,j] = np.random.randint(1,max_number + 1)\n",
    "    output_[i] = random_data[i,1 if j==10 or j==1 else j-1]\n",
    "    random_data[i,0] = add_user\n",
    "    if count == max_length: count = 0 ; np.random.seed(np.random.randint(1,99999)); add_user += 1 #to break for new user"
   ]
  },
  {
   "cell_type": "code",
   "execution_count": 93,
   "id": "streaming-castle",
   "metadata": {},
   "outputs": [
    {
     "data": {
      "text/plain": [
       "array([ 1.,  2., 50., 26.,  9., 49., 32.,  7.,  4.,  0.,  0.])"
      ]
     },
     "execution_count": 93,
     "metadata": {},
     "output_type": "execute_result"
    }
   ],
   "source": [
    "random_data[7]"
   ]
  },
  {
   "cell_type": "code",
   "execution_count": 94,
   "id": "functioning-newcastle",
   "metadata": {},
   "outputs": [
    {
     "data": {
      "text/plain": [
       "7.0"
      ]
     },
     "execution_count": 94,
     "metadata": {},
     "output_type": "execute_result"
    }
   ],
   "source": [
    "output_[7]"
   ]
  },
  {
   "cell_type": "code",
   "execution_count": 85,
   "id": "ethical-collectible",
   "metadata": {},
   "outputs": [
    {
     "data": {
      "text/plain": [
       "0"
      ]
     },
     "execution_count": 85,
     "metadata": {},
     "output_type": "execute_result"
    }
   ],
   "source": [
    "0 if j==10 or j==1 else j-1"
   ]
  },
  {
   "cell_type": "code",
   "execution_count": 86,
   "id": "genuine-moses",
   "metadata": {},
   "outputs": [
    {
     "data": {
      "text/plain": [
       "10"
      ]
     },
     "execution_count": 86,
     "metadata": {},
     "output_type": "execute_result"
    }
   ],
   "source": [
    "j"
   ]
  },
  {
   "cell_type": "code",
   "execution_count": null,
   "id": "weighted-cheat",
   "metadata": {},
   "outputs": [],
   "source": []
  }
 ],
 "metadata": {
  "kernelspec": {
   "display_name": "Python 3",
   "language": "python",
   "name": "python3"
  },
  "language_info": {
   "codemirror_mode": {
    "name": "ipython",
    "version": 3
   },
   "file_extension": ".py",
   "mimetype": "text/x-python",
   "name": "python",
   "nbconvert_exporter": "python",
   "pygments_lexer": "ipython3",
   "version": "3.7.8"
  }
 },
 "nbformat": 4,
 "nbformat_minor": 5
}
