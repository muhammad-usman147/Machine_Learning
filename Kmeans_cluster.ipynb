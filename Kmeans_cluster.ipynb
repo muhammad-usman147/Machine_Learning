{
  "nbformat": 4,
  "nbformat_minor": 0,
  "metadata": {
    "colab": {
      "name": "Kmeans-cluster.ipynb",
      "provenance": [],
      "collapsed_sections": []
    },
    "kernelspec": {
      "name": "python3",
      "display_name": "Python 3"
    },
    "language_info": {
      "name": "python"
    }
  },
  "cells": [
    {
      "cell_type": "code",
      "execution_count": 1,
      "metadata": {
        "id": "2IMQSFeF-ptb"
      },
      "outputs": [],
      "source": [
        "import pandas as pd"
      ]
    },
    {
      "cell_type": "code",
      "source": [
        "\n",
        "from google.colab import drive \n",
        "drive.mount('/content/drive')"
      ],
      "metadata": {
        "colab": {
          "base_uri": "https://localhost:8080/"
        },
        "id": "lT5qSdtTBQ2X",
        "outputId": "cf8faf04-3ee8-4f1e-e39b-86361436512c"
      },
      "execution_count": 2,
      "outputs": [
        {
          "output_type": "stream",
          "name": "stdout",
          "text": [
            "Mounted at /content/drive\n"
          ]
        }
      ]
    },
    {
      "cell_type": "code",
      "source": [
        "df = pd.read_excel('/content/drive/MyDrive/work/dataset.xlsx')\n",
        "df"
      ],
      "metadata": {
        "colab": {
          "base_uri": "https://localhost:8080/",
          "height": 424
        },
        "id": "XRELoaElEUbK",
        "outputId": "2665f545-b5b3-4751-8d47-20ff0b060a48"
      },
      "execution_count": 3,
      "outputs": [
        {
          "output_type": "execute_result",
          "data": {
            "text/plain": [
              "    Plate Number   Vehicle Driver ID  Color   Vehicle Category  Make   Model  \\\n",
              "0            0.15               0.23    0.35              0.44   0.53   0.67   \n",
              "1            0.15               0.25    0.39              0.46   0.55   0.63   \n",
              "2            0.13               0.22    0.31              0.49   0.55   0.63   \n",
              "3            0.19               0.25    0.35              0.42   0.56   0.67   \n",
              "4            0.12               0.27    0.39              0.43   0.57   0.67   \n",
              "..            ...                ...     ...               ...    ...    ...   \n",
              "95           0.19               0.24    0.36              0.44   0.58   0.69   \n",
              "96           0.19               0.30    0.36              0.46   0.51   0.67   \n",
              "97           0.14               0.27    0.40              0.43   0.50   0.62   \n",
              "98           0.12               0.29    0.35              0.40   0.58   0.67   \n",
              "99           0.19               0.21    0.31              0.45   0.53   0.68   \n",
              "\n",
              "    Entry Date   Entry Frequency   \n",
              "0          0.78              0.88  \n",
              "1          0.74              0.89  \n",
              "2          0.71              0.84  \n",
              "3          0.70              0.84  \n",
              "4          0.72              0.89  \n",
              "..          ...               ...  \n",
              "95         0.78              0.88  \n",
              "96         0.78              0.86  \n",
              "97         0.80              0.89  \n",
              "98         0.73              0.83  \n",
              "99         0.79              0.80  \n",
              "\n",
              "[100 rows x 8 columns]"
            ],
            "text/html": [
              "\n",
              "  <div id=\"df-2c7d4881-69e6-4a7c-bc51-c5fb45bbf6e8\">\n",
              "    <div class=\"colab-df-container\">\n",
              "      <div>\n",
              "<style scoped>\n",
              "    .dataframe tbody tr th:only-of-type {\n",
              "        vertical-align: middle;\n",
              "    }\n",
              "\n",
              "    .dataframe tbody tr th {\n",
              "        vertical-align: top;\n",
              "    }\n",
              "\n",
              "    .dataframe thead th {\n",
              "        text-align: right;\n",
              "    }\n",
              "</style>\n",
              "<table border=\"1\" class=\"dataframe\">\n",
              "  <thead>\n",
              "    <tr style=\"text-align: right;\">\n",
              "      <th></th>\n",
              "      <th>Plate Number</th>\n",
              "      <th>Vehicle Driver ID</th>\n",
              "      <th>Color</th>\n",
              "      <th>Vehicle Category</th>\n",
              "      <th>Make</th>\n",
              "      <th>Model</th>\n",
              "      <th>Entry Date</th>\n",
              "      <th>Entry Frequency</th>\n",
              "    </tr>\n",
              "  </thead>\n",
              "  <tbody>\n",
              "    <tr>\n",
              "      <th>0</th>\n",
              "      <td>0.15</td>\n",
              "      <td>0.23</td>\n",
              "      <td>0.35</td>\n",
              "      <td>0.44</td>\n",
              "      <td>0.53</td>\n",
              "      <td>0.67</td>\n",
              "      <td>0.78</td>\n",
              "      <td>0.88</td>\n",
              "    </tr>\n",
              "    <tr>\n",
              "      <th>1</th>\n",
              "      <td>0.15</td>\n",
              "      <td>0.25</td>\n",
              "      <td>0.39</td>\n",
              "      <td>0.46</td>\n",
              "      <td>0.55</td>\n",
              "      <td>0.63</td>\n",
              "      <td>0.74</td>\n",
              "      <td>0.89</td>\n",
              "    </tr>\n",
              "    <tr>\n",
              "      <th>2</th>\n",
              "      <td>0.13</td>\n",
              "      <td>0.22</td>\n",
              "      <td>0.31</td>\n",
              "      <td>0.49</td>\n",
              "      <td>0.55</td>\n",
              "      <td>0.63</td>\n",
              "      <td>0.71</td>\n",
              "      <td>0.84</td>\n",
              "    </tr>\n",
              "    <tr>\n",
              "      <th>3</th>\n",
              "      <td>0.19</td>\n",
              "      <td>0.25</td>\n",
              "      <td>0.35</td>\n",
              "      <td>0.42</td>\n",
              "      <td>0.56</td>\n",
              "      <td>0.67</td>\n",
              "      <td>0.70</td>\n",
              "      <td>0.84</td>\n",
              "    </tr>\n",
              "    <tr>\n",
              "      <th>4</th>\n",
              "      <td>0.12</td>\n",
              "      <td>0.27</td>\n",
              "      <td>0.39</td>\n",
              "      <td>0.43</td>\n",
              "      <td>0.57</td>\n",
              "      <td>0.67</td>\n",
              "      <td>0.72</td>\n",
              "      <td>0.89</td>\n",
              "    </tr>\n",
              "    <tr>\n",
              "      <th>...</th>\n",
              "      <td>...</td>\n",
              "      <td>...</td>\n",
              "      <td>...</td>\n",
              "      <td>...</td>\n",
              "      <td>...</td>\n",
              "      <td>...</td>\n",
              "      <td>...</td>\n",
              "      <td>...</td>\n",
              "    </tr>\n",
              "    <tr>\n",
              "      <th>95</th>\n",
              "      <td>0.19</td>\n",
              "      <td>0.24</td>\n",
              "      <td>0.36</td>\n",
              "      <td>0.44</td>\n",
              "      <td>0.58</td>\n",
              "      <td>0.69</td>\n",
              "      <td>0.78</td>\n",
              "      <td>0.88</td>\n",
              "    </tr>\n",
              "    <tr>\n",
              "      <th>96</th>\n",
              "      <td>0.19</td>\n",
              "      <td>0.30</td>\n",
              "      <td>0.36</td>\n",
              "      <td>0.46</td>\n",
              "      <td>0.51</td>\n",
              "      <td>0.67</td>\n",
              "      <td>0.78</td>\n",
              "      <td>0.86</td>\n",
              "    </tr>\n",
              "    <tr>\n",
              "      <th>97</th>\n",
              "      <td>0.14</td>\n",
              "      <td>0.27</td>\n",
              "      <td>0.40</td>\n",
              "      <td>0.43</td>\n",
              "      <td>0.50</td>\n",
              "      <td>0.62</td>\n",
              "      <td>0.80</td>\n",
              "      <td>0.89</td>\n",
              "    </tr>\n",
              "    <tr>\n",
              "      <th>98</th>\n",
              "      <td>0.12</td>\n",
              "      <td>0.29</td>\n",
              "      <td>0.35</td>\n",
              "      <td>0.40</td>\n",
              "      <td>0.58</td>\n",
              "      <td>0.67</td>\n",
              "      <td>0.73</td>\n",
              "      <td>0.83</td>\n",
              "    </tr>\n",
              "    <tr>\n",
              "      <th>99</th>\n",
              "      <td>0.19</td>\n",
              "      <td>0.21</td>\n",
              "      <td>0.31</td>\n",
              "      <td>0.45</td>\n",
              "      <td>0.53</td>\n",
              "      <td>0.68</td>\n",
              "      <td>0.79</td>\n",
              "      <td>0.80</td>\n",
              "    </tr>\n",
              "  </tbody>\n",
              "</table>\n",
              "<p>100 rows × 8 columns</p>\n",
              "</div>\n",
              "      <button class=\"colab-df-convert\" onclick=\"convertToInteractive('df-2c7d4881-69e6-4a7c-bc51-c5fb45bbf6e8')\"\n",
              "              title=\"Convert this dataframe to an interactive table.\"\n",
              "              style=\"display:none;\">\n",
              "        \n",
              "  <svg xmlns=\"http://www.w3.org/2000/svg\" height=\"24px\"viewBox=\"0 0 24 24\"\n",
              "       width=\"24px\">\n",
              "    <path d=\"M0 0h24v24H0V0z\" fill=\"none\"/>\n",
              "    <path d=\"M18.56 5.44l.94 2.06.94-2.06 2.06-.94-2.06-.94-.94-2.06-.94 2.06-2.06.94zm-11 1L8.5 8.5l.94-2.06 2.06-.94-2.06-.94L8.5 2.5l-.94 2.06-2.06.94zm10 10l.94 2.06.94-2.06 2.06-.94-2.06-.94-.94-2.06-.94 2.06-2.06.94z\"/><path d=\"M17.41 7.96l-1.37-1.37c-.4-.4-.92-.59-1.43-.59-.52 0-1.04.2-1.43.59L10.3 9.45l-7.72 7.72c-.78.78-.78 2.05 0 2.83L4 21.41c.39.39.9.59 1.41.59.51 0 1.02-.2 1.41-.59l7.78-7.78 2.81-2.81c.8-.78.8-2.07 0-2.86zM5.41 20L4 18.59l7.72-7.72 1.47 1.35L5.41 20z\"/>\n",
              "  </svg>\n",
              "      </button>\n",
              "      \n",
              "  <style>\n",
              "    .colab-df-container {\n",
              "      display:flex;\n",
              "      flex-wrap:wrap;\n",
              "      gap: 12px;\n",
              "    }\n",
              "\n",
              "    .colab-df-convert {\n",
              "      background-color: #E8F0FE;\n",
              "      border: none;\n",
              "      border-radius: 50%;\n",
              "      cursor: pointer;\n",
              "      display: none;\n",
              "      fill: #1967D2;\n",
              "      height: 32px;\n",
              "      padding: 0 0 0 0;\n",
              "      width: 32px;\n",
              "    }\n",
              "\n",
              "    .colab-df-convert:hover {\n",
              "      background-color: #E2EBFA;\n",
              "      box-shadow: 0px 1px 2px rgba(60, 64, 67, 0.3), 0px 1px 3px 1px rgba(60, 64, 67, 0.15);\n",
              "      fill: #174EA6;\n",
              "    }\n",
              "\n",
              "    [theme=dark] .colab-df-convert {\n",
              "      background-color: #3B4455;\n",
              "      fill: #D2E3FC;\n",
              "    }\n",
              "\n",
              "    [theme=dark] .colab-df-convert:hover {\n",
              "      background-color: #434B5C;\n",
              "      box-shadow: 0px 1px 3px 1px rgba(0, 0, 0, 0.15);\n",
              "      filter: drop-shadow(0px 1px 2px rgba(0, 0, 0, 0.3));\n",
              "      fill: #FFFFFF;\n",
              "    }\n",
              "  </style>\n",
              "\n",
              "      <script>\n",
              "        const buttonEl =\n",
              "          document.querySelector('#df-2c7d4881-69e6-4a7c-bc51-c5fb45bbf6e8 button.colab-df-convert');\n",
              "        buttonEl.style.display =\n",
              "          google.colab.kernel.accessAllowed ? 'block' : 'none';\n",
              "\n",
              "        async function convertToInteractive(key) {\n",
              "          const element = document.querySelector('#df-2c7d4881-69e6-4a7c-bc51-c5fb45bbf6e8');\n",
              "          const dataTable =\n",
              "            await google.colab.kernel.invokeFunction('convertToInteractive',\n",
              "                                                     [key], {});\n",
              "          if (!dataTable) return;\n",
              "\n",
              "          const docLinkHtml = 'Like what you see? Visit the ' +\n",
              "            '<a target=\"_blank\" href=https://colab.research.google.com/notebooks/data_table.ipynb>data table notebook</a>'\n",
              "            + ' to learn more about interactive tables.';\n",
              "          element.innerHTML = '';\n",
              "          dataTable['output_type'] = 'display_data';\n",
              "          await google.colab.output.renderOutput(dataTable, element);\n",
              "          const docLink = document.createElement('div');\n",
              "          docLink.innerHTML = docLinkHtml;\n",
              "          element.appendChild(docLink);\n",
              "        }\n",
              "      </script>\n",
              "    </div>\n",
              "  </div>\n",
              "  "
            ]
          },
          "metadata": {},
          "execution_count": 3
        }
      ]
    },
    {
      "cell_type": "code",
      "source": [
        "import matplotlib.pyplot as plt \n",
        "from sklearn.cluster import KMeans \n",
        "%matplotlib inline"
      ],
      "metadata": {
        "id": "C2EJ3pEXEkiZ"
      },
      "execution_count": 4,
      "outputs": []
    },
    {
      "cell_type": "code",
      "source": [
        "plt.scatter(df.iloc[:,0],df.iloc[:,1])"
      ],
      "metadata": {
        "colab": {
          "base_uri": "https://localhost:8080/",
          "height": 284
        },
        "id": "C2KrPs8IGHNw",
        "outputId": "a75ae754-f4cb-4602-e2b1-0528c2e46f5f"
      },
      "execution_count": 5,
      "outputs": [
        {
          "output_type": "execute_result",
          "data": {
            "text/plain": [
              "<matplotlib.collections.PathCollection at 0x7ff9c80ecfd0>"
            ]
          },
          "metadata": {},
          "execution_count": 5
        },
        {
          "output_type": "display_data",
          "data": {
            "text/plain": [
              "<Figure size 432x288 with 1 Axes>"
            ],
            "image/png": "[encoded data removed]"
          },
          "metadata": {
            "needs_background": "light"
          }
        }
      ]
    },
    {
      "cell_type": "markdown",
      "source": [
        "# N = 2 Clusters"
      ],
      "metadata": {
        "id": "ts-uj3MoMiuY"
      }
    },
    {
      "cell_type": "code",
      "source": [
        "kmean_model = KMeans(init='k-means++',n_clusters = 8,max_iter = 200,n_init=10)\n",
        "kmean_model.fit(df)"
      ],
      "metadata": {
        "colab": {
          "base_uri": "https://localhost:8080/"
        },
        "id": "HWmsfo2XLtob",
        "outputId": "2baa067c-fd81-4f3e-cf66-48063842ad67"
      },
      "execution_count": 6,
      "outputs": [
        {
          "output_type": "execute_result",
          "data": {
            "text/plain": [
              "KMeans(max_iter=200)"
            ]
          },
          "metadata": {},
          "execution_count": 6
        }
      ]
    },
    {
      "cell_type": "code",
      "source": [
        "kmean_model.cluster_centers_"
      ],
      "metadata": {
        "colab": {
          "base_uri": "https://localhost:8080/"
        },
        "id": "LurnECTcMoq9",
        "outputId": "69276e93-4137-4632-c78b-8f52ea026455"
      },
      "execution_count": 7,
      "outputs": [
        {
          "output_type": "execute_result",
          "data": {
            "text/plain": [
              "array([[0.1525    , 0.27625   , 0.31125   , 0.48125   , 0.5425    ,\n",
              "        0.67875   , 0.7575    , 0.85375   ],\n",
              "       [0.16875   , 0.228125  , 0.341875  , 0.454375  , 0.541875  ,\n",
              "        0.661875  , 0.775625  , 0.8375    ],\n",
              "       [0.14933333, 0.26      , 0.34933333, 0.45466667, 0.57466667,\n",
              "        0.634     , 0.728     , 0.882     ],\n",
              "       [0.16222222, 0.27333333, 0.37555556, 0.42333333, 0.51888889,\n",
              "        0.63555556, 0.77555556, 0.87888889],\n",
              "       [0.14      , 0.25545455, 0.38363636, 0.43636364, 0.54454545,\n",
              "        0.61727273, 0.72090909, 0.81909091],\n",
              "       [0.13142857, 0.26071429, 0.38357143, 0.44357143, 0.53357143,\n",
              "        0.67642857, 0.73285714, 0.86071429],\n",
              "       [0.11181818, 0.23636364, 0.33      , 0.48090909, 0.53      ,\n",
              "        0.64454545, 0.75181818, 0.83818182],\n",
              "       [0.15125   , 0.263125  , 0.34625   , 0.43      , 0.575     ,\n",
              "        0.658125  , 0.75125   , 0.81625   ]])"
            ]
          },
          "metadata": {},
          "execution_count": 7
        }
      ]
    },
    {
      "cell_type": "code",
      "source": [
        "predict = kmean_model.predict(df)\n",
        "\n",
        "plt.scatter(df.iloc[:,2],df.iloc[:,3],c = predict,cmap = 'viridis')\n",
        "#plt.scatter(kmean_model.cluster_centers_[:,2],kmean_model.cluster_centers_[:,3],c='red')\n"
      ],
      "metadata": {
        "colab": {
          "base_uri": "https://localhost:8080/",
          "height": 284
        },
        "id": "m6v-jTSuxP4t",
        "outputId": "0397cb27-df55-4f7b-bcce-40a37298efc5"
      },
      "execution_count": 8,
      "outputs": [
        {
          "output_type": "execute_result",
          "data": {
            "text/plain": [
              "<matplotlib.collections.PathCollection at 0x7ff9c2b89950>"
            ]
          },
          "metadata": {},
          "execution_count": 8
        },
        {
          "output_type": "display_data",
          "data": {
            "text/plain": [
              "<Figure size 432x288 with 1 Axes>"
            ],
            "image/png": "[encoded data removed]"
          },
          "metadata": {
            "needs_background": "light"
          }
        }
      ]
    },
    {
      "cell_type": "code",
      "source": [
        "predict = kmean_model.predict(df)\n",
        "plt.scatter(df.iloc[:,2],df.iloc[:,3],c = predict,cmap = 'viridis')\n",
        "plt.scatter(kmean_model.cluster_centers_[:,2],kmean_model.cluster_centers_[:,3],c='red',marker = 'x')\n"
      ],
      "metadata": {
        "colab": {
          "base_uri": "https://localhost:8080/",
          "height": 284
        },
        "id": "U4O3TE-RMqY3",
        "outputId": "912453f1-a422-4d33-9052-78b4a21049f7"
      },
      "execution_count": 9,
      "outputs": [
        {
          "output_type": "execute_result",
          "data": {
            "text/plain": [
              "<matplotlib.collections.PathCollection at 0x7ff9c2b09fd0>"
            ]
          },
          "metadata": {},
          "execution_count": 9
        },
        {
          "output_type": "display_data",
          "data": {
            "text/plain": [
              "<Figure size 432x288 with 1 Axes>"
            ],
            "image/png": "[encoded data removed]"
          },
          "metadata": {
            "needs_background": "light"
          }
        }
      ]
    },
    {
      "cell_type": "code",
      "source": [
        "plt.scatter(df.iloc[:,0],df.iloc[:,1],c = predict,cmap = 'viridis')\n",
        "plt.scatter(kmean_model.cluster_centers_[0,0],kmean_model.cluster_centers_[0,1],c='red',s=50000,alpha = 0.2)\n",
        "\n",
        "plt.scatter(kmean_model.cluster_centers_[1,0],kmean_model.cluster_centers_[1,1],c='green',s=50000,alpha = 0.4)\n"
      ],
      "metadata": {
        "colab": {
          "base_uri": "https://localhost:8080/",
          "height": 284
        },
        "id": "Ic7kPl3RNSZk",
        "outputId": "403159a5-c72d-46cb-d31d-61ae5f1dca39"
      },
      "execution_count": 10,
      "outputs": [
        {
          "output_type": "execute_result",
          "data": {
            "text/plain": [
              "<matplotlib.collections.PathCollection at 0x7ff9c2a903d0>"
            ]
          },
          "metadata": {},
          "execution_count": 10
        },
        {
          "output_type": "display_data",
          "data": {
            "text/plain": [
              "<Figure size 432x288 with 1 Axes>"
            ],
            "image/png": "[encoded data removed]"
          },
          "metadata": {
            "needs_background": "light"
          }
        }
      ]
    },
    {
      "cell_type": "code",
      "source": [
        "kmean_model.cluster_centers_"
      ],
      "metadata": {
        "colab": {
          "base_uri": "https://localhost:8080/"
        },
        "id": "KXNzj1-SNb8y",
        "outputId": "54734bce-63e8-4c51-ec05-c86d794ad113"
      },
      "execution_count": 11,
      "outputs": [
        {
          "output_type": "execute_result",
          "data": {
            "text/plain": [
              "array([[0.1525    , 0.27625   , 0.31125   , 0.48125   , 0.5425    ,\n",
              "        0.67875   , 0.7575    , 0.85375   ],\n",
              "       [0.16875   , 0.228125  , 0.341875  , 0.454375  , 0.541875  ,\n",
              "        0.661875  , 0.775625  , 0.8375    ],\n",
              "       [0.14933333, 0.26      , 0.34933333, 0.45466667, 0.57466667,\n",
              "        0.634     , 0.728     , 0.882     ],\n",
              "       [0.16222222, 0.27333333, 0.37555556, 0.42333333, 0.51888889,\n",
              "        0.63555556, 0.77555556, 0.87888889],\n",
              "       [0.14      , 0.25545455, 0.38363636, 0.43636364, 0.54454545,\n",
              "        0.61727273, 0.72090909, 0.81909091],\n",
              "       [0.13142857, 0.26071429, 0.38357143, 0.44357143, 0.53357143,\n",
              "        0.67642857, 0.73285714, 0.86071429],\n",
              "       [0.11181818, 0.23636364, 0.33      , 0.48090909, 0.53      ,\n",
              "        0.64454545, 0.75181818, 0.83818182],\n",
              "       [0.15125   , 0.263125  , 0.34625   , 0.43      , 0.575     ,\n",
              "        0.658125  , 0.75125   , 0.81625   ]])"
            ]
          },
          "metadata": {},
          "execution_count": 11
        }
      ]
    },
    {
      "cell_type": "code",
      "source": [
        "df['target'] = predict"
      ],
      "metadata": {
        "id": "gH9KzWgSNxRt"
      },
      "execution_count": 13,
      "outputs": []
    },
    {
      "cell_type": "code",
      "source": [
        "df"
      ],
      "metadata": {
        "colab": {
          "base_uri": "https://localhost:8080/",
          "height": 467
        },
        "id": "4d-gGT8KoAs7",
        "outputId": "0b28e9ae-a678-40bd-f4cc-93f55afbc59e"
      },
      "execution_count": 14,
      "outputs": [
        {
          "output_type": "execute_result",
          "data": {
            "text/plain": [
              "    Plate Number   Vehicle Driver ID  Color   Vehicle Category  Make   Model  \\\n",
              "0            0.15               0.23    0.35              0.44   0.53   0.67   \n",
              "1            0.15               0.25    0.39              0.46   0.55   0.63   \n",
              "2            0.13               0.22    0.31              0.49   0.55   0.63   \n",
              "3            0.19               0.25    0.35              0.42   0.56   0.67   \n",
              "4            0.12               0.27    0.39              0.43   0.57   0.67   \n",
              "..            ...                ...     ...               ...    ...    ...   \n",
              "95           0.19               0.24    0.36              0.44   0.58   0.69   \n",
              "96           0.19               0.30    0.36              0.46   0.51   0.67   \n",
              "97           0.14               0.27    0.40              0.43   0.50   0.62   \n",
              "98           0.12               0.29    0.35              0.40   0.58   0.67   \n",
              "99           0.19               0.21    0.31              0.45   0.53   0.68   \n",
              "\n",
              "    Entry Date   Entry Frequency   target  \n",
              "0          0.78              0.88       1  \n",
              "1          0.74              0.89       2  \n",
              "2          0.71              0.84       6  \n",
              "3          0.70              0.84       7  \n",
              "4          0.72              0.89       5  \n",
              "..          ...               ...     ...  \n",
              "95         0.78              0.88       1  \n",
              "96         0.78              0.86       3  \n",
              "97         0.80              0.89       3  \n",
              "98         0.73              0.83       7  \n",
              "99         0.79              0.80       1  \n",
              "\n",
              "[100 rows x 9 columns]"
            ],
            "text/html": [
              "\n",
              "  <div id=\"df-586e5128-ca3f-4c30-a980-1bea8101beb7\">\n",
              "    <div class=\"colab-df-container\">\n",
              "      <div>\n",
              "<style scoped>\n",
              "    .dataframe tbody tr th:only-of-type {\n",
              "        vertical-align: middle;\n",
              "    }\n",
              "\n",
              "    .dataframe tbody tr th {\n",
              "        vertical-align: top;\n",
              "    }\n",
              "\n",
              "    .dataframe thead th {\n",
              "        text-align: right;\n",
              "    }\n",
              "</style>\n",
              "<table border=\"1\" class=\"dataframe\">\n",
              "  <thead>\n",
              "    <tr style=\"text-align: right;\">\n",
              "      <th></th>\n",
              "      <th>Plate Number</th>\n",
              "      <th>Vehicle Driver ID</th>\n",
              "      <th>Color</th>\n",
              "      <th>Vehicle Category</th>\n",
              "      <th>Make</th>\n",
              "      <th>Model</th>\n",
              "      <th>Entry Date</th>\n",
              "      <th>Entry Frequency</th>\n",
              "      <th>target</th>\n",
              "    </tr>\n",
              "  </thead>\n",
              "  <tbody>\n",
              "    <tr>\n",
              "      <th>0</th>\n",
              "      <td>0.15</td>\n",
              "      <td>0.23</td>\n",
              "      <td>0.35</td>\n",
              "      <td>0.44</td>\n",
              "      <td>0.53</td>\n",
              "      <td>0.67</td>\n",
              "      <td>0.78</td>\n",
              "      <td>0.88</td>\n",
              "      <td>1</td>\n",
              "    </tr>\n",
              "    <tr>\n",
              "      <th>1</th>\n",
              "      <td>0.15</td>\n",
              "      <td>0.25</td>\n",
              "      <td>0.39</td>\n",
              "      <td>0.46</td>\n",
              "      <td>0.55</td>\n",
              "      <td>0.63</td>\n",
              "      <td>0.74</td>\n",
              "      <td>0.89</td>\n",
              "      <td>2</td>\n",
              "    </tr>\n",
              "    <tr>\n",
              "      <th>2</th>\n",
              "      <td>0.13</td>\n",
              "      <td>0.22</td>\n",
              "      <td>0.31</td>\n",
              "      <td>0.49</td>\n",
              "      <td>0.55</td>\n",
              "      <td>0.63</td>\n",
              "      <td>0.71</td>\n",
              "      <td>0.84</td>\n",
              "      <td>6</td>\n",
              "    </tr>\n",
              "    <tr>\n",
              "      <th>3</th>\n",
              "      <td>0.19</td>\n",
              "      <td>0.25</td>\n",
              "      <td>0.35</td>\n",
              "      <td>0.42</td>\n",
              "      <td>0.56</td>\n",
              "      <td>0.67</td>\n",
              "      <td>0.70</td>\n",
              "      <td>0.84</td>\n",
              "      <td>7</td>\n",
              "    </tr>\n",
              "    <tr>\n",
              "      <th>4</th>\n",
              "      <td>0.12</td>\n",
              "      <td>0.27</td>\n",
              "      <td>0.39</td>\n",
              "      <td>0.43</td>\n",
              "      <td>0.57</td>\n",
              "      <td>0.67</td>\n",
              "      <td>0.72</td>\n",
              "      <td>0.89</td>\n",
              "      <td>5</td>\n",
              "    </tr>\n",
              "    <tr>\n",
              "      <th>...</th>\n",
              "      <td>...</td>\n",
              "      <td>...</td>\n",
              "      <td>...</td>\n",
              "      <td>...</td>\n",
              "      <td>...</td>\n",
              "      <td>...</td>\n",
              "      <td>...</td>\n",
              "      <td>...</td>\n",
              "      <td>...</td>\n",
              "    </tr>\n",
              "    <tr>\n",
              "      <th>95</th>\n",
              "      <td>0.19</td>\n",
              "      <td>0.24</td>\n",
              "      <td>0.36</td>\n",
              "      <td>0.44</td>\n",
              "      <td>0.58</td>\n",
              "      <td>0.69</td>\n",
              "      <td>0.78</td>\n",
              "      <td>0.88</td>\n",
              "      <td>1</td>\n",
              "    </tr>\n",
              "    <tr>\n",
              "      <th>96</th>\n",
              "      <td>0.19</td>\n",
              "      <td>0.30</td>\n",
              "      <td>0.36</td>\n",
              "      <td>0.46</td>\n",
              "      <td>0.51</td>\n",
              "      <td>0.67</td>\n",
              "      <td>0.78</td>\n",
              "      <td>0.86</td>\n",
              "      <td>3</td>\n",
              "    </tr>\n",
              "    <tr>\n",
              "      <th>97</th>\n",
              "      <td>0.14</td>\n",
              "      <td>0.27</td>\n",
              "      <td>0.40</td>\n",
              "      <td>0.43</td>\n",
              "      <td>0.50</td>\n",
              "      <td>0.62</td>\n",
              "      <td>0.80</td>\n",
              "      <td>0.89</td>\n",
              "      <td>3</td>\n",
              "    </tr>\n",
              "    <tr>\n",
              "      <th>98</th>\n",
              "      <td>0.12</td>\n",
              "      <td>0.29</td>\n",
              "      <td>0.35</td>\n",
              "      <td>0.40</td>\n",
              "      <td>0.58</td>\n",
              "      <td>0.67</td>\n",
              "      <td>0.73</td>\n",
              "      <td>0.83</td>\n",
              "      <td>7</td>\n",
              "    </tr>\n",
              "    <tr>\n",
              "      <th>99</th>\n",
              "      <td>0.19</td>\n",
              "      <td>0.21</td>\n",
              "      <td>0.31</td>\n",
              "      <td>0.45</td>\n",
              "      <td>0.53</td>\n",
              "      <td>0.68</td>\n",
              "      <td>0.79</td>\n",
              "      <td>0.80</td>\n",
              "      <td>1</td>\n",
              "    </tr>\n",
              "  </tbody>\n",
              "</table>\n",
              "<p>100 rows × 9 columns</p>\n",
              "</div>\n",
              "      <button class=\"colab-df-convert\" onclick=\"convertToInteractive('df-586e5128-ca3f-4c30-a980-1bea8101beb7')\"\n",
              "              title=\"Convert this dataframe to an interactive table.\"\n",
              "              style=\"display:none;\">\n",
              "        \n",
              "  <svg xmlns=\"http://www.w3.org/2000/svg\" height=\"24px\"viewBox=\"0 0 24 24\"\n",
              "       width=\"24px\">\n",
              "    <path d=\"M0 0h24v24H0V0z\" fill=\"none\"/>\n",
              "    <path d=\"M18.56 5.44l.94 2.06.94-2.06 2.06-.94-2.06-.94-.94-2.06-.94 2.06-2.06.94zm-11 1L8.5 8.5l.94-2.06 2.06-.94-2.06-.94L8.5 2.5l-.94 2.06-2.06.94zm10 10l.94 2.06.94-2.06 2.06-.94-2.06-.94-.94-2.06-.94 2.06-2.06.94z\"/><path d=\"M17.41 7.96l-1.37-1.37c-.4-.4-.92-.59-1.43-.59-.52 0-1.04.2-1.43.59L10.3 9.45l-7.72 7.72c-.78.78-.78 2.05 0 2.83L4 21.41c.39.39.9.59 1.41.59.51 0 1.02-.2 1.41-.59l7.78-7.78 2.81-2.81c.8-.78.8-2.07 0-2.86zM5.41 20L4 18.59l7.72-7.72 1.47 1.35L5.41 20z\"/>\n",
              "  </svg>\n",
              "      </button>\n",
              "      \n",
              "  <style>\n",
              "    .colab-df-container {\n",
              "      display:flex;\n",
              "      flex-wrap:wrap;\n",
              "      gap: 12px;\n",
              "    }\n",
              "\n",
              "    .colab-df-convert {\n",
              "      background-color: #E8F0FE;\n",
              "      border: none;\n",
              "      border-radius: 50%;\n",
              "      cursor: pointer;\n",
              "      display: none;\n",
              "      fill: #1967D2;\n",
              "      height: 32px;\n",
              "      padding: 0 0 0 0;\n",
              "      width: 32px;\n",
              "    }\n",
              "\n",
              "    .colab-df-convert:hover {\n",
              "      background-color: #E2EBFA;\n",
              "      box-shadow: 0px 1px 2px rgba(60, 64, 67, 0.3), 0px 1px 3px 1px rgba(60, 64, 67, 0.15);\n",
              "      fill: #174EA6;\n",
              "    }\n",
              "\n",
              "    [theme=dark] .colab-df-convert {\n",
              "      background-color: #3B4455;\n",
              "      fill: #D2E3FC;\n",
              "    }\n",
              "\n",
              "    [theme=dark] .colab-df-convert:hover {\n",
              "      background-color: #434B5C;\n",
              "      box-shadow: 0px 1px 3px 1px rgba(0, 0, 0, 0.15);\n",
              "      filter: drop-shadow(0px 1px 2px rgba(0, 0, 0, 0.3));\n",
              "      fill: #FFFFFF;\n",
              "    }\n",
              "  </style>\n",
              "\n",
              "      <script>\n",
              "        const buttonEl =\n",
              "          document.querySelector('#df-586e5128-ca3f-4c30-a980-1bea8101beb7 button.colab-df-convert');\n",
              "        buttonEl.style.display =\n",
              "          google.colab.kernel.accessAllowed ? 'block' : 'none';\n",
              "\n",
              "        async function convertToInteractive(key) {\n",
              "          const element = document.querySelector('#df-586e5128-ca3f-4c30-a980-1bea8101beb7');\n",
              "          const dataTable =\n",
              "            await google.colab.kernel.invokeFunction('convertToInteractive',\n",
              "                                                     [key], {});\n",
              "          if (!dataTable) return;\n",
              "\n",
              "          const docLinkHtml = 'Like what you see? Visit the ' +\n",
              "            '<a target=\"_blank\" href=https://colab.research.google.com/notebooks/data_table.ipynb>data table notebook</a>'\n",
              "            + ' to learn more about interactive tables.';\n",
              "          element.innerHTML = '';\n",
              "          dataTable['output_type'] = 'display_data';\n",
              "          await google.colab.output.renderOutput(dataTable, element);\n",
              "          const docLink = document.createElement('div');\n",
              "          docLink.innerHTML = docLinkHtml;\n",
              "          element.appendChild(docLink);\n",
              "        }\n",
              "      </script>\n",
              "    </div>\n",
              "  </div>\n",
              "  "
            ]
          },
          "metadata": {},
          "execution_count": 14
        }
      ]
    },
    {
      "cell_type": "code",
      "source": [
        "kmean_model.cluster_centers_"
      ],
      "metadata": {
        "colab": {
          "base_uri": "https://localhost:8080/"
        },
        "id": "fJ1o3BqnqUB2",
        "outputId": "bb136dc3-cbb0-4583-8f6c-b37e36b1bbf8"
      },
      "execution_count": 27,
      "outputs": [
        {
          "output_type": "execute_result",
          "data": {
            "text/plain": [
              "array([[0.1525    , 0.27625   , 0.31125   , 0.48125   , 0.5425    ,\n",
              "        0.67875   , 0.7575    , 0.85375   ],\n",
              "       [0.16875   , 0.228125  , 0.341875  , 0.454375  , 0.541875  ,\n",
              "        0.661875  , 0.775625  , 0.8375    ],\n",
              "       [0.14933333, 0.26      , 0.34933333, 0.45466667, 0.57466667,\n",
              "        0.634     , 0.728     , 0.882     ],\n",
              "       [0.16222222, 0.27333333, 0.37555556, 0.42333333, 0.51888889,\n",
              "        0.63555556, 0.77555556, 0.87888889],\n",
              "       [0.14      , 0.25545455, 0.38363636, 0.43636364, 0.54454545,\n",
              "        0.61727273, 0.72090909, 0.81909091],\n",
              "       [0.13142857, 0.26071429, 0.38357143, 0.44357143, 0.53357143,\n",
              "        0.67642857, 0.73285714, 0.86071429],\n",
              "       [0.11181818, 0.23636364, 0.33      , 0.48090909, 0.53      ,\n",
              "        0.64454545, 0.75181818, 0.83818182],\n",
              "       [0.15125   , 0.263125  , 0.34625   , 0.43      , 0.575     ,\n",
              "        0.658125  , 0.75125   , 0.81625   ]])"
            ]
          },
          "metadata": {},
          "execution_count": 27
        }
      ]
    },
    {
      "cell_type": "code",
      "source": [
        "#df[df['target']==1]\n",
        "plt.scatter(df[df['target']==1].iloc[:,0],df[df['target']==1].iloc[:,1],cmap = 'viridis')\n",
        "plt.scatter(kmean_model.cluster_centers_[1,0],kmean_model.cluster_centers_[1,1],c='red',marker = 'x')\n",
        "\n"
      ],
      "metadata": {
        "colab": {
          "base_uri": "https://localhost:8080/",
          "height": 284
        },
        "id": "-P3gUeu4oGoq",
        "outputId": "be7360c7-e291-4a97-bf7c-dd8d12ac4daa"
      },
      "execution_count": 26,
      "outputs": [
        {
          "output_type": "execute_result",
          "data": {
            "text/plain": [
              "<matplotlib.collections.PathCollection at 0x7ff9c06c0c90>"
            ]
          },
          "metadata": {},
          "execution_count": 26
        },
        {
          "output_type": "display_data",
          "data": {
            "text/plain": [
              "<Figure size 432x288 with 1 Axes>"
            ],
            "image/png": "[encoded data removed]"
          },
          "metadata": {
            "needs_background": "light"
          }
        }
      ]
    },
    {
      "cell_type": "code",
      "source": [
        "#df[df['target']==1]\n",
        "\n",
        "plt.scatter(df[df['target']==2].iloc[:,0],df[df['target']==2].iloc[:,1],cmap = 'viridis',color='orange')\n",
        "plt.scatter(kmean_model.cluster_centers_[2,0],kmean_model.cluster_centers_[2,1],c='red',marker = 'x')\n",
        "\n"
      ],
      "metadata": {
        "colab": {
          "base_uri": "https://localhost:8080/",
          "height": 284
        },
        "id": "fLoMzb7SoVSO",
        "outputId": "f7dcee9f-b50d-477a-bf64-91dbb5515761"
      },
      "execution_count": 29,
      "outputs": [
        {
          "output_type": "execute_result",
          "data": {
            "text/plain": [
              "<matplotlib.collections.PathCollection at 0x7ff9c05b28d0>"
            ]
          },
          "metadata": {},
          "execution_count": 29
        },
        {
          "output_type": "display_data",
          "data": {
            "text/plain": [
              "<Figure size 432x288 with 1 Axes>"
            ],
            "image/png": "[encoded data removed]"
          },
          "metadata": {
            "needs_background": "light"
          }
        }
      ]
    },
    {
      "cell_type": "code",
      "source": [
        "plt.scatter(df[df['target']==3].iloc[:,0],df[df['target']==3].iloc[:,1],cmap = 'viridis',color='purple')\n",
        "plt.scatter(kmean_model.cluster_centers_[3,0],kmean_model.cluster_centers_[3,1],c='red',marker = 'x')\n",
        "\n"
      ],
      "metadata": {
        "colab": {
          "base_uri": "https://localhost:8080/",
          "height": 284
        },
        "id": "L5o1rVKMoepL",
        "outputId": "972606c4-db07-4482-a69c-6cdee536d520"
      },
      "execution_count": 30,
      "outputs": [
        {
          "output_type": "execute_result",
          "data": {
            "text/plain": [
              "<matplotlib.collections.PathCollection at 0x7ff9c0bc2650>"
            ]
          },
          "metadata": {},
          "execution_count": 30
        },
        {
          "output_type": "display_data",
          "data": {
            "text/plain": [
              "<Figure size 432x288 with 1 Axes>"
            ],
            "image/png": "[encoded data removed]"
          },
          "metadata": {
            "needs_background": "light"
          }
        }
      ]
    },
    {
      "cell_type": "code",
      "source": [
        "plt.scatter(df[df['target']==4].iloc[:,0],df[df['target']==4].iloc[:,1],cmap = 'viridis',color='blue')\n",
        "plt.scatter(kmean_model.cluster_centers_[4,0],kmean_model.cluster_centers_[4,1],c='red',marker = 'x')\n"
      ],
      "metadata": {
        "colab": {
          "base_uri": "https://localhost:8080/",
          "height": 284
        },
        "id": "WUawckEhu9Jh",
        "outputId": "fd8a9dca-bbd8-4713-c07a-164e83b55a9c"
      },
      "execution_count": 32,
      "outputs": [
        {
          "output_type": "execute_result",
          "data": {
            "text/plain": [
              "<matplotlib.collections.PathCollection at 0x7ff9c0585cd0>"
            ]
          },
          "metadata": {},
          "execution_count": 32
        },
        {
          "output_type": "display_data",
          "data": {
            "text/plain": [
              "<Figure size 432x288 with 1 Axes>"
            ],
            "image/png": "[encoded data removed]"
          },
          "metadata": {
            "needs_background": "light"
          }
        }
      ]
    },
    {
      "cell_type": "code",
      "source": [
        ""
      ],
      "metadata": {
        "id": "xnYVV17mvH8B"
      },
      "execution_count": null,
      "outputs": []
    }
  ]
}