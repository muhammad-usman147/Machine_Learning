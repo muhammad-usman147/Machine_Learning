{
  "nbformat": 4,
  "nbformat_minor": 0,
  "metadata": {
    "colab": {
      "name": "Mnist",
      "provenance": [],
      "collapsed_sections": []
    },
    "kernelspec": {
      "name": "python3",
      "display_name": "Python 3"
    },
    "accelerator": "GPU"
  },
  "cells": [
    {
      "cell_type": "code",
      "metadata": {
        "id": "MkdQ-su6umhM"
      },
      "source": [
        "import numpy as np\n",
        "import pandas as pd\n",
        "import matplotlib.pyplot as plt\n",
        "from keras.datasets import mnist\n",
        "from sklearn.svm import SVC\n",
        "from sklearn.neighbors import KNeighborsClassifier\n",
        "from sklearn.ensemble import RandomForestClassifier\n",
        "from sklearn.ensemble import VotingClassifier\n",
        "from sklearn.metrics import confusion_matrix, plot_confusion_matrix\n",
        "from sklearn.metrics import accuracy_score\n",
        "from joblib import parallel_backend "
      ],
      "execution_count": 18,
      "outputs": []
    },
    {
      "cell_type": "code",
      "source": [
        ""
      ],
      "metadata": {
        "id": "UhFIgsRZQhK9"
      },
      "execution_count": 12,
      "outputs": []
    },
    {
      "cell_type": "markdown",
      "source": [
        "# Loading the data and splitting them into train and test set\n"
      ],
      "metadata": {
        "id": "_gw7DMX3QiZD"
      }
    },
    {
      "cell_type": "code",
      "source": [
        "(xtrain, ytrain), (xtest,ytest) = mnist.load_data()"
      ],
      "metadata": {
        "id": "p41XES8xPiic",
        "colab": {
          "base_uri": "https://localhost:8080/"
        },
        "outputId": "dd01187f-a522-416c-9f23-2fcc520c969a"
      },
      "execution_count": 13,
      "outputs": [
        {
          "output_type": "stream",
          "name": "stdout",
          "text": [
            "Downloading data from https://storage.googleapis.com/tensorflow/tf-keras-datasets/mnist.npz\n",
            "11493376/11490434 [==============================] - 0s 0us/step\n",
            "11501568/11490434 [==============================] - 0s 0us/step\n"
          ]
        }
      ]
    },
    {
      "cell_type": "code",
      "source": [
        "xtrain.shape, xtest.shape, ytrain.shape, ytest.shape"
      ],
      "metadata": {
        "colab": {
          "base_uri": "https://localhost:8080/"
        },
        "id": "YBgjA52oQHp0",
        "outputId": "ad1c4861-a90f-4f36-91e9-6c8493219fca"
      },
      "execution_count": 14,
      "outputs": [
        {
          "output_type": "execute_result",
          "data": {
            "text/plain": [
              "((60000, 28, 28), (10000, 28, 28), (60000,), (10000,))"
            ]
          },
          "metadata": {},
          "execution_count": 14
        }
      ]
    },
    {
      "cell_type": "code",
      "source": [
        "plt.imshow(xtrain[9])"
      ],
      "metadata": {
        "colab": {
          "base_uri": "https://localhost:8080/",
          "height": 282
        },
        "id": "2r0-ovxvQVsi",
        "outputId": "fcb9530b-4237-42a8-bf01-214e1cc3ab20"
      },
      "execution_count": 15,
      "outputs": [
        {
          "output_type": "execute_result",
          "data": {
            "text/plain": [
              "<matplotlib.image.AxesImage at 0x7feb46824110>"
            ]
          },
          "metadata": {},
          "execution_count": 15
        },
        {
          "output_type": "display_data",
          "data": {
            "text/plain": [
              "<Figure size 432x288 with 1 Axes>"
            ],
            "image/png": "[encoded data removed]"
          },
          "metadata": {
            "needs_background": "light"
          }
        }
      ]
    },
    {
      "cell_type": "markdown",
      "source": [
        "# Training the data on 3 classifiers (SVM, KNN, Random-Forest)"
      ],
      "metadata": {
        "id": "tSEF65J8Q3Hd"
      }
    },
    {
      "cell_type": "markdown",
      "source": [
        "## Data Preprocessing"
      ],
      "metadata": {
        "id": "IzqqgXnoRAtv"
      }
    },
    {
      "cell_type": "code",
      "source": [
        "#rescaling the images \n",
        "xtrain = xtrain[:7000]/255.0\n",
        "xtest = xtest[:7000]/255.0\n",
        "ytrain = ytrain[:7000]\n",
        "ytest = ytest[:7000]\n",
        "#transformrnig them data into 1 DIM\n",
        "xtrain = np.reshape(xtrain,(xtrain.shape[0],xtrain.shape[1]*xtrain.shape[1]))\n",
        "\n",
        "xtest = np.reshape(xtest,(xtest.shape[0],xtest.shape[1]*xtest.shape[1]))"
      ],
      "metadata": {
        "id": "5UQ6534CQr5r"
      },
      "execution_count": 16,
      "outputs": []
    },
    {
      "cell_type": "code",
      "source": [
        "x = pd.DataFrame(ytrain)\n",
        "pd.Series(x.value_counts())\n"
      ],
      "metadata": {
        "colab": {
          "base_uri": "https://localhost:8080/"
        },
        "id": "fqujoffLSkZB",
        "outputId": "a73206bb-a852-46b3-9609-2b43533f3c9d"
      },
      "execution_count": 23,
      "outputs": [
        {
          "output_type": "execute_result",
          "data": {
            "text/plain": [
              "1    784\n",
              "7    754\n",
              "3    716\n",
              "4    716\n",
              "6    709\n",
              "9    695\n",
              "0    691\n",
              "2    675\n",
              "8    650\n",
              "5    610\n",
              "dtype: int64"
            ]
          },
          "metadata": {},
          "execution_count": 23
        }
      ]
    },
    {
      "cell_type": "markdown",
      "source": [
        "## Traning MODELS on default parameters"
      ],
      "metadata": {
        "id": "GSBHRA-_ThFD"
      }
    },
    {
      "cell_type": "markdown",
      "source": [
        "### SVM"
      ],
      "metadata": {
        "id": "KMdAjPb3UcNo"
      }
    },
    {
      "cell_type": "code",
      "source": [
        "svm_model = SVC()\n",
        "svm_model.fit(xtrain,ytrain)"
      ],
      "metadata": {
        "colab": {
          "base_uri": "https://localhost:8080/"
        },
        "id": "x4lKbi7CQ_EC",
        "outputId": "f1422aa8-65d0-477a-db8e-228beaf064c8"
      },
      "execution_count": 6,
      "outputs": [
        {
          "output_type": "execute_result",
          "data": {
            "text/plain": [
              "SVC()"
            ]
          },
          "metadata": {},
          "execution_count": 6
        }
      ]
    },
    {
      "cell_type": "markdown",
      "source": [
        "### Plotting Confusion Matrix"
      ],
      "metadata": {
        "id": "cJ4W2sYfWtZ5"
      }
    },
    {
      "cell_type": "code",
      "source": [
        "y_pred = svm_model.predict(xtest)\n",
        "confusion_matrix(ytest,y_pred)"
      ],
      "metadata": {
        "colab": {
          "base_uri": "https://localhost:8080/"
        },
        "id": "v56CcxCcTxF5",
        "outputId": "0f0e73b7-99ec-491e-e262-b3c3f48309bd"
      },
      "execution_count": 7,
      "outputs": [
        {
          "output_type": "execute_result",
          "data": {
            "text/plain": [
              "array([[663,   0,   2,   0,   0,   3,   2,   1,   1,   0],\n",
              "       [  0, 784,   3,   2,   0,   1,   3,   1,   1,   0],\n",
              "       [  5,   0, 688,   6,   7,   0,   5,   8,   9,   1],\n",
              "       [  1,   1,   7, 661,   0,  13,   1,   9,   8,   1],\n",
              "       [  1,   1,   2,   0, 673,   0,   4,   3,   0,  16],\n",
              "       [  3,   1,   3,  13,   4, 593,   4,   2,   8,   2],\n",
              "       [  6,   3,   3,   0,   7,   3, 631,   0,   3,   0],\n",
              "       [  0,  13,  16,   2,   7,   0,   0, 655,   2,  17],\n",
              "       [  6,   1,   5,  12,   8,   5,   1,   5, 635,   4],\n",
              "       [  6,   6,   2,  11,  23,   3,   0,  11,   8, 649]])"
            ]
          },
          "metadata": {},
          "execution_count": 7
        }
      ]
    },
    {
      "cell_type": "code",
      "source": [
        "plot_confusion_matrix(svm_model,xtest,ytest)"
      ],
      "metadata": {
        "colab": {
          "base_uri": "https://localhost:8080/",
          "height": 350
        },
        "id": "I7MU87HbTy0y",
        "outputId": "8c08e93e-10eb-4382-f8b3-513ecb103441"
      },
      "execution_count": 8,
      "outputs": [
        {
          "output_type": "stream",
          "name": "stderr",
          "text": [
            "/usr/local/lib/python3.7/dist-packages/sklearn/utils/deprecation.py:87: FutureWarning: Function plot_confusion_matrix is deprecated; Function `plot_confusion_matrix` is deprecated in 1.0 and will be removed in 1.2. Use one of the class methods: ConfusionMatrixDisplay.from_predictions or ConfusionMatrixDisplay.from_estimator.\n",
            "  warnings.warn(msg, category=FutureWarning)\n"
          ]
        },
        {
          "output_type": "execute_result",
          "data": {
            "text/plain": [
              "<sklearn.metrics._plot.confusion_matrix.ConfusionMatrixDisplay at 0x7f34e2805c50>"
            ]
          },
          "metadata": {},
          "execution_count": 8
        },
        {
          "output_type": "display_data",
          "data": {
            "text/plain": [
              "<Figure size 432x288 with 2 Axes>"
            ],
            "image/png": "[encoded data removed]"
          },
          "metadata": {
            "needs_background": "light"
          }
        }
      ]
    },
    {
      "cell_type": "code",
      "source": [
        "accuracy_score(ytest,y_pred)"
      ],
      "metadata": {
        "colab": {
          "base_uri": "https://localhost:8080/"
        },
        "id": "ZSJrrWV9Xgfi",
        "outputId": "c797c960-a2af-4a2b-cf32-d64756833082"
      },
      "execution_count": 9,
      "outputs": [
        {
          "output_type": "execute_result",
          "data": {
            "text/plain": [
              "0.9474285714285714"
            ]
          },
          "metadata": {},
          "execution_count": 9
        }
      ]
    },
    {
      "cell_type": "markdown",
      "source": [
        "# K-Neighreast Neighbours"
      ],
      "metadata": {
        "id": "RQOBS219Yd0a"
      }
    },
    {
      "cell_type": "code",
      "source": [
        "knn_model = KNeighborsClassifier()\n",
        "knn_model.fit(xtrain,ytrain)"
      ],
      "metadata": {
        "colab": {
          "base_uri": "https://localhost:8080/"
        },
        "id": "yEvH80oyYcK2",
        "outputId": "30a99c63-10e4-4b24-c6b3-69f5d8541306"
      },
      "execution_count": 10,
      "outputs": [
        {
          "output_type": "execute_result",
          "data": {
            "text/plain": [
              "KNeighborsClassifier()"
            ]
          },
          "metadata": {},
          "execution_count": 10
        }
      ]
    },
    {
      "cell_type": "code",
      "source": [
        "y_pred = knn_model.predict(xtest)\n",
        "confusion_matrix(ytest,y_pred)"
      ],
      "metadata": {
        "colab": {
          "base_uri": "https://localhost:8080/"
        },
        "id": "nAQkhoymYq88",
        "outputId": "4887a472-f0f2-4246-c4a1-fb6399fbe9f0"
      },
      "execution_count": 11,
      "outputs": [
        {
          "output_type": "execute_result",
          "data": {
            "text/plain": [
              "array([[664,   0,   0,   0,   0,   2,   4,   1,   1,   0],\n",
              "       [  0, 789,   2,   2,   1,   0,   1,   0,   0,   0],\n",
              "       [  8,  25, 660,   7,   1,   0,   6,  19,   3,   0],\n",
              "       [  4,   5,   4, 650,   1,  10,   3,  10,  11,   4],\n",
              "       [  1,  14,   1,   0, 641,   0,   5,   3,   0,  35],\n",
              "       [  5,   5,   1,  21,   6, 576,  10,   1,   3,   5],\n",
              "       [  9,   6,   0,   0,   4,   2, 635,   0,   0,   0],\n",
              "       [  1,  38,   1,   0,   6,   1,   0, 647,   0,  18],\n",
              "       [ 13,   9,   6,  29,   8,  20,   5,   9, 565,  18],\n",
              "       [  8,   9,   2,  10,  16,   2,   1,  13,   4, 654]])"
            ]
          },
          "metadata": {},
          "execution_count": 11
        }
      ]
    },
    {
      "cell_type": "code",
      "source": [
        "plot_confusion_matrix(knn_model,xtest,ytest)"
      ],
      "metadata": {
        "colab": {
          "base_uri": "https://localhost:8080/",
          "height": 350
        },
        "id": "cWzpOMtGYwkx",
        "outputId": "b2d6609d-9f39-498e-dfbf-2511bff32f09"
      },
      "execution_count": 12,
      "outputs": [
        {
          "output_type": "stream",
          "name": "stderr",
          "text": [
            "/usr/local/lib/python3.7/dist-packages/sklearn/utils/deprecation.py:87: FutureWarning: Function plot_confusion_matrix is deprecated; Function `plot_confusion_matrix` is deprecated in 1.0 and will be removed in 1.2. Use one of the class methods: ConfusionMatrixDisplay.from_predictions or ConfusionMatrixDisplay.from_estimator.\n",
            "  warnings.warn(msg, category=FutureWarning)\n"
          ]
        },
        {
          "output_type": "execute_result",
          "data": {
            "text/plain": [
              "<sklearn.metrics._plot.confusion_matrix.ConfusionMatrixDisplay at 0x7f34e27bfd50>"
            ]
          },
          "metadata": {},
          "execution_count": 12
        },
        {
          "output_type": "display_data",
          "data": {
            "text/plain": [
              "<Figure size 432x288 with 2 Axes>"
            ],
            "image/png": "[encoded data removed]"
          },
          "metadata": {
            "needs_background": "light"
          }
        }
      ]
    },
    {
      "cell_type": "code",
      "source": [
        "accuracy_score(ytest,y_pred)"
      ],
      "metadata": {
        "colab": {
          "base_uri": "https://localhost:8080/"
        },
        "id": "bOehcPvWY0rT",
        "outputId": "e4f87e1b-9156-492e-8421-62cccb086949"
      },
      "execution_count": 13,
      "outputs": [
        {
          "output_type": "execute_result",
          "data": {
            "text/plain": [
              "0.9258571428571428"
            ]
          },
          "metadata": {},
          "execution_count": 13
        }
      ]
    },
    {
      "cell_type": "code",
      "source": [
        "forest_model = RandomForestClassifier()\n",
        "forest_model.fit(xtrain,ytrain)"
      ],
      "metadata": {
        "colab": {
          "base_uri": "https://localhost:8080/"
        },
        "id": "LDih2L35Y2Yk",
        "outputId": "4eb214d2-831c-4eb1-f363-396f13f4df72"
      },
      "execution_count": 14,
      "outputs": [
        {
          "output_type": "execute_result",
          "data": {
            "text/plain": [
              "RandomForestClassifier()"
            ]
          },
          "metadata": {},
          "execution_count": 14
        }
      ]
    },
    {
      "cell_type": "code",
      "source": [
        "y_pred = forest_model.predict(xtest)\n",
        "confusion_matrix(ytest,y_pred)"
      ],
      "metadata": {
        "colab": {
          "base_uri": "https://localhost:8080/"
        },
        "id": "-W_yONiqbATO",
        "outputId": "64fdd803-4c8d-48ae-d342-00ee9d70b2d4"
      },
      "execution_count": 15,
      "outputs": [
        {
          "output_type": "execute_result",
          "data": {
            "text/plain": [
              "array([[660,   0,   1,   0,   0,   3,   5,   1,   2,   0],\n",
              "       [  0, 780,   4,   3,   1,   2,   3,   1,   1,   0],\n",
              "       [  2,   1, 682,   8,   5,   2,   7,  15,   6,   1],\n",
              "       [  2,   0,   8, 643,   1,  14,   1,  18,  11,   4],\n",
              "       [  2,   1,   3,   1, 659,   0,   7,   1,   1,  25],\n",
              "       [  5,   1,   1,  17,   5, 578,  11,   5,   5,   5],\n",
              "       [  6,   3,   3,   1,  14,   5, 622,   0,   2,   0],\n",
              "       [  1,   8,  20,   2,   2,   0,   0, 657,   1,  21],\n",
              "       [  5,   2,   6,  13,   8,  10,   7,   6, 605,  20],\n",
              "       [  3,   7,   1,  15,  17,   4,   2,   4,  16, 650]])"
            ]
          },
          "metadata": {},
          "execution_count": 15
        }
      ]
    },
    {
      "cell_type": "code",
      "source": [
        "plot_confusion_matrix(forest_model,xtest,ytest)"
      ],
      "metadata": {
        "colab": {
          "base_uri": "https://localhost:8080/",
          "height": 350
        },
        "id": "9yWVbC33bOtF",
        "outputId": "168eaf2b-8c81-42dc-e748-7cc278bf79a5"
      },
      "execution_count": 16,
      "outputs": [
        {
          "output_type": "stream",
          "name": "stderr",
          "text": [
            "/usr/local/lib/python3.7/dist-packages/sklearn/utils/deprecation.py:87: FutureWarning: Function plot_confusion_matrix is deprecated; Function `plot_confusion_matrix` is deprecated in 1.0 and will be removed in 1.2. Use one of the class methods: ConfusionMatrixDisplay.from_predictions or ConfusionMatrixDisplay.from_estimator.\n",
            "  warnings.warn(msg, category=FutureWarning)\n"
          ]
        },
        {
          "output_type": "execute_result",
          "data": {
            "text/plain": [
              "<sklearn.metrics._plot.confusion_matrix.ConfusionMatrixDisplay at 0x7f34dfb72f10>"
            ]
          },
          "metadata": {},
          "execution_count": 16
        },
        {
          "output_type": "display_data",
          "data": {
            "text/plain": [
              "<Figure size 432x288 with 2 Axes>"
            ],
            "image/png": "[encoded data removed]"
          },
          "metadata": {
            "needs_background": "light"
          }
        }
      ]
    },
    {
      "cell_type": "code",
      "source": [
        "accuracy_score(ytest,y_pred)"
      ],
      "metadata": {
        "colab": {
          "base_uri": "https://localhost:8080/"
        },
        "id": "jD2skRHufaE2",
        "outputId": "64297fcf-2353-4d00-f02b-4d521c97f649"
      },
      "execution_count": 17,
      "outputs": [
        {
          "output_type": "execute_result",
          "data": {
            "text/plain": [
              "0.9337142857142857"
            ]
          },
          "metadata": {},
          "execution_count": 17
        }
      ]
    },
    {
      "cell_type": "code",
      "source": [
        "knn_model, svm_model, forest_model"
      ],
      "metadata": {
        "colab": {
          "base_uri": "https://localhost:8080/"
        },
        "id": "db1RuvZlfnFb",
        "outputId": "702ef252-6b67-4d85-cf0c-fba098e2e28d"
      },
      "execution_count": 18,
      "outputs": [
        {
          "output_type": "execute_result",
          "data": {
            "text/plain": [
              "(KNeighborsClassifier(), SVC(), RandomForestClassifier())"
            ]
          },
          "metadata": {},
          "execution_count": 18
        }
      ]
    },
    {
      "cell_type": "code",
      "source": [
        "#the best one performing with default parameters is the SVM with 97% of accuracy\n"
      ],
      "metadata": {
        "id": "UV53xXK4H1K3"
      },
      "execution_count": 19,
      "outputs": []
    },
    {
      "cell_type": "markdown",
      "source": [
        "# Applying GridSearchCV ON SVM with Early Stoppig"
      ],
      "metadata": {
        "id": "R3uKDbDhIEVS"
      }
    },
    {
      "cell_type": "code",
      "source": [
        "from sklearn.model_selection import GridSearchCV "
      ],
      "metadata": {
        "id": "wLDmFLRPIDx-"
      },
      "execution_count": 20,
      "outputs": []
    },
    {
      "cell_type": "code",
      "source": [
        "SVM_grid_model = GridSearchCV(SVC(), param_grid = {\n",
        "    'C': [0.1, 1],\n",
        "              'gamma': [1, 0.1],\n",
        "              'kernel': ['rbf']}, cv = 3,verbose = 3)\n",
        "\n",
        "SVM_grid_model.fit(xtrain,ytrain)"
      ],
      "metadata": {
        "id": "NdwMcpyfICfc",
        "colab": {
          "base_uri": "https://localhost:8080/"
        },
        "outputId": "d5e44def-5489-4769-a269-667732cacd20"
      },
      "execution_count": 21,
      "outputs": [
        {
          "output_type": "stream",
          "name": "stdout",
          "text": [
            "Fitting 3 folds for each of 4 candidates, totalling 12 fits\n",
            "[CV 1/3] END ........C=0.1, gamma=1, kernel=rbf;, score=0.112 total time=  23.6s\n",
            "[CV 2/3] END ........C=0.1, gamma=1, kernel=rbf;, score=0.112 total time=  25.8s\n",
            "[CV 3/3] END ........C=0.1, gamma=1, kernel=rbf;, score=0.112 total time=  24.4s\n",
            "[CV 1/3] END ......C=0.1, gamma=0.1, kernel=rbf;, score=0.205 total time=  22.4s\n",
            "[CV 2/3] END ......C=0.1, gamma=0.1, kernel=rbf;, score=0.211 total time=  23.0s\n",
            "[CV 3/3] END ......C=0.1, gamma=0.1, kernel=rbf;, score=0.211 total time=  22.8s\n",
            "[CV 1/3] END ..........C=1, gamma=1, kernel=rbf;, score=0.180 total time=  23.4s\n",
            "[CV 2/3] END ..........C=1, gamma=1, kernel=rbf;, score=0.199 total time=  23.0s\n",
            "[CV 3/3] END ..........C=1, gamma=1, kernel=rbf;, score=0.192 total time=  23.3s\n",
            "[CV 1/3] END ........C=1, gamma=0.1, kernel=rbf;, score=0.851 total time=  21.6s\n",
            "[CV 2/3] END ........C=1, gamma=0.1, kernel=rbf;, score=0.823 total time=  21.5s\n",
            "[CV 3/3] END ........C=1, gamma=0.1, kernel=rbf;, score=0.823 total time=  21.1s\n"
          ]
        },
        {
          "output_type": "execute_result",
          "data": {
            "text/plain": [
              "GridSearchCV(cv=3, estimator=SVC(),\n",
              "             param_grid={'C': [0.1, 1], 'gamma': [1, 0.1], 'kernel': ['rbf']},\n",
              "             verbose=3)"
            ]
          },
          "metadata": {},
          "execution_count": 21
        }
      ]
    },
    {
      "cell_type": "code",
      "source": [
        "y_pred = SVM_grid_model.predict(xtest)\n",
        "confusion_matrix(ytest,y_pred)"
      ],
      "metadata": {
        "colab": {
          "base_uri": "https://localhost:8080/"
        },
        "id": "Xuj41DTla5EK",
        "outputId": "a91564f0-394d-40bf-a38e-51b01cb1cbcc"
      },
      "execution_count": 22,
      "outputs": [
        {
          "output_type": "execute_result",
          "data": {
            "text/plain": [
              "array([[557,   0, 111,   0,   0,   1,   2,   0,   1,   0],\n",
              "       [  0, 766,  20,   2,   2,   0,   1,   0,   4,   0],\n",
              "       [  0,   0, 723,   1,   0,   0,   0,   1,   4,   0],\n",
              "       [  0,   0,  85, 606,   1,   2,   0,   4,   4,   0],\n",
              "       [  0,   0,  90,   0, 596,   0,   2,   2,   1,   9],\n",
              "       [  0,   0, 144,  20,   2, 464,   0,   0,   3,   0],\n",
              "       [  1,   1, 175,   0,   3,   3, 472,   0,   1,   0],\n",
              "       [  0,   4, 116,   1,   5,   2,   0, 567,   0,  17],\n",
              "       [  0,   0, 155,  17,   1,   1,   0,   0, 507,   1],\n",
              "       [  0,   2,  96,  12,  30,   1,   0,   6,   4, 568]])"
            ]
          },
          "metadata": {},
          "execution_count": 22
        }
      ]
    },
    {
      "cell_type": "code",
      "source": [
        "accuracy_score(ytest,y_pred)"
      ],
      "metadata": {
        "colab": {
          "base_uri": "https://localhost:8080/"
        },
        "id": "GSh4axtdbLiL",
        "outputId": "495fd009-150e-48ea-8529-7edd434bf8bb"
      },
      "execution_count": 23,
      "outputs": [
        {
          "output_type": "execute_result",
          "data": {
            "text/plain": [
              "0.8322857142857143"
            ]
          },
          "metadata": {},
          "execution_count": 23
        }
      ]
    },
    {
      "cell_type": "code",
      "source": [
        "SVM_grid_model.best_params_"
      ],
      "metadata": {
        "colab": {
          "base_uri": "https://localhost:8080/"
        },
        "id": "gFcAphKQbV7M",
        "outputId": "dad7e18e-efed-48ab-c5d9-fce1cf7cfd2b"
      },
      "execution_count": 25,
      "outputs": [
        {
          "output_type": "execute_result",
          "data": {
            "text/plain": [
              "{'C': 1, 'gamma': 0.1, 'kernel': 'rbf'}"
            ]
          },
          "metadata": {},
          "execution_count": 25
        }
      ]
    },
    {
      "cell_type": "code",
      "source": [
        ""
      ],
      "metadata": {
        "id": "SizntnKmbrrK"
      },
      "execution_count": null,
      "outputs": []
    },
    {
      "cell_type": "code",
      "source": [
        "knn_grid_model = GridSearchCV(KNeighborsClassifier(), param_grid = {'n_neighbors':[i for i in range(5,13)]}, cv = 3,verbose = 3)\n",
        "\n",
        "knn_grid_model.fit(xtrain,ytrain)"
      ],
      "metadata": {
        "id": "9ykkmrBjP52N",
        "colab": {
          "base_uri": "https://localhost:8080/"
        },
        "outputId": "a383e2d6-5da3-49da-cc75-936b2d59f9b8"
      },
      "execution_count": 28,
      "outputs": [
        {
          "output_type": "stream",
          "name": "stdout",
          "text": [
            "Fitting 3 folds for each of 8 candidates, totalling 24 fits\n",
            "[CV 1/3] END .....................n_neighbors=5;, score=0.928 total time=   1.6s\n",
            "[CV 2/3] END .....................n_neighbors=5;, score=0.937 total time=   1.3s\n",
            "[CV 3/3] END .....................n_neighbors=5;, score=0.930 total time=   1.4s\n",
            "[CV 1/3] END .....................n_neighbors=6;, score=0.924 total time=   1.0s\n",
            "[CV 2/3] END .....................n_neighbors=6;, score=0.935 total time=   0.9s\n",
            "[CV 3/3] END .....................n_neighbors=6;, score=0.928 total time=   0.9s\n",
            "[CV 1/3] END .....................n_neighbors=7;, score=0.925 total time=   0.9s\n",
            "[CV 2/3] END .....................n_neighbors=7;, score=0.937 total time=   0.9s\n",
            "[CV 3/3] END .....................n_neighbors=7;, score=0.926 total time=   0.9s\n",
            "[CV 1/3] END .....................n_neighbors=8;, score=0.922 total time=   0.9s\n",
            "[CV 2/3] END .....................n_neighbors=8;, score=0.934 total time=   0.9s\n",
            "[CV 3/3] END .....................n_neighbors=8;, score=0.926 total time=   0.9s\n",
            "[CV 1/3] END .....................n_neighbors=9;, score=0.922 total time=   0.9s\n",
            "[CV 2/3] END .....................n_neighbors=9;, score=0.931 total time=   0.9s\n",
            "[CV 3/3] END .....................n_neighbors=9;, score=0.924 total time=   0.9s\n",
            "[CV 1/3] END ....................n_neighbors=10;, score=0.919 total time=   0.9s\n",
            "[CV 2/3] END ....................n_neighbors=10;, score=0.930 total time=   0.9s\n",
            "[CV 3/3] END ....................n_neighbors=10;, score=0.921 total time=   0.9s\n",
            "[CV 1/3] END ....................n_neighbors=11;, score=0.920 total time=   0.9s\n",
            "[CV 2/3] END ....................n_neighbors=11;, score=0.927 total time=   0.9s\n",
            "[CV 3/3] END ....................n_neighbors=11;, score=0.916 total time=   0.9s\n",
            "[CV 1/3] END ....................n_neighbors=12;, score=0.917 total time=   0.9s\n",
            "[CV 2/3] END ....................n_neighbors=12;, score=0.924 total time=   0.9s\n",
            "[CV 3/3] END ....................n_neighbors=12;, score=0.915 total time=   0.9s\n"
          ]
        },
        {
          "output_type": "execute_result",
          "data": {
            "text/plain": [
              "GridSearchCV(cv=3, estimator=KNeighborsClassifier(),\n",
              "             param_grid={'n_neighbors': [5, 6, 7, 8, 9, 10, 11, 12]},\n",
              "             verbose=3)"
            ]
          },
          "metadata": {},
          "execution_count": 28
        }
      ]
    },
    {
      "cell_type": "code",
      "source": [
        "y_pred = knn_grid_model.predict(xtest)\n",
        "confusion_matrix(ytest,y_pred)"
      ],
      "metadata": {
        "colab": {
          "base_uri": "https://localhost:8080/"
        },
        "id": "LPQ1odaUcDf-",
        "outputId": "65238d61-1138-4e2c-e848-1acea057f1da"
      },
      "execution_count": 31,
      "outputs": [
        {
          "output_type": "execute_result",
          "data": {
            "text/plain": [
              "array([[664,   0,   0,   0,   0,   2,   4,   1,   1,   0],\n",
              "       [  0, 789,   2,   2,   1,   0,   1,   0,   0,   0],\n",
              "       [  8,  25, 660,   7,   1,   0,   6,  19,   3,   0],\n",
              "       [  4,   5,   4, 650,   1,  10,   3,  10,  11,   4],\n",
              "       [  1,  14,   1,   0, 641,   0,   5,   3,   0,  35],\n",
              "       [  5,   5,   1,  21,   6, 576,  10,   1,   3,   5],\n",
              "       [  9,   6,   0,   0,   4,   2, 635,   0,   0,   0],\n",
              "       [  1,  38,   1,   0,   6,   1,   0, 647,   0,  18],\n",
              "       [ 13,   9,   6,  29,   8,  20,   5,   9, 565,  18],\n",
              "       [  8,   9,   2,  10,  16,   2,   1,  13,   4, 654]])"
            ]
          },
          "metadata": {},
          "execution_count": 31
        }
      ]
    },
    {
      "cell_type": "code",
      "source": [
        "accuracy_score(ytest,y_pred)"
      ],
      "metadata": {
        "colab": {
          "base_uri": "https://localhost:8080/"
        },
        "id": "klNstgADbpnE",
        "outputId": "a9977ae5-e493-4ae8-d48d-232716c56ce1"
      },
      "execution_count": 32,
      "outputs": [
        {
          "output_type": "execute_result",
          "data": {
            "text/plain": [
              "0.9258571428571428"
            ]
          },
          "metadata": {},
          "execution_count": 32
        }
      ]
    },
    {
      "cell_type": "code",
      "source": [
        "knn_grid_model.best_params_"
      ],
      "metadata": {
        "colab": {
          "base_uri": "https://localhost:8080/"
        },
        "id": "farqfAjbb87x",
        "outputId": "0a5ac76e-65b5-497f-c7cc-b7d683d4eb46"
      },
      "execution_count": 33,
      "outputs": [
        {
          "output_type": "execute_result",
          "data": {
            "text/plain": [
              "{'n_neighbors': 5}"
            ]
          },
          "metadata": {},
          "execution_count": 33
        }
      ]
    },
    {
      "cell_type": "code",
      "source": [
        "forest_grid_model = GridSearchCV(RandomForestClassifier(), param_grid = {\n",
        "    'bootstrap': [True],\n",
        "    'max_depth': [80, 90, 100, 110],\n",
        "    'max_features': [2, 3],\n",
        "    'min_samples_leaf': [3, 4, 5],\n",
        "    'min_samples_split': [8, 10, 12],\n",
        "    'n_estimators': [100, 200, 300, 1000]\n",
        "}, cv = 3,verbose = 3)\n",
        "\n",
        "forest_grid_model.fit(xtrain,ytrain)"
      ],
      "metadata": {
        "colab": {
          "base_uri": "https://localhost:8080/"
        },
        "id": "ZfIWa_OecAKy",
        "outputId": "18a5fe4c-19ab-48cc-865b-24ca3299edfc"
      },
      "execution_count": 34,
      "outputs": [
        {
          "output_type": "stream",
          "name": "stdout",
          "text": [
            "Fitting 3 folds for each of 288 candidates, totalling 864 fits\n",
            "[CV 1/3] END bootstrap=True, max_depth=80, max_features=2, min_samples_leaf=3, min_samples_split=8, n_estimators=100;, score=0.881 total time=   0.8s\n",
            "[CV 2/3] END bootstrap=True, max_depth=80, max_features=2, min_samples_leaf=3, min_samples_split=8, n_estimators=100;, score=0.897 total time=   0.9s\n",
            "[CV 3/3] END bootstrap=True, max_depth=80, max_features=2, min_samples_leaf=3, min_samples_split=8, n_estimators=100;, score=0.893 total time=   0.9s\n",
            "[CV 1/3] END bootstrap=True, max_depth=80, max_features=2, min_samples_leaf=3, min_samples_split=8, n_estimators=200;, score=0.891 total time=   1.1s\n",
            "[CV 2/3] END bootstrap=True, max_depth=80, max_features=2, min_samples_leaf=3, min_samples_split=8, n_estimators=200;, score=0.896 total time=   1.1s\n",
            "[CV 3/3] END bootstrap=True, max_depth=80, max_features=2, min_samples_leaf=3, min_samples_split=8, n_estimators=200;, score=0.905 total time=   1.0s\n",
            "[CV 1/3] END bootstrap=True, max_depth=80, max_features=2, min_samples_leaf=3, min_samples_split=8, n_estimators=300;, score=0.894 total time=   1.6s\n",
            "[CV 2/3] END bootstrap=True, max_depth=80, max_features=2, min_samples_leaf=3, min_samples_split=8, n_estimators=300;, score=0.899 total time=   1.6s\n",
            "[CV 3/3] END bootstrap=True, max_depth=80, max_features=2, min_samples_leaf=3, min_samples_split=8, n_estimators=300;, score=0.895 total time=   1.6s\n",
            "[CV 1/3] END bootstrap=True, max_depth=80, max_features=2, min_samples_leaf=3, min_samples_split=8, n_estimators=1000;, score=0.897 total time=   5.2s\n",
            "[CV 2/3] END bootstrap=True, max_depth=80, max_features=2, min_samples_leaf=3, min_samples_split=8, n_estimators=1000;, score=0.901 total time=   5.7s\n",
            "[CV 3/3] END bootstrap=True, max_depth=80, max_features=2, min_samples_leaf=3, min_samples_split=8, n_estimators=1000;, score=0.906 total time=   5.1s\n",
            "[CV 1/3] END bootstrap=True, max_depth=80, max_features=2, min_samples_leaf=3, min_samples_split=10, n_estimators=100;, score=0.882 total time=   0.6s\n",
            "[CV 2/3] END bootstrap=True, max_depth=80, max_features=2, min_samples_leaf=3, min_samples_split=10, n_estimators=100;, score=0.890 total time=   0.6s\n",
            "[CV 3/3] END bootstrap=True, max_depth=80, max_features=2, min_samples_leaf=3, min_samples_split=10, n_estimators=100;, score=0.898 total time=   0.6s\n",
            "[CV 1/3] END bootstrap=True, max_depth=80, max_features=2, min_samples_leaf=3, min_samples_split=10, n_estimators=200;, score=0.888 total time=   1.1s\n",
            "[CV 2/3] END bootstrap=True, max_depth=80, max_features=2, min_samples_leaf=3, min_samples_split=10, n_estimators=200;, score=0.899 total time=   1.1s\n",
            "[CV 3/3] END bootstrap=True, max_depth=80, max_features=2, min_samples_leaf=3, min_samples_split=10, n_estimators=200;, score=0.899 total time=   1.1s\n",
            "[CV 1/3] END bootstrap=True, max_depth=80, max_features=2, min_samples_leaf=3, min_samples_split=10, n_estimators=300;, score=0.892 total time=   1.6s\n",
            "[CV 2/3] END bootstrap=True, max_depth=80, max_features=2, min_samples_leaf=3, min_samples_split=10, n_estimators=300;, score=0.894 total time=   1.6s\n",
            "[CV 3/3] END bootstrap=True, max_depth=80, max_features=2, min_samples_leaf=3, min_samples_split=10, n_estimators=300;, score=0.897 total time=   1.6s\n",
            "[CV 1/3] END bootstrap=True, max_depth=80, max_features=2, min_samples_leaf=3, min_samples_split=10, n_estimators=1000;, score=0.890 total time=   5.2s\n",
            "[CV 2/3] END bootstrap=True, max_depth=80, max_features=2, min_samples_leaf=3, min_samples_split=10, n_estimators=1000;, score=0.899 total time=   5.3s\n",
            "[CV 3/3] END bootstrap=True, max_depth=80, max_features=2, min_samples_leaf=3, min_samples_split=10, n_estimators=1000;, score=0.900 total time=   5.3s\n",
            "[CV 1/3] END bootstrap=True, max_depth=80, max_features=2, min_samples_leaf=3, min_samples_split=12, n_estimators=100;, score=0.884 total time=   0.5s\n",
            "[CV 2/3] END bootstrap=True, max_depth=80, max_features=2, min_samples_leaf=3, min_samples_split=12, n_estimators=100;, score=0.889 total time=   0.5s\n",
            "[CV 3/3] END bootstrap=True, max_depth=80, max_features=2, min_samples_leaf=3, min_samples_split=12, n_estimators=100;, score=0.888 total time=   0.6s\n",
            "[CV 1/3] END bootstrap=True, max_depth=80, max_features=2, min_samples_leaf=3, min_samples_split=12, n_estimators=200;, score=0.888 total time=   1.1s\n",
            "[CV 2/3] END bootstrap=True, max_depth=80, max_features=2, min_samples_leaf=3, min_samples_split=12, n_estimators=200;, score=0.900 total time=   1.1s\n",
            "[CV 3/3] END bootstrap=True, max_depth=80, max_features=2, min_samples_leaf=3, min_samples_split=12, n_estimators=200;, score=0.897 total time=   1.0s\n",
            "[CV 1/3] END bootstrap=True, max_depth=80, max_features=2, min_samples_leaf=3, min_samples_split=12, n_estimators=300;, score=0.889 total time=   1.6s\n",
            "[CV 2/3] END bootstrap=True, max_depth=80, max_features=2, min_samples_leaf=3, min_samples_split=12, n_estimators=300;, score=0.895 total time=   1.6s\n",
            "[CV 3/3] END bootstrap=True, max_depth=80, max_features=2, min_samples_leaf=3, min_samples_split=12, n_estimators=300;, score=0.900 total time=   1.5s\n",
            "[CV 1/3] END bootstrap=True, max_depth=80, max_features=2, min_samples_leaf=3, min_samples_split=12, n_estimators=1000;, score=0.893 total time=   5.5s\n",
            "[CV 2/3] END bootstrap=True, max_depth=80, max_features=2, min_samples_leaf=3, min_samples_split=12, n_estimators=1000;, score=0.900 total time=   5.3s\n",
            "[CV 3/3] END bootstrap=True, max_depth=80, max_features=2, min_samples_leaf=3, min_samples_split=12, n_estimators=1000;, score=0.899 total time=   5.3s\n",
            "[CV 1/3] END bootstrap=True, max_depth=80, max_features=2, min_samples_leaf=4, min_samples_split=8, n_estimators=100;, score=0.874 total time=   0.5s\n",
            "[CV 2/3] END bootstrap=True, max_depth=80, max_features=2, min_samples_leaf=4, min_samples_split=8, n_estimators=100;, score=0.881 total time=   0.5s\n",
            "[CV 3/3] END bootstrap=True, max_depth=80, max_features=2, min_samples_leaf=4, min_samples_split=8, n_estimators=100;, score=0.884 total time=   0.5s\n",
            "[CV 1/3] END bootstrap=True, max_depth=80, max_features=2, min_samples_leaf=4, min_samples_split=8, n_estimators=200;, score=0.882 total time=   1.0s\n",
            "[CV 2/3] END bootstrap=True, max_depth=80, max_features=2, min_samples_leaf=4, min_samples_split=8, n_estimators=200;, score=0.884 total time=   1.0s\n",
            "[CV 3/3] END bootstrap=True, max_depth=80, max_features=2, min_samples_leaf=4, min_samples_split=8, n_estimators=200;, score=0.887 total time=   1.0s\n",
            "[CV 1/3] END bootstrap=True, max_depth=80, max_features=2, min_samples_leaf=4, min_samples_split=8, n_estimators=300;, score=0.886 total time=   1.5s\n",
            "[CV 2/3] END bootstrap=True, max_depth=80, max_features=2, min_samples_leaf=4, min_samples_split=8, n_estimators=300;, score=0.886 total time=   1.5s\n",
            "[CV 3/3] END bootstrap=True, max_depth=80, max_features=2, min_samples_leaf=4, min_samples_split=8, n_estimators=300;, score=0.894 total time=   1.5s\n",
            "[CV 1/3] END bootstrap=True, max_depth=80, max_features=2, min_samples_leaf=4, min_samples_split=8, n_estimators=1000;, score=0.887 total time=   4.9s\n",
            "[CV 2/3] END bootstrap=True, max_depth=80, max_features=2, min_samples_leaf=4, min_samples_split=8, n_estimators=1000;, score=0.890 total time=   4.9s\n",
            "[CV 3/3] END bootstrap=True, max_depth=80, max_features=2, min_samples_leaf=4, min_samples_split=8, n_estimators=1000;, score=0.897 total time=   4.8s\n",
            "[CV 1/3] END bootstrap=True, max_depth=80, max_features=2, min_samples_leaf=4, min_samples_split=10, n_estimators=100;, score=0.880 total time=   0.5s\n",
            "[CV 2/3] END bootstrap=True, max_depth=80, max_features=2, min_samples_leaf=4, min_samples_split=10, n_estimators=100;, score=0.876 total time=   0.5s\n",
            "[CV 3/3] END bootstrap=True, max_depth=80, max_features=2, min_samples_leaf=4, min_samples_split=10, n_estimators=100;, score=0.885 total time=   0.5s\n",
            "[CV 1/3] END bootstrap=True, max_depth=80, max_features=2, min_samples_leaf=4, min_samples_split=10, n_estimators=200;, score=0.878 total time=   1.0s\n",
            "[CV 2/3] END bootstrap=True, max_depth=80, max_features=2, min_samples_leaf=4, min_samples_split=10, n_estimators=200;, score=0.884 total time=   1.3s\n",
            "[CV 3/3] END bootstrap=True, max_depth=80, max_features=2, min_samples_leaf=4, min_samples_split=10, n_estimators=200;, score=0.895 total time=   1.0s\n",
            "[CV 1/3] END bootstrap=True, max_depth=80, max_features=2, min_samples_leaf=4, min_samples_split=10, n_estimators=300;, score=0.882 total time=   1.5s\n",
            "[CV 2/3] END bootstrap=True, max_depth=80, max_features=2, min_samples_leaf=4, min_samples_split=10, n_estimators=300;, score=0.886 total time=   1.5s\n",
            "[CV 3/3] END bootstrap=True, max_depth=80, max_features=2, min_samples_leaf=4, min_samples_split=10, n_estimators=300;, score=0.898 total time=   1.5s\n",
            "[CV 1/3] END bootstrap=True, max_depth=80, max_features=2, min_samples_leaf=4, min_samples_split=10, n_estimators=1000;, score=0.885 total time=   4.8s\n",
            "[CV 2/3] END bootstrap=True, max_depth=80, max_features=2, min_samples_leaf=4, min_samples_split=10, n_estimators=1000;, score=0.890 total time=   4.9s\n",
            "[CV 3/3] END bootstrap=True, max_depth=80, max_features=2, min_samples_leaf=4, min_samples_split=10, n_estimators=1000;, score=0.894 total time=   4.9s\n",
            "[CV 1/3] END bootstrap=True, max_depth=80, max_features=2, min_samples_leaf=4, min_samples_split=12, n_estimators=100;, score=0.872 total time=   0.5s\n",
            "[CV 2/3] END bootstrap=True, max_depth=80, max_features=2, min_samples_leaf=4, min_samples_split=12, n_estimators=100;, score=0.872 total time=   0.5s\n",
            "[CV 3/3] END bootstrap=True, max_depth=80, max_features=2, min_samples_leaf=4, min_samples_split=12, n_estimators=100;, score=0.883 total time=   0.5s\n",
            "[CV 1/3] END bootstrap=True, max_depth=80, max_features=2, min_samples_leaf=4, min_samples_split=12, n_estimators=200;, score=0.880 total time=   1.0s\n",
            "[CV 2/3] END bootstrap=True, max_depth=80, max_features=2, min_samples_leaf=4, min_samples_split=12, n_estimators=200;, score=0.884 total time=   1.0s\n",
            "[CV 3/3] END bootstrap=True, max_depth=80, max_features=2, min_samples_leaf=4, min_samples_split=12, n_estimators=200;, score=0.889 total time=   1.0s\n",
            "[CV 1/3] END bootstrap=True, max_depth=80, max_features=2, min_samples_leaf=4, min_samples_split=12, n_estimators=300;, score=0.887 total time=   1.5s\n",
            "[CV 2/3] END bootstrap=True, max_depth=80, max_features=2, min_samples_leaf=4, min_samples_split=12, n_estimators=300;, score=0.883 total time=   1.5s\n",
            "[CV 3/3] END bootstrap=True, max_depth=80, max_features=2, min_samples_leaf=4, min_samples_split=12, n_estimators=300;, score=0.886 total time=   1.5s\n",
            "[CV 1/3] END bootstrap=True, max_depth=80, max_features=2, min_samples_leaf=4, min_samples_split=12, n_estimators=1000;, score=0.885 total time=   4.9s\n",
            "[CV 2/3] END bootstrap=True, max_depth=80, max_features=2, min_samples_leaf=4, min_samples_split=12, n_estimators=1000;, score=0.889 total time=   4.8s\n",
            "[CV 3/3] END bootstrap=True, max_depth=80, max_features=2, min_samples_leaf=4, min_samples_split=12, n_estimators=1000;, score=0.896 total time=   4.8s\n",
            "[CV 1/3] END bootstrap=True, max_depth=80, max_features=2, min_samples_leaf=5, min_samples_split=8, n_estimators=100;, score=0.874 total time=   0.5s\n",
            "[CV 2/3] END bootstrap=True, max_depth=80, max_features=2, min_samples_leaf=5, min_samples_split=8, n_estimators=100;, score=0.869 total time=   0.5s\n",
            "[CV 3/3] END bootstrap=True, max_depth=80, max_features=2, min_samples_leaf=5, min_samples_split=8, n_estimators=100;, score=0.884 total time=   0.5s\n",
            "[CV 1/3] END bootstrap=True, max_depth=80, max_features=2, min_samples_leaf=5, min_samples_split=8, n_estimators=200;, score=0.878 total time=   1.0s\n",
            "[CV 2/3] END bootstrap=True, max_depth=80, max_features=2, min_samples_leaf=5, min_samples_split=8, n_estimators=200;, score=0.879 total time=   1.0s\n",
            "[CV 3/3] END bootstrap=True, max_depth=80, max_features=2, min_samples_leaf=5, min_samples_split=8, n_estimators=200;, score=0.884 total time=   1.0s\n",
            "[CV 1/3] END bootstrap=True, max_depth=80, max_features=2, min_samples_leaf=5, min_samples_split=8, n_estimators=300;, score=0.873 total time=   1.4s\n",
            "[CV 2/3] END bootstrap=True, max_depth=80, max_features=2, min_samples_leaf=5, min_samples_split=8, n_estimators=300;, score=0.886 total time=   1.4s\n",
            "[CV 3/3] END bootstrap=True, max_depth=80, max_features=2, min_samples_leaf=5, min_samples_split=8, n_estimators=300;, score=0.891 total time=   1.4s\n",
            "[CV 1/3] END bootstrap=True, max_depth=80, max_features=2, min_samples_leaf=5, min_samples_split=8, n_estimators=1000;, score=0.880 total time=   4.7s\n",
            "[CV 2/3] END bootstrap=True, max_depth=80, max_features=2, min_samples_leaf=5, min_samples_split=8, n_estimators=1000;, score=0.879 total time=   4.7s\n",
            "[CV 3/3] END bootstrap=True, max_depth=80, max_features=2, min_samples_leaf=5, min_samples_split=8, n_estimators=1000;, score=0.891 total time=   4.7s\n",
            "[CV 1/3] END bootstrap=True, max_depth=80, max_features=2, min_samples_leaf=5, min_samples_split=10, n_estimators=100;, score=0.868 total time=   0.5s\n",
            "[CV 2/3] END bootstrap=True, max_depth=80, max_features=2, min_samples_leaf=5, min_samples_split=10, n_estimators=100;, score=0.879 total time=   0.5s\n",
            "[CV 3/3] END bootstrap=True, max_depth=80, max_features=2, min_samples_leaf=5, min_samples_split=10, n_estimators=100;, score=0.889 total time=   0.5s\n",
            "[CV 1/3] END bootstrap=True, max_depth=80, max_features=2, min_samples_leaf=5, min_samples_split=10, n_estimators=200;, score=0.872 total time=   1.0s\n",
            "[CV 2/3] END bootstrap=True, max_depth=80, max_features=2, min_samples_leaf=5, min_samples_split=10, n_estimators=200;, score=0.876 total time=   1.0s\n",
            "[CV 3/3] END bootstrap=True, max_depth=80, max_features=2, min_samples_leaf=5, min_samples_split=10, n_estimators=200;, score=0.881 total time=   1.0s\n",
            "[CV 1/3] END bootstrap=True, max_depth=80, max_features=2, min_samples_leaf=5, min_samples_split=10, n_estimators=300;, score=0.875 total time=   1.4s\n",
            "[CV 2/3] END bootstrap=True, max_depth=80, max_features=2, min_samples_leaf=5, min_samples_split=10, n_estimators=300;, score=0.877 total time=   1.4s\n",
            "[CV 3/3] END bootstrap=True, max_depth=80, max_features=2, min_samples_leaf=5, min_samples_split=10, n_estimators=300;, score=0.887 total time=   1.4s\n",
            "[CV 1/3] END bootstrap=True, max_depth=80, max_features=2, min_samples_leaf=5, min_samples_split=10, n_estimators=1000;, score=0.877 total time=   4.7s\n",
            "[CV 2/3] END bootstrap=True, max_depth=80, max_features=2, min_samples_leaf=5, min_samples_split=10, n_estimators=1000;, score=0.883 total time=   5.5s\n",
            "[CV 3/3] END bootstrap=True, max_depth=80, max_features=2, min_samples_leaf=5, min_samples_split=10, n_estimators=1000;, score=0.891 total time=   5.2s\n",
            "[CV 1/3] END bootstrap=True, max_depth=80, max_features=2, min_samples_leaf=5, min_samples_split=12, n_estimators=100;, score=0.864 total time=   0.7s\n",
            "[CV 2/3] END bootstrap=True, max_depth=80, max_features=2, min_samples_leaf=5, min_samples_split=12, n_estimators=100;, score=0.870 total time=   0.7s\n",
            "[CV 3/3] END bootstrap=True, max_depth=80, max_features=2, min_samples_leaf=5, min_samples_split=12, n_estimators=100;, score=0.880 total time=   0.6s\n",
            "[CV 1/3] END bootstrap=True, max_depth=80, max_features=2, min_samples_leaf=5, min_samples_split=12, n_estimators=200;, score=0.874 total time=   0.9s\n",
            "[CV 2/3] END bootstrap=True, max_depth=80, max_features=2, min_samples_leaf=5, min_samples_split=12, n_estimators=200;, score=0.880 total time=   1.0s\n",
            "[CV 3/3] END bootstrap=True, max_depth=80, max_features=2, min_samples_leaf=5, min_samples_split=12, n_estimators=200;, score=0.887 total time=   1.0s\n",
            "[CV 1/3] END bootstrap=True, max_depth=80, max_features=2, min_samples_leaf=5, min_samples_split=12, n_estimators=300;, score=0.871 total time=   1.4s\n",
            "[CV 2/3] END bootstrap=True, max_depth=80, max_features=2, min_samples_leaf=5, min_samples_split=12, n_estimators=300;, score=0.881 total time=   1.4s\n",
            "[CV 3/3] END bootstrap=True, max_depth=80, max_features=2, min_samples_leaf=5, min_samples_split=12, n_estimators=300;, score=0.889 total time=   1.4s\n",
            "[CV 1/3] END bootstrap=True, max_depth=80, max_features=2, min_samples_leaf=5, min_samples_split=12, n_estimators=1000;, score=0.875 total time=   4.7s\n",
            "[CV 2/3] END bootstrap=True, max_depth=80, max_features=2, min_samples_leaf=5, min_samples_split=12, n_estimators=1000;, score=0.880 total time=   5.0s\n",
            "[CV 3/3] END bootstrap=True, max_depth=80, max_features=2, min_samples_leaf=5, min_samples_split=12, n_estimators=1000;, score=0.895 total time=   4.7s\n",
            "[CV 1/3] END bootstrap=True, max_depth=80, max_features=3, min_samples_leaf=3, min_samples_split=8, n_estimators=100;, score=0.898 total time=   0.7s\n",
            "[CV 2/3] END bootstrap=True, max_depth=80, max_features=3, min_samples_leaf=3, min_samples_split=8, n_estimators=100;, score=0.907 total time=   0.7s\n",
            "[CV 3/3] END bootstrap=True, max_depth=80, max_features=3, min_samples_leaf=3, min_samples_split=8, n_estimators=100;, score=0.907 total time=   0.7s\n",
            "[CV 1/3] END bootstrap=True, max_depth=80, max_features=3, min_samples_leaf=3, min_samples_split=8, n_estimators=200;, score=0.902 total time=   1.3s\n",
            "[CV 2/3] END bootstrap=True, max_depth=80, max_features=3, min_samples_leaf=3, min_samples_split=8, n_estimators=200;, score=0.914 total time=   1.3s\n",
            "[CV 3/3] END bootstrap=True, max_depth=80, max_features=3, min_samples_leaf=3, min_samples_split=8, n_estimators=200;, score=0.907 total time=   1.3s\n",
            "[CV 1/3] END bootstrap=True, max_depth=80, max_features=3, min_samples_leaf=3, min_samples_split=8, n_estimators=300;, score=0.907 total time=   1.9s\n",
            "[CV 2/3] END bootstrap=True, max_depth=80, max_features=3, min_samples_leaf=3, min_samples_split=8, n_estimators=300;, score=0.911 total time=   2.0s\n",
            "[CV 3/3] END bootstrap=True, max_depth=80, max_features=3, min_samples_leaf=3, min_samples_split=8, n_estimators=300;, score=0.907 total time=   1.9s\n",
            "[CV 1/3] END bootstrap=True, max_depth=80, max_features=3, min_samples_leaf=3, min_samples_split=8, n_estimators=1000;, score=0.911 total time=   6.5s\n",
            "[CV 2/3] END bootstrap=True, max_depth=80, max_features=3, min_samples_leaf=3, min_samples_split=8, n_estimators=1000;, score=0.916 total time=   6.6s\n",
            "[CV 3/3] END bootstrap=True, max_depth=80, max_features=3, min_samples_leaf=3, min_samples_split=8, n_estimators=1000;, score=0.914 total time=   6.6s\n",
            "[CV 1/3] END bootstrap=True, max_depth=80, max_features=3, min_samples_leaf=3, min_samples_split=10, n_estimators=100;, score=0.897 total time=   0.7s\n",
            "[CV 2/3] END bootstrap=True, max_depth=80, max_features=3, min_samples_leaf=3, min_samples_split=10, n_estimators=100;, score=0.905 total time=   0.7s\n",
            "[CV 3/3] END bootstrap=True, max_depth=80, max_features=3, min_samples_leaf=3, min_samples_split=10, n_estimators=100;, score=0.906 total time=   0.7s\n",
            "[CV 1/3] END bootstrap=True, max_depth=80, max_features=3, min_samples_leaf=3, min_samples_split=10, n_estimators=200;, score=0.904 total time=   1.4s\n",
            "[CV 2/3] END bootstrap=True, max_depth=80, max_features=3, min_samples_leaf=3, min_samples_split=10, n_estimators=200;, score=0.913 total time=   1.3s\n",
            "[CV 3/3] END bootstrap=True, max_depth=80, max_features=3, min_samples_leaf=3, min_samples_split=10, n_estimators=200;, score=0.909 total time=   1.4s\n",
            "[CV 1/3] END bootstrap=True, max_depth=80, max_features=3, min_samples_leaf=3, min_samples_split=10, n_estimators=300;, score=0.902 total time=   2.1s\n",
            "[CV 2/3] END bootstrap=True, max_depth=80, max_features=3, min_samples_leaf=3, min_samples_split=10, n_estimators=300;, score=0.913 total time=   2.3s\n",
            "[CV 3/3] END bootstrap=True, max_depth=80, max_features=3, min_samples_leaf=3, min_samples_split=10, n_estimators=300;, score=0.905 total time=   2.0s\n",
            "[CV 1/3] END bootstrap=True, max_depth=80, max_features=3, min_samples_leaf=3, min_samples_split=10, n_estimators=1000;, score=0.910 total time=   6.4s\n",
            "[CV 2/3] END bootstrap=True, max_depth=80, max_features=3, min_samples_leaf=3, min_samples_split=10, n_estimators=1000;, score=0.910 total time=   6.6s\n",
            "[CV 3/3] END bootstrap=True, max_depth=80, max_features=3, min_samples_leaf=3, min_samples_split=10, n_estimators=1000;, score=0.912 total time=   6.4s\n",
            "[CV 1/3] END bootstrap=True, max_depth=80, max_features=3, min_samples_leaf=3, min_samples_split=12, n_estimators=100;, score=0.902 total time=   0.6s\n",
            "[CV 2/3] END bootstrap=True, max_depth=80, max_features=3, min_samples_leaf=3, min_samples_split=12, n_estimators=100;, score=0.901 total time=   0.7s\n",
            "[CV 3/3] END bootstrap=True, max_depth=80, max_features=3, min_samples_leaf=3, min_samples_split=12, n_estimators=100;, score=0.906 total time=   0.7s\n",
            "[CV 1/3] END bootstrap=True, max_depth=80, max_features=3, min_samples_leaf=3, min_samples_split=12, n_estimators=200;, score=0.906 total time=   1.3s\n",
            "[CV 2/3] END bootstrap=True, max_depth=80, max_features=3, min_samples_leaf=3, min_samples_split=12, n_estimators=200;, score=0.910 total time=   1.3s\n",
            "[CV 3/3] END bootstrap=True, max_depth=80, max_features=3, min_samples_leaf=3, min_samples_split=12, n_estimators=200;, score=0.908 total time=   1.3s\n",
            "[CV 1/3] END bootstrap=True, max_depth=80, max_features=3, min_samples_leaf=3, min_samples_split=12, n_estimators=300;, score=0.905 total time=   1.9s\n",
            "[CV 2/3] END bootstrap=True, max_depth=80, max_features=3, min_samples_leaf=3, min_samples_split=12, n_estimators=300;, score=0.914 total time=   1.9s\n",
            "[CV 3/3] END bootstrap=True, max_depth=80, max_features=3, min_samples_leaf=3, min_samples_split=12, n_estimators=300;, score=0.910 total time=   1.9s\n",
            "[CV 1/3] END bootstrap=True, max_depth=80, max_features=3, min_samples_leaf=3, min_samples_split=12, n_estimators=1000;, score=0.905 total time=   6.5s\n",
            "[CV 2/3] END bootstrap=True, max_depth=80, max_features=3, min_samples_leaf=3, min_samples_split=12, n_estimators=1000;, score=0.912 total time=   6.3s\n",
            "[CV 3/3] END bootstrap=True, max_depth=80, max_features=3, min_samples_leaf=3, min_samples_split=12, n_estimators=1000;, score=0.911 total time=   6.4s\n",
            "[CV 1/3] END bootstrap=True, max_depth=80, max_features=3, min_samples_leaf=4, min_samples_split=8, n_estimators=100;, score=0.891 total time=   0.6s\n",
            "[CV 2/3] END bootstrap=True, max_depth=80, max_features=3, min_samples_leaf=4, min_samples_split=8, n_estimators=100;, score=0.898 total time=   0.6s\n",
            "[CV 3/3] END bootstrap=True, max_depth=80, max_features=3, min_samples_leaf=4, min_samples_split=8, n_estimators=100;, score=0.901 total time=   0.7s\n",
            "[CV 1/3] END bootstrap=True, max_depth=80, max_features=3, min_samples_leaf=4, min_samples_split=8, n_estimators=200;, score=0.898 total time=   1.3s\n",
            "[CV 2/3] END bootstrap=True, max_depth=80, max_features=3, min_samples_leaf=4, min_samples_split=8, n_estimators=200;, score=0.903 total time=   1.3s\n",
            "[CV 3/3] END bootstrap=True, max_depth=80, max_features=3, min_samples_leaf=4, min_samples_split=8, n_estimators=200;, score=0.907 total time=   1.3s\n",
            "[CV 1/3] END bootstrap=True, max_depth=80, max_features=3, min_samples_leaf=4, min_samples_split=8, n_estimators=300;, score=0.898 total time=   1.9s\n",
            "[CV 2/3] END bootstrap=True, max_depth=80, max_features=3, min_samples_leaf=4, min_samples_split=8, n_estimators=300;, score=0.910 total time=   1.9s\n",
            "[CV 3/3] END bootstrap=True, max_depth=80, max_features=3, min_samples_leaf=4, min_samples_split=8, n_estimators=300;, score=0.908 total time=   1.9s\n",
            "[CV 1/3] END bootstrap=True, max_depth=80, max_features=3, min_samples_leaf=4, min_samples_split=8, n_estimators=1000;, score=0.904 total time=   6.2s\n",
            "[CV 2/3] END bootstrap=True, max_depth=80, max_features=3, min_samples_leaf=4, min_samples_split=8, n_estimators=1000;, score=0.910 total time=   6.1s\n",
            "[CV 3/3] END bootstrap=True, max_depth=80, max_features=3, min_samples_leaf=4, min_samples_split=8, n_estimators=1000;, score=0.911 total time=   6.2s\n",
            "[CV 1/3] END bootstrap=True, max_depth=80, max_features=3, min_samples_leaf=4, min_samples_split=10, n_estimators=100;, score=0.890 total time=   0.6s\n",
            "[CV 2/3] END bootstrap=True, max_depth=80, max_features=3, min_samples_leaf=4, min_samples_split=10, n_estimators=100;, score=0.899 total time=   0.6s\n",
            "[CV 3/3] END bootstrap=True, max_depth=80, max_features=3, min_samples_leaf=4, min_samples_split=10, n_estimators=100;, score=0.907 total time=   0.7s\n",
            "[CV 1/3] END bootstrap=True, max_depth=80, max_features=3, min_samples_leaf=4, min_samples_split=10, n_estimators=200;, score=0.893 total time=   1.3s\n",
            "[CV 2/3] END bootstrap=True, max_depth=80, max_features=3, min_samples_leaf=4, min_samples_split=10, n_estimators=200;, score=0.907 total time=   1.3s\n",
            "[CV 3/3] END bootstrap=True, max_depth=80, max_features=3, min_samples_leaf=4, min_samples_split=10, n_estimators=200;, score=0.902 total time=   1.3s\n",
            "[CV 1/3] END bootstrap=True, max_depth=80, max_features=3, min_samples_leaf=4, min_samples_split=10, n_estimators=300;, score=0.895 total time=   1.9s\n",
            "[CV 2/3] END bootstrap=True, max_depth=80, max_features=3, min_samples_leaf=4, min_samples_split=10, n_estimators=300;, score=0.907 total time=   1.8s\n",
            "[CV 3/3] END bootstrap=True, max_depth=80, max_features=3, min_samples_leaf=4, min_samples_split=10, n_estimators=300;, score=0.910 total time=   1.9s\n",
            "[CV 1/3] END bootstrap=True, max_depth=80, max_features=3, min_samples_leaf=4, min_samples_split=10, n_estimators=1000;, score=0.900 total time=   6.2s\n",
            "[CV 2/3] END bootstrap=True, max_depth=80, max_features=3, min_samples_leaf=4, min_samples_split=10, n_estimators=1000;, score=0.908 total time=   6.2s\n",
            "[CV 3/3] END bootstrap=True, max_depth=80, max_features=3, min_samples_leaf=4, min_samples_split=10, n_estimators=1000;, score=0.907 total time=   6.2s\n",
            "[CV 1/3] END bootstrap=True, max_depth=80, max_features=3, min_samples_leaf=4, min_samples_split=12, n_estimators=100;, score=0.889 total time=   0.6s\n",
            "[CV 2/3] END bootstrap=True, max_depth=80, max_features=3, min_samples_leaf=4, min_samples_split=12, n_estimators=100;, score=0.897 total time=   0.6s\n",
            "[CV 3/3] END bootstrap=True, max_depth=80, max_features=3, min_samples_leaf=4, min_samples_split=12, n_estimators=100;, score=0.904 total time=   0.6s\n",
            "[CV 1/3] END bootstrap=True, max_depth=80, max_features=3, min_samples_leaf=4, min_samples_split=12, n_estimators=200;, score=0.892 total time=   1.2s\n",
            "[CV 2/3] END bootstrap=True, max_depth=80, max_features=3, min_samples_leaf=4, min_samples_split=12, n_estimators=200;, score=0.903 total time=   1.2s\n",
            "[CV 3/3] END bootstrap=True, max_depth=80, max_features=3, min_samples_leaf=4, min_samples_split=12, n_estimators=200;, score=0.899 total time=   1.2s\n",
            "[CV 1/3] END bootstrap=True, max_depth=80, max_features=3, min_samples_leaf=4, min_samples_split=12, n_estimators=300;, score=0.898 total time=   1.8s\n",
            "[CV 2/3] END bootstrap=True, max_depth=80, max_features=3, min_samples_leaf=4, min_samples_split=12, n_estimators=300;, score=0.904 total time=   1.8s\n",
            "[CV 3/3] END bootstrap=True, max_depth=80, max_features=3, min_samples_leaf=4, min_samples_split=12, n_estimators=300;, score=0.903 total time=   1.8s\n",
            "[CV 1/3] END bootstrap=True, max_depth=80, max_features=3, min_samples_leaf=4, min_samples_split=12, n_estimators=1000;, score=0.901 total time=   6.0s\n",
            "[CV 2/3] END bootstrap=True, max_depth=80, max_features=3, min_samples_leaf=4, min_samples_split=12, n_estimators=1000;, score=0.910 total time=   6.0s\n",
            "[CV 3/3] END bootstrap=True, max_depth=80, max_features=3, min_samples_leaf=4, min_samples_split=12, n_estimators=1000;, score=0.902 total time=   6.0s\n",
            "[CV 1/3] END bootstrap=True, max_depth=80, max_features=3, min_samples_leaf=5, min_samples_split=8, n_estimators=100;, score=0.885 total time=   0.6s\n",
            "[CV 2/3] END bootstrap=True, max_depth=80, max_features=3, min_samples_leaf=5, min_samples_split=8, n_estimators=100;, score=0.892 total time=   0.6s\n",
            "[CV 3/3] END bootstrap=True, max_depth=80, max_features=3, min_samples_leaf=5, min_samples_split=8, n_estimators=100;, score=0.897 total time=   0.6s\n",
            "[CV 1/3] END bootstrap=True, max_depth=80, max_features=3, min_samples_leaf=5, min_samples_split=8, n_estimators=200;, score=0.889 total time=   1.2s\n",
            "[CV 2/3] END bootstrap=True, max_depth=80, max_features=3, min_samples_leaf=5, min_samples_split=8, n_estimators=200;, score=0.897 total time=   1.2s\n",
            "[CV 3/3] END bootstrap=True, max_depth=80, max_features=3, min_samples_leaf=5, min_samples_split=8, n_estimators=200;, score=0.905 total time=   1.2s\n",
            "[CV 1/3] END bootstrap=True, max_depth=80, max_features=3, min_samples_leaf=5, min_samples_split=8, n_estimators=300;, score=0.898 total time=   1.8s\n",
            "[CV 2/3] END bootstrap=True, max_depth=80, max_features=3, min_samples_leaf=5, min_samples_split=8, n_estimators=300;, score=0.905 total time=   1.8s\n",
            "[CV 3/3] END bootstrap=True, max_depth=80, max_features=3, min_samples_leaf=5, min_samples_split=8, n_estimators=300;, score=0.907 total time=   1.8s\n",
            "[CV 1/3] END bootstrap=True, max_depth=80, max_features=3, min_samples_leaf=5, min_samples_split=8, n_estimators=1000;, score=0.894 total time=   5.8s\n",
            "[CV 2/3] END bootstrap=True, max_depth=80, max_features=3, min_samples_leaf=5, min_samples_split=8, n_estimators=1000;, score=0.904 total time=   5.9s\n",
            "[CV 3/3] END bootstrap=True, max_depth=80, max_features=3, min_samples_leaf=5, min_samples_split=8, n_estimators=1000;, score=0.904 total time=   5.9s\n",
            "[CV 1/3] END bootstrap=True, max_depth=80, max_features=3, min_samples_leaf=5, min_samples_split=10, n_estimators=100;, score=0.887 total time=   0.6s\n",
            "[CV 2/3] END bootstrap=True, max_depth=80, max_features=3, min_samples_leaf=5, min_samples_split=10, n_estimators=100;, score=0.891 total time=   0.6s\n",
            "[CV 3/3] END bootstrap=True, max_depth=80, max_features=3, min_samples_leaf=5, min_samples_split=10, n_estimators=100;, score=0.894 total time=   0.6s\n",
            "[CV 1/3] END bootstrap=True, max_depth=80, max_features=3, min_samples_leaf=5, min_samples_split=10, n_estimators=200;, score=0.886 total time=   1.2s\n",
            "[CV 2/3] END bootstrap=True, max_depth=80, max_features=3, min_samples_leaf=5, min_samples_split=10, n_estimators=200;, score=0.895 total time=   1.2s\n",
            "[CV 3/3] END bootstrap=True, max_depth=80, max_features=3, min_samples_leaf=5, min_samples_split=10, n_estimators=200;, score=0.904 total time=   1.2s\n",
            "[CV 1/3] END bootstrap=True, max_depth=80, max_features=3, min_samples_leaf=5, min_samples_split=10, n_estimators=300;, score=0.893 total time=   1.8s\n",
            "[CV 2/3] END bootstrap=True, max_depth=80, max_features=3, min_samples_leaf=5, min_samples_split=10, n_estimators=300;, score=0.900 total time=   1.9s\n",
            "[CV 3/3] END bootstrap=True, max_depth=80, max_features=3, min_samples_leaf=5, min_samples_split=10, n_estimators=300;, score=0.899 total time=   1.8s\n",
            "[CV 1/3] END bootstrap=True, max_depth=80, max_features=3, min_samples_leaf=5, min_samples_split=10, n_estimators=1000;, score=0.893 total time=   6.1s\n",
            "[CV 2/3] END bootstrap=True, max_depth=80, max_features=3, min_samples_leaf=5, min_samples_split=10, n_estimators=1000;, score=0.899 total time=   6.1s\n",
            "[CV 3/3] END bootstrap=True, max_depth=80, max_features=3, min_samples_leaf=5, min_samples_split=10, n_estimators=1000;, score=0.906 total time=   6.1s\n",
            "[CV 1/3] END bootstrap=True, max_depth=80, max_features=3, min_samples_leaf=5, min_samples_split=12, n_estimators=100;, score=0.885 total time=   0.6s\n",
            "[CV 2/3] END bootstrap=True, max_depth=80, max_features=3, min_samples_leaf=5, min_samples_split=12, n_estimators=100;, score=0.895 total time=   0.6s\n",
            "[CV 3/3] END bootstrap=True, max_depth=80, max_features=3, min_samples_leaf=5, min_samples_split=12, n_estimators=100;, score=0.894 total time=   0.6s\n",
            "[CV 1/3] END bootstrap=True, max_depth=80, max_features=3, min_samples_leaf=5, min_samples_split=12, n_estimators=200;, score=0.889 total time=   1.2s\n",
            "[CV 2/3] END bootstrap=True, max_depth=80, max_features=3, min_samples_leaf=5, min_samples_split=12, n_estimators=200;, score=0.897 total time=   1.2s\n",
            "[CV 3/3] END bootstrap=True, max_depth=80, max_features=3, min_samples_leaf=5, min_samples_split=12, n_estimators=200;, score=0.907 total time=   1.2s\n",
            "[CV 1/3] END bootstrap=True, max_depth=80, max_features=3, min_samples_leaf=5, min_samples_split=12, n_estimators=300;, score=0.892 total time=   1.9s\n",
            "[CV 2/3] END bootstrap=True, max_depth=80, max_features=3, min_samples_leaf=5, min_samples_split=12, n_estimators=300;, score=0.899 total time=   1.8s\n",
            "[CV 3/3] END bootstrap=True, max_depth=80, max_features=3, min_samples_leaf=5, min_samples_split=12, n_estimators=300;, score=0.898 total time=   1.8s\n",
            "[CV 1/3] END bootstrap=True, max_depth=80, max_features=3, min_samples_leaf=5, min_samples_split=12, n_estimators=1000;, score=0.898 total time=   5.9s\n",
            "[CV 2/3] END bootstrap=True, max_depth=80, max_features=3, min_samples_leaf=5, min_samples_split=12, n_estimators=1000;, score=0.903 total time=   5.9s\n",
            "[CV 3/3] END bootstrap=True, max_depth=80, max_features=3, min_samples_leaf=5, min_samples_split=12, n_estimators=1000;, score=0.903 total time=   5.9s\n",
            "[CV 1/3] END bootstrap=True, max_depth=90, max_features=2, min_samples_leaf=3, min_samples_split=8, n_estimators=100;, score=0.883 total time=   0.5s\n",
            "[CV 2/3] END bootstrap=True, max_depth=90, max_features=2, min_samples_leaf=3, min_samples_split=8, n_estimators=100;, score=0.883 total time=   0.6s\n",
            "[CV 3/3] END bootstrap=True, max_depth=90, max_features=2, min_samples_leaf=3, min_samples_split=8, n_estimators=100;, score=0.893 total time=   0.6s\n",
            "[CV 1/3] END bootstrap=True, max_depth=90, max_features=2, min_samples_leaf=3, min_samples_split=8, n_estimators=200;, score=0.888 total time=   1.1s\n",
            "[CV 2/3] END bootstrap=True, max_depth=90, max_features=2, min_samples_leaf=3, min_samples_split=8, n_estimators=200;, score=0.899 total time=   1.1s\n",
            "[CV 3/3] END bootstrap=True, max_depth=90, max_features=2, min_samples_leaf=3, min_samples_split=8, n_estimators=200;, score=0.898 total time=   1.1s\n",
            "[CV 1/3] END bootstrap=True, max_depth=90, max_features=2, min_samples_leaf=3, min_samples_split=8, n_estimators=300;, score=0.894 total time=   1.6s\n",
            "[CV 2/3] END bootstrap=True, max_depth=90, max_features=2, min_samples_leaf=3, min_samples_split=8, n_estimators=300;, score=0.903 total time=   1.6s\n",
            "[CV 3/3] END bootstrap=True, max_depth=90, max_features=2, min_samples_leaf=3, min_samples_split=8, n_estimators=300;, score=0.904 total time=   1.6s\n",
            "[CV 1/3] END bootstrap=True, max_depth=90, max_features=2, min_samples_leaf=3, min_samples_split=8, n_estimators=1000;, score=0.892 total time=   5.3s\n",
            "[CV 2/3] END bootstrap=True, max_depth=90, max_features=2, min_samples_leaf=3, min_samples_split=8, n_estimators=1000;, score=0.899 total time=   5.5s\n",
            "[CV 3/3] END bootstrap=True, max_depth=90, max_features=2, min_samples_leaf=3, min_samples_split=8, n_estimators=1000;, score=0.905 total time=   5.2s\n",
            "[CV 1/3] END bootstrap=True, max_depth=90, max_features=2, min_samples_leaf=3, min_samples_split=10, n_estimators=100;, score=0.882 total time=   0.6s\n",
            "[CV 2/3] END bootstrap=True, max_depth=90, max_features=2, min_samples_leaf=3, min_samples_split=10, n_estimators=100;, score=0.891 total time=   0.6s\n",
            "[CV 3/3] END bootstrap=True, max_depth=90, max_features=2, min_samples_leaf=3, min_samples_split=10, n_estimators=100;, score=0.892 total time=   0.6s\n",
            "[CV 1/3] END bootstrap=True, max_depth=90, max_features=2, min_samples_leaf=3, min_samples_split=10, n_estimators=200;, score=0.883 total time=   1.1s\n",
            "[CV 2/3] END bootstrap=True, max_depth=90, max_features=2, min_samples_leaf=3, min_samples_split=10, n_estimators=200;, score=0.898 total time=   1.1s\n",
            "[CV 3/3] END bootstrap=True, max_depth=90, max_features=2, min_samples_leaf=3, min_samples_split=10, n_estimators=200;, score=0.898 total time=   1.1s\n",
            "[CV 1/3] END bootstrap=True, max_depth=90, max_features=2, min_samples_leaf=3, min_samples_split=10, n_estimators=300;, score=0.892 total time=   1.6s\n",
            "[CV 2/3] END bootstrap=True, max_depth=90, max_features=2, min_samples_leaf=3, min_samples_split=10, n_estimators=300;, score=0.898 total time=   1.6s\n",
            "[CV 3/3] END bootstrap=True, max_depth=90, max_features=2, min_samples_leaf=3, min_samples_split=10, n_estimators=300;, score=0.898 total time=   1.6s\n",
            "[CV 1/3] END bootstrap=True, max_depth=90, max_features=2, min_samples_leaf=3, min_samples_split=10, n_estimators=1000;, score=0.897 total time=   5.3s\n",
            "[CV 2/3] END bootstrap=True, max_depth=90, max_features=2, min_samples_leaf=3, min_samples_split=10, n_estimators=1000;, score=0.901 total time=   5.4s\n",
            "[CV 3/3] END bootstrap=True, max_depth=90, max_features=2, min_samples_leaf=3, min_samples_split=10, n_estimators=1000;, score=0.900 total time=   5.3s\n",
            "[CV 1/3] END bootstrap=True, max_depth=90, max_features=2, min_samples_leaf=3, min_samples_split=12, n_estimators=100;, score=0.879 total time=   0.6s\n",
            "[CV 2/3] END bootstrap=True, max_depth=90, max_features=2, min_samples_leaf=3, min_samples_split=12, n_estimators=100;, score=0.883 total time=   0.6s\n",
            "[CV 3/3] END bootstrap=True, max_depth=90, max_features=2, min_samples_leaf=3, min_samples_split=12, n_estimators=100;, score=0.898 total time=   0.6s\n",
            "[CV 1/3] END bootstrap=True, max_depth=90, max_features=2, min_samples_leaf=3, min_samples_split=12, n_estimators=200;, score=0.892 total time=   1.1s\n",
            "[CV 2/3] END bootstrap=True, max_depth=90, max_features=2, min_samples_leaf=3, min_samples_split=12, n_estimators=200;, score=0.897 total time=   1.1s\n",
            "[CV 3/3] END bootstrap=True, max_depth=90, max_features=2, min_samples_leaf=3, min_samples_split=12, n_estimators=200;, score=0.894 total time=   1.1s\n",
            "[CV 1/3] END bootstrap=True, max_depth=90, max_features=2, min_samples_leaf=3, min_samples_split=12, n_estimators=300;, score=0.893 total time=   1.6s\n",
            "[CV 2/3] END bootstrap=True, max_depth=90, max_features=2, min_samples_leaf=3, min_samples_split=12, n_estimators=300;, score=0.902 total time=   1.6s\n",
            "[CV 3/3] END bootstrap=True, max_depth=90, max_features=2, min_samples_leaf=3, min_samples_split=12, n_estimators=300;, score=0.898 total time=   1.6s\n",
            "[CV 1/3] END bootstrap=True, max_depth=90, max_features=2, min_samples_leaf=3, min_samples_split=12, n_estimators=1000;, score=0.895 total time=   5.2s\n",
            "[CV 2/3] END bootstrap=True, max_depth=90, max_features=2, min_samples_leaf=3, min_samples_split=12, n_estimators=1000;, score=0.897 total time=   5.2s\n",
            "[CV 3/3] END bootstrap=True, max_depth=90, max_features=2, min_samples_leaf=3, min_samples_split=12, n_estimators=1000;, score=0.900 total time=   5.1s\n",
            "[CV 1/3] END bootstrap=True, max_depth=90, max_features=2, min_samples_leaf=4, min_samples_split=8, n_estimators=100;, score=0.870 total time=   0.5s\n",
            "[CV 2/3] END bootstrap=True, max_depth=90, max_features=2, min_samples_leaf=4, min_samples_split=8, n_estimators=100;, score=0.893 total time=   0.5s\n",
            "[CV 3/3] END bootstrap=True, max_depth=90, max_features=2, min_samples_leaf=4, min_samples_split=8, n_estimators=100;, score=0.892 total time=   0.5s\n",
            "[CV 1/3] END bootstrap=True, max_depth=90, max_features=2, min_samples_leaf=4, min_samples_split=8, n_estimators=200;, score=0.875 total time=   1.0s\n",
            "[CV 2/3] END bootstrap=True, max_depth=90, max_features=2, min_samples_leaf=4, min_samples_split=8, n_estimators=200;, score=0.892 total time=   1.0s\n",
            "[CV 3/3] END bootstrap=True, max_depth=90, max_features=2, min_samples_leaf=4, min_samples_split=8, n_estimators=200;, score=0.895 total time=   1.0s\n",
            "[CV 1/3] END bootstrap=True, max_depth=90, max_features=2, min_samples_leaf=4, min_samples_split=8, n_estimators=300;, score=0.888 total time=   1.5s\n",
            "[CV 2/3] END bootstrap=True, max_depth=90, max_features=2, min_samples_leaf=4, min_samples_split=8, n_estimators=300;, score=0.890 total time=   1.5s\n",
            "[CV 3/3] END bootstrap=True, max_depth=90, max_features=2, min_samples_leaf=4, min_samples_split=8, n_estimators=300;, score=0.889 total time=   1.5s\n",
            "[CV 1/3] END bootstrap=True, max_depth=90, max_features=2, min_samples_leaf=4, min_samples_split=8, n_estimators=1000;, score=0.884 total time=   4.9s\n",
            "[CV 2/3] END bootstrap=True, max_depth=90, max_features=2, min_samples_leaf=4, min_samples_split=8, n_estimators=1000;, score=0.894 total time=   4.9s\n",
            "[CV 3/3] END bootstrap=True, max_depth=90, max_features=2, min_samples_leaf=4, min_samples_split=8, n_estimators=1000;, score=0.896 total time=   5.1s\n",
            "[CV 1/3] END bootstrap=True, max_depth=90, max_features=2, min_samples_leaf=4, min_samples_split=10, n_estimators=100;, score=0.869 total time=   0.5s\n",
            "[CV 2/3] END bootstrap=True, max_depth=90, max_features=2, min_samples_leaf=4, min_samples_split=10, n_estimators=100;, score=0.877 total time=   0.5s\n",
            "[CV 3/3] END bootstrap=True, max_depth=90, max_features=2, min_samples_leaf=4, min_samples_split=10, n_estimators=100;, score=0.889 total time=   0.5s\n",
            "[CV 1/3] END bootstrap=True, max_depth=90, max_features=2, min_samples_leaf=4, min_samples_split=10, n_estimators=200;, score=0.877 total time=   1.0s\n",
            "[CV 2/3] END bootstrap=True, max_depth=90, max_features=2, min_samples_leaf=4, min_samples_split=10, n_estimators=200;, score=0.885 total time=   1.0s\n",
            "[CV 3/3] END bootstrap=True, max_depth=90, max_features=2, min_samples_leaf=4, min_samples_split=10, n_estimators=200;, score=0.895 total time=   1.0s\n",
            "[CV 1/3] END bootstrap=True, max_depth=90, max_features=2, min_samples_leaf=4, min_samples_split=10, n_estimators=300;, score=0.880 total time=   1.5s\n",
            "[CV 2/3] END bootstrap=True, max_depth=90, max_features=2, min_samples_leaf=4, min_samples_split=10, n_estimators=300;, score=0.887 total time=   1.5s\n",
            "[CV 3/3] END bootstrap=True, max_depth=90, max_features=2, min_samples_leaf=4, min_samples_split=10, n_estimators=300;, score=0.895 total time=   1.5s\n",
            "[CV 1/3] END bootstrap=True, max_depth=90, max_features=2, min_samples_leaf=4, min_samples_split=10, n_estimators=1000;, score=0.888 total time=   4.8s\n",
            "[CV 2/3] END bootstrap=True, max_depth=90, max_features=2, min_samples_leaf=4, min_samples_split=10, n_estimators=1000;, score=0.888 total time=   5.0s\n",
            "[CV 3/3] END bootstrap=True, max_depth=90, max_features=2, min_samples_leaf=4, min_samples_split=10, n_estimators=1000;, score=0.896 total time=   4.9s\n",
            "[CV 1/3] END bootstrap=True, max_depth=90, max_features=2, min_samples_leaf=4, min_samples_split=12, n_estimators=100;, score=0.869 total time=   0.5s\n",
            "[CV 2/3] END bootstrap=True, max_depth=90, max_features=2, min_samples_leaf=4, min_samples_split=12, n_estimators=100;, score=0.885 total time=   0.5s\n",
            "[CV 3/3] END bootstrap=True, max_depth=90, max_features=2, min_samples_leaf=4, min_samples_split=12, n_estimators=100;, score=0.889 total time=   0.5s\n",
            "[CV 1/3] END bootstrap=True, max_depth=90, max_features=2, min_samples_leaf=4, min_samples_split=12, n_estimators=200;, score=0.877 total time=   1.1s\n",
            "[CV 2/3] END bootstrap=True, max_depth=90, max_features=2, min_samples_leaf=4, min_samples_split=12, n_estimators=200;, score=0.887 total time=   1.1s\n",
            "[CV 3/3] END bootstrap=True, max_depth=90, max_features=2, min_samples_leaf=4, min_samples_split=12, n_estimators=200;, score=0.892 total time=   1.0s\n",
            "[CV 1/3] END bootstrap=True, max_depth=90, max_features=2, min_samples_leaf=4, min_samples_split=12, n_estimators=300;, score=0.881 total time=   1.6s\n",
            "[CV 2/3] END bootstrap=True, max_depth=90, max_features=2, min_samples_leaf=4, min_samples_split=12, n_estimators=300;, score=0.887 total time=   1.6s\n",
            "[CV 3/3] END bootstrap=True, max_depth=90, max_features=2, min_samples_leaf=4, min_samples_split=12, n_estimators=300;, score=0.894 total time=   1.6s\n",
            "[CV 1/3] END bootstrap=True, max_depth=90, max_features=2, min_samples_leaf=4, min_samples_split=12, n_estimators=1000;, score=0.883 total time=   5.1s\n",
            "[CV 2/3] END bootstrap=True, max_depth=90, max_features=2, min_samples_leaf=4, min_samples_split=12, n_estimators=1000;, score=0.890 total time=   5.2s\n",
            "[CV 3/3] END bootstrap=True, max_depth=90, max_features=2, min_samples_leaf=4, min_samples_split=12, n_estimators=1000;, score=0.895 total time=   5.1s\n",
            "[CV 1/3] END bootstrap=True, max_depth=90, max_features=2, min_samples_leaf=5, min_samples_split=8, n_estimators=100;, score=0.866 total time=   0.5s\n",
            "[CV 2/3] END bootstrap=True, max_depth=90, max_features=2, min_samples_leaf=5, min_samples_split=8, n_estimators=100;, score=0.868 total time=   0.5s\n",
            "[CV 3/3] END bootstrap=True, max_depth=90, max_features=2, min_samples_leaf=5, min_samples_split=8, n_estimators=100;, score=0.874 total time=   0.5s\n",
            "[CV 1/3] END bootstrap=True, max_depth=90, max_features=2, min_samples_leaf=5, min_samples_split=8, n_estimators=200;, score=0.870 total time=   1.0s\n",
            "[CV 2/3] END bootstrap=True, max_depth=90, max_features=2, min_samples_leaf=5, min_samples_split=8, n_estimators=200;, score=0.882 total time=   1.0s\n",
            "[CV 3/3] END bootstrap=True, max_depth=90, max_features=2, min_samples_leaf=5, min_samples_split=8, n_estimators=200;, score=0.886 total time=   1.0s\n",
            "[CV 1/3] END bootstrap=True, max_depth=90, max_features=2, min_samples_leaf=5, min_samples_split=8, n_estimators=300;, score=0.876 total time=   1.5s\n",
            "[CV 2/3] END bootstrap=True, max_depth=90, max_features=2, min_samples_leaf=5, min_samples_split=8, n_estimators=300;, score=0.882 total time=   1.6s\n",
            "[CV 3/3] END bootstrap=True, max_depth=90, max_features=2, min_samples_leaf=5, min_samples_split=8, n_estimators=300;, score=0.892 total time=   1.6s\n",
            "[CV 1/3] END bootstrap=True, max_depth=90, max_features=2, min_samples_leaf=5, min_samples_split=8, n_estimators=1000;, score=0.878 total time=   5.1s\n",
            "[CV 2/3] END bootstrap=True, max_depth=90, max_features=2, min_samples_leaf=5, min_samples_split=8, n_estimators=1000;, score=0.885 total time=   5.2s\n",
            "[CV 3/3] END bootstrap=True, max_depth=90, max_features=2, min_samples_leaf=5, min_samples_split=8, n_estimators=1000;, score=0.893 total time=   5.1s\n",
            "[CV 1/3] END bootstrap=True, max_depth=90, max_features=2, min_samples_leaf=5, min_samples_split=10, n_estimators=100;, score=0.871 total time=   0.5s\n",
            "[CV 2/3] END bootstrap=True, max_depth=90, max_features=2, min_samples_leaf=5, min_samples_split=10, n_estimators=100;, score=0.860 total time=   0.5s\n",
            "[CV 3/3] END bootstrap=True, max_depth=90, max_features=2, min_samples_leaf=5, min_samples_split=10, n_estimators=100;, score=0.872 total time=   0.5s\n",
            "[CV 1/3] END bootstrap=True, max_depth=90, max_features=2, min_samples_leaf=5, min_samples_split=10, n_estimators=200;, score=0.876 total time=   1.0s\n",
            "[CV 2/3] END bootstrap=True, max_depth=90, max_features=2, min_samples_leaf=5, min_samples_split=10, n_estimators=200;, score=0.884 total time=   1.1s\n",
            "[CV 3/3] END bootstrap=True, max_depth=90, max_features=2, min_samples_leaf=5, min_samples_split=10, n_estimators=200;, score=0.893 total time=   1.0s\n",
            "[CV 1/3] END bootstrap=True, max_depth=90, max_features=2, min_samples_leaf=5, min_samples_split=10, n_estimators=300;, score=0.882 total time=   1.5s\n",
            "[CV 2/3] END bootstrap=True, max_depth=90, max_features=2, min_samples_leaf=5, min_samples_split=10, n_estimators=300;, score=0.881 total time=   1.6s\n",
            "[CV 3/3] END bootstrap=True, max_depth=90, max_features=2, min_samples_leaf=5, min_samples_split=10, n_estimators=300;, score=0.887 total time=   1.6s\n",
            "[CV 1/3] END bootstrap=True, max_depth=90, max_features=2, min_samples_leaf=5, min_samples_split=10, n_estimators=1000;, score=0.877 total time=   5.4s\n",
            "[CV 2/3] END bootstrap=True, max_depth=90, max_features=2, min_samples_leaf=5, min_samples_split=10, n_estimators=1000;, score=0.886 total time=   5.1s\n",
            "[CV 3/3] END bootstrap=True, max_depth=90, max_features=2, min_samples_leaf=5, min_samples_split=10, n_estimators=1000;, score=0.893 total time=   5.0s\n",
            "[CV 1/3] END bootstrap=True, max_depth=90, max_features=2, min_samples_leaf=5, min_samples_split=12, n_estimators=100;, score=0.867 total time=   0.5s\n",
            "[CV 2/3] END bootstrap=True, max_depth=90, max_features=2, min_samples_leaf=5, min_samples_split=12, n_estimators=100;, score=0.876 total time=   0.6s\n",
            "[CV 3/3] END bootstrap=True, max_depth=90, max_features=2, min_samples_leaf=5, min_samples_split=12, n_estimators=100;, score=0.881 total time=   0.5s\n",
            "[CV 1/3] END bootstrap=True, max_depth=90, max_features=2, min_samples_leaf=5, min_samples_split=12, n_estimators=200;, score=0.874 total time=   1.0s\n",
            "[CV 2/3] END bootstrap=True, max_depth=90, max_features=2, min_samples_leaf=5, min_samples_split=12, n_estimators=200;, score=0.884 total time=   1.0s\n",
            "[CV 3/3] END bootstrap=True, max_depth=90, max_features=2, min_samples_leaf=5, min_samples_split=12, n_estimators=200;, score=0.883 total time=   1.0s\n",
            "[CV 1/3] END bootstrap=True, max_depth=90, max_features=2, min_samples_leaf=5, min_samples_split=12, n_estimators=300;, score=0.870 total time=   1.5s\n",
            "[CV 2/3] END bootstrap=True, max_depth=90, max_features=2, min_samples_leaf=5, min_samples_split=12, n_estimators=300;, score=0.880 total time=   1.5s\n",
            "[CV 3/3] END bootstrap=True, max_depth=90, max_features=2, min_samples_leaf=5, min_samples_split=12, n_estimators=300;, score=0.883 total time=   1.5s\n",
            "[CV 1/3] END bootstrap=True, max_depth=90, max_features=2, min_samples_leaf=5, min_samples_split=12, n_estimators=1000;, score=0.882 total time=   5.0s\n",
            "[CV 2/3] END bootstrap=True, max_depth=90, max_features=2, min_samples_leaf=5, min_samples_split=12, n_estimators=1000;, score=0.883 total time=   4.9s\n",
            "[CV 3/3] END bootstrap=True, max_depth=90, max_features=2, min_samples_leaf=5, min_samples_split=12, n_estimators=1000;, score=0.891 total time=   5.0s\n",
            "[CV 1/3] END bootstrap=True, max_depth=90, max_features=3, min_samples_leaf=3, min_samples_split=8, n_estimators=100;, score=0.898 total time=   0.7s\n",
            "[CV 2/3] END bootstrap=True, max_depth=90, max_features=3, min_samples_leaf=3, min_samples_split=8, n_estimators=100;, score=0.904 total time=   0.7s\n",
            "[CV 3/3] END bootstrap=True, max_depth=90, max_features=3, min_samples_leaf=3, min_samples_split=8, n_estimators=100;, score=0.904 total time=   0.7s\n",
            "[CV 1/3] END bootstrap=True, max_depth=90, max_features=3, min_samples_leaf=3, min_samples_split=8, n_estimators=200;, score=0.901 total time=   1.3s\n",
            "[CV 2/3] END bootstrap=True, max_depth=90, max_features=3, min_samples_leaf=3, min_samples_split=8, n_estimators=200;, score=0.911 total time=   1.4s\n",
            "[CV 3/3] END bootstrap=True, max_depth=90, max_features=3, min_samples_leaf=3, min_samples_split=8, n_estimators=200;, score=0.911 total time=   1.3s\n",
            "[CV 1/3] END bootstrap=True, max_depth=90, max_features=3, min_samples_leaf=3, min_samples_split=8, n_estimators=300;, score=0.906 total time=   2.0s\n",
            "[CV 2/3] END bootstrap=True, max_depth=90, max_features=3, min_samples_leaf=3, min_samples_split=8, n_estimators=300;, score=0.916 total time=   2.0s\n",
            "[CV 3/3] END bootstrap=True, max_depth=90, max_features=3, min_samples_leaf=3, min_samples_split=8, n_estimators=300;, score=0.917 total time=   2.0s\n",
            "[CV 1/3] END bootstrap=True, max_depth=90, max_features=3, min_samples_leaf=3, min_samples_split=8, n_estimators=1000;, score=0.909 total time=   6.8s\n",
            "[CV 2/3] END bootstrap=True, max_depth=90, max_features=3, min_samples_leaf=3, min_samples_split=8, n_estimators=1000;, score=0.913 total time=   6.6s\n",
            "[CV 3/3] END bootstrap=True, max_depth=90, max_features=3, min_samples_leaf=3, min_samples_split=8, n_estimators=1000;, score=0.909 total time=   6.6s\n",
            "[CV 1/3] END bootstrap=True, max_depth=90, max_features=3, min_samples_leaf=3, min_samples_split=10, n_estimators=100;, score=0.894 total time=   0.7s\n",
            "[CV 2/3] END bootstrap=True, max_depth=90, max_features=3, min_samples_leaf=3, min_samples_split=10, n_estimators=100;, score=0.906 total time=   0.7s\n",
            "[CV 3/3] END bootstrap=True, max_depth=90, max_features=3, min_samples_leaf=3, min_samples_split=10, n_estimators=100;, score=0.902 total time=   0.7s\n",
            "[CV 1/3] END bootstrap=True, max_depth=90, max_features=3, min_samples_leaf=3, min_samples_split=10, n_estimators=200;, score=0.904 total time=   1.4s\n",
            "[CV 2/3] END bootstrap=True, max_depth=90, max_features=3, min_samples_leaf=3, min_samples_split=10, n_estimators=200;, score=0.916 total time=   1.3s\n",
            "[CV 3/3] END bootstrap=True, max_depth=90, max_features=3, min_samples_leaf=3, min_samples_split=10, n_estimators=200;, score=0.912 total time=   1.4s\n",
            "[CV 1/3] END bootstrap=True, max_depth=90, max_features=3, min_samples_leaf=3, min_samples_split=10, n_estimators=300;, score=0.904 total time=   2.0s\n",
            "[CV 2/3] END bootstrap=True, max_depth=90, max_features=3, min_samples_leaf=3, min_samples_split=10, n_estimators=300;, score=0.911 total time=   2.0s\n",
            "[CV 3/3] END bootstrap=True, max_depth=90, max_features=3, min_samples_leaf=3, min_samples_split=10, n_estimators=300;, score=0.914 total time=   2.0s\n",
            "[CV 1/3] END bootstrap=True, max_depth=90, max_features=3, min_samples_leaf=3, min_samples_split=10, n_estimators=1000;, score=0.907 total time=   6.4s\n",
            "[CV 2/3] END bootstrap=True, max_depth=90, max_features=3, min_samples_leaf=3, min_samples_split=10, n_estimators=1000;, score=0.915 total time=   6.4s\n",
            "[CV 3/3] END bootstrap=True, max_depth=90, max_features=3, min_samples_leaf=3, min_samples_split=10, n_estimators=1000;, score=0.912 total time=   6.4s\n",
            "[CV 1/3] END bootstrap=True, max_depth=90, max_features=3, min_samples_leaf=3, min_samples_split=12, n_estimators=100;, score=0.893 total time=   0.7s\n",
            "[CV 2/3] END bootstrap=True, max_depth=90, max_features=3, min_samples_leaf=3, min_samples_split=12, n_estimators=100;, score=0.899 total time=   0.7s\n",
            "[CV 3/3] END bootstrap=True, max_depth=90, max_features=3, min_samples_leaf=3, min_samples_split=12, n_estimators=100;, score=0.901 total time=   0.7s\n",
            "[CV 1/3] END bootstrap=True, max_depth=90, max_features=3, min_samples_leaf=3, min_samples_split=12, n_estimators=200;, score=0.904 total time=   1.3s\n",
            "[CV 2/3] END bootstrap=True, max_depth=90, max_features=3, min_samples_leaf=3, min_samples_split=12, n_estimators=200;, score=0.911 total time=   1.4s\n",
            "[CV 3/3] END bootstrap=True, max_depth=90, max_features=3, min_samples_leaf=3, min_samples_split=12, n_estimators=200;, score=0.914 total time=   1.3s\n",
            "[CV 1/3] END bootstrap=True, max_depth=90, max_features=3, min_samples_leaf=3, min_samples_split=12, n_estimators=300;, score=0.902 total time=   1.9s\n",
            "[CV 2/3] END bootstrap=True, max_depth=90, max_features=3, min_samples_leaf=3, min_samples_split=12, n_estimators=300;, score=0.913 total time=   1.9s\n",
            "[CV 3/3] END bootstrap=True, max_depth=90, max_features=3, min_samples_leaf=3, min_samples_split=12, n_estimators=300;, score=0.907 total time=   1.9s\n",
            "[CV 1/3] END bootstrap=True, max_depth=90, max_features=3, min_samples_leaf=3, min_samples_split=12, n_estimators=1000;, score=0.907 total time=   6.3s\n",
            "[CV 2/3] END bootstrap=True, max_depth=90, max_features=3, min_samples_leaf=3, min_samples_split=12, n_estimators=1000;, score=0.910 total time=   6.5s\n",
            "[CV 3/3] END bootstrap=True, max_depth=90, max_features=3, min_samples_leaf=3, min_samples_split=12, n_estimators=1000;, score=0.912 total time=   6.4s\n",
            "[CV 1/3] END bootstrap=True, max_depth=90, max_features=3, min_samples_leaf=4, min_samples_split=8, n_estimators=100;, score=0.894 total time=   0.7s\n",
            "[CV 2/3] END bootstrap=True, max_depth=90, max_features=3, min_samples_leaf=4, min_samples_split=8, n_estimators=100;, score=0.895 total time=   0.7s\n",
            "[CV 3/3] END bootstrap=True, max_depth=90, max_features=3, min_samples_leaf=4, min_samples_split=8, n_estimators=100;, score=0.903 total time=   0.7s\n",
            "[CV 1/3] END bootstrap=True, max_depth=90, max_features=3, min_samples_leaf=4, min_samples_split=8, n_estimators=200;, score=0.900 total time=   1.3s\n",
            "[CV 2/3] END bootstrap=True, max_depth=90, max_features=3, min_samples_leaf=4, min_samples_split=8, n_estimators=200;, score=0.907 total time=   1.3s\n",
            "[CV 3/3] END bootstrap=True, max_depth=90, max_features=3, min_samples_leaf=4, min_samples_split=8, n_estimators=200;, score=0.905 total time=   1.3s\n",
            "[CV 1/3] END bootstrap=True, max_depth=90, max_features=3, min_samples_leaf=4, min_samples_split=8, n_estimators=300;, score=0.898 total time=   1.9s\n",
            "[CV 2/3] END bootstrap=True, max_depth=90, max_features=3, min_samples_leaf=4, min_samples_split=8, n_estimators=300;, score=0.909 total time=   1.9s\n",
            "[CV 3/3] END bootstrap=True, max_depth=90, max_features=3, min_samples_leaf=4, min_samples_split=8, n_estimators=300;, score=0.907 total time=   1.9s\n",
            "[CV 1/3] END bootstrap=True, max_depth=90, max_features=3, min_samples_leaf=4, min_samples_split=8, n_estimators=1000;, score=0.899 total time=   6.4s\n",
            "[CV 2/3] END bootstrap=True, max_depth=90, max_features=3, min_samples_leaf=4, min_samples_split=8, n_estimators=1000;, score=0.908 total time=   6.3s\n",
            "[CV 3/3] END bootstrap=True, max_depth=90, max_features=3, min_samples_leaf=4, min_samples_split=8, n_estimators=1000;, score=0.912 total time=   6.3s\n",
            "[CV 1/3] END bootstrap=True, max_depth=90, max_features=3, min_samples_leaf=4, min_samples_split=10, n_estimators=100;, score=0.892 total time=   0.6s\n",
            "[CV 2/3] END bootstrap=True, max_depth=90, max_features=3, min_samples_leaf=4, min_samples_split=10, n_estimators=100;, score=0.904 total time=   0.7s\n",
            "[CV 3/3] END bootstrap=True, max_depth=90, max_features=3, min_samples_leaf=4, min_samples_split=10, n_estimators=100;, score=0.898 total time=   0.6s\n",
            "[CV 1/3] END bootstrap=True, max_depth=90, max_features=3, min_samples_leaf=4, min_samples_split=10, n_estimators=200;, score=0.899 total time=   1.3s\n",
            "[CV 2/3] END bootstrap=True, max_depth=90, max_features=3, min_samples_leaf=4, min_samples_split=10, n_estimators=200;, score=0.908 total time=   1.3s\n",
            "[CV 3/3] END bootstrap=True, max_depth=90, max_features=3, min_samples_leaf=4, min_samples_split=10, n_estimators=200;, score=0.904 total time=   1.3s\n",
            "[CV 1/3] END bootstrap=True, max_depth=90, max_features=3, min_samples_leaf=4, min_samples_split=10, n_estimators=300;, score=0.897 total time=   2.0s\n",
            "[CV 2/3] END bootstrap=True, max_depth=90, max_features=3, min_samples_leaf=4, min_samples_split=10, n_estimators=300;, score=0.907 total time=   2.0s\n",
            "[CV 3/3] END bootstrap=True, max_depth=90, max_features=3, min_samples_leaf=4, min_samples_split=10, n_estimators=300;, score=0.903 total time=   1.9s\n",
            "[CV 1/3] END bootstrap=True, max_depth=90, max_features=3, min_samples_leaf=4, min_samples_split=10, n_estimators=1000;, score=0.901 total time=   6.4s\n",
            "[CV 2/3] END bootstrap=True, max_depth=90, max_features=3, min_samples_leaf=4, min_samples_split=10, n_estimators=1000;, score=0.910 total time=   6.4s\n",
            "[CV 3/3] END bootstrap=True, max_depth=90, max_features=3, min_samples_leaf=4, min_samples_split=10, n_estimators=1000;, score=0.908 total time=   6.5s\n",
            "[CV 1/3] END bootstrap=True, max_depth=90, max_features=3, min_samples_leaf=4, min_samples_split=12, n_estimators=100;, score=0.893 total time=   0.6s\n",
            "[CV 2/3] END bootstrap=True, max_depth=90, max_features=3, min_samples_leaf=4, min_samples_split=12, n_estimators=100;, score=0.902 total time=   0.6s\n",
            "[CV 3/3] END bootstrap=True, max_depth=90, max_features=3, min_samples_leaf=4, min_samples_split=12, n_estimators=100;, score=0.897 total time=   0.6s\n",
            "[CV 1/3] END bootstrap=True, max_depth=90, max_features=3, min_samples_leaf=4, min_samples_split=12, n_estimators=200;, score=0.893 total time=   1.3s\n",
            "[CV 2/3] END bootstrap=True, max_depth=90, max_features=3, min_samples_leaf=4, min_samples_split=12, n_estimators=200;, score=0.908 total time=   1.3s\n",
            "[CV 3/3] END bootstrap=True, max_depth=90, max_features=3, min_samples_leaf=4, min_samples_split=12, n_estimators=200;, score=0.903 total time=   1.2s\n",
            "[CV 1/3] END bootstrap=True, max_depth=90, max_features=3, min_samples_leaf=4, min_samples_split=12, n_estimators=300;, score=0.896 total time=   1.9s\n",
            "[CV 2/3] END bootstrap=True, max_depth=90, max_features=3, min_samples_leaf=4, min_samples_split=12, n_estimators=300;, score=0.910 total time=   1.9s\n",
            "[CV 3/3] END bootstrap=True, max_depth=90, max_features=3, min_samples_leaf=4, min_samples_split=12, n_estimators=300;, score=0.906 total time=   1.9s\n",
            "[CV 1/3] END bootstrap=True, max_depth=90, max_features=3, min_samples_leaf=4, min_samples_split=12, n_estimators=1000;, score=0.900 total time=   6.1s\n",
            "[CV 2/3] END bootstrap=True, max_depth=90, max_features=3, min_samples_leaf=4, min_samples_split=12, n_estimators=1000;, score=0.905 total time=   6.2s\n",
            "[CV 3/3] END bootstrap=True, max_depth=90, max_features=3, min_samples_leaf=4, min_samples_split=12, n_estimators=1000;, score=0.905 total time=   6.1s\n",
            "[CV 1/3] END bootstrap=True, max_depth=90, max_features=3, min_samples_leaf=5, min_samples_split=8, n_estimators=100;, score=0.892 total time=   0.7s\n",
            "[CV 2/3] END bootstrap=True, max_depth=90, max_features=3, min_samples_leaf=5, min_samples_split=8, n_estimators=100;, score=0.896 total time=   0.6s\n",
            "[CV 3/3] END bootstrap=True, max_depth=90, max_features=3, min_samples_leaf=5, min_samples_split=8, n_estimators=100;, score=0.897 total time=   0.6s\n",
            "[CV 1/3] END bootstrap=True, max_depth=90, max_features=3, min_samples_leaf=5, min_samples_split=8, n_estimators=200;, score=0.892 total time=   1.2s\n",
            "[CV 2/3] END bootstrap=True, max_depth=90, max_features=3, min_samples_leaf=5, min_samples_split=8, n_estimators=200;, score=0.898 total time=   1.2s\n",
            "[CV 3/3] END bootstrap=True, max_depth=90, max_features=3, min_samples_leaf=5, min_samples_split=8, n_estimators=200;, score=0.901 total time=   1.2s\n",
            "[CV 1/3] END bootstrap=True, max_depth=90, max_features=3, min_samples_leaf=5, min_samples_split=8, n_estimators=300;, score=0.892 total time=   1.8s\n",
            "[CV 2/3] END bootstrap=True, max_depth=90, max_features=3, min_samples_leaf=5, min_samples_split=8, n_estimators=300;, score=0.898 total time=   1.8s\n",
            "[CV 3/3] END bootstrap=True, max_depth=90, max_features=3, min_samples_leaf=5, min_samples_split=8, n_estimators=300;, score=0.904 total time=   1.8s\n",
            "[CV 1/3] END bootstrap=True, max_depth=90, max_features=3, min_samples_leaf=5, min_samples_split=8, n_estimators=1000;, score=0.902 total time=   5.9s\n",
            "[CV 2/3] END bootstrap=True, max_depth=90, max_features=3, min_samples_leaf=5, min_samples_split=8, n_estimators=1000;, score=0.904 total time=   6.0s\n",
            "[CV 3/3] END bootstrap=True, max_depth=90, max_features=3, min_samples_leaf=5, min_samples_split=8, n_estimators=1000;, score=0.904 total time=   6.0s\n",
            "[CV 1/3] END bootstrap=True, max_depth=90, max_features=3, min_samples_leaf=5, min_samples_split=10, n_estimators=100;, score=0.884 total time=   0.6s\n",
            "[CV 2/3] END bootstrap=True, max_depth=90, max_features=3, min_samples_leaf=5, min_samples_split=10, n_estimators=100;, score=0.890 total time=   0.6s\n",
            "[CV 3/3] END bootstrap=True, max_depth=90, max_features=3, min_samples_leaf=5, min_samples_split=10, n_estimators=100;, score=0.900 total time=   0.6s\n",
            "[CV 1/3] END bootstrap=True, max_depth=90, max_features=3, min_samples_leaf=5, min_samples_split=10, n_estimators=200;, score=0.888 total time=   1.2s\n",
            "[CV 2/3] END bootstrap=True, max_depth=90, max_features=3, min_samples_leaf=5, min_samples_split=10, n_estimators=200;, score=0.897 total time=   1.2s\n",
            "[CV 3/3] END bootstrap=True, max_depth=90, max_features=3, min_samples_leaf=5, min_samples_split=10, n_estimators=200;, score=0.903 total time=   1.2s\n",
            "[CV 1/3] END bootstrap=True, max_depth=90, max_features=3, min_samples_leaf=5, min_samples_split=10, n_estimators=300;, score=0.893 total time=   1.8s\n",
            "[CV 2/3] END bootstrap=True, max_depth=90, max_features=3, min_samples_leaf=5, min_samples_split=10, n_estimators=300;, score=0.901 total time=   1.8s\n",
            "[CV 3/3] END bootstrap=True, max_depth=90, max_features=3, min_samples_leaf=5, min_samples_split=10, n_estimators=300;, score=0.905 total time=   1.8s\n",
            "[CV 1/3] END bootstrap=True, max_depth=90, max_features=3, min_samples_leaf=5, min_samples_split=10, n_estimators=1000;, score=0.901 total time=   6.0s\n",
            "[CV 2/3] END bootstrap=True, max_depth=90, max_features=3, min_samples_leaf=5, min_samples_split=10, n_estimators=1000;, score=0.906 total time=   6.1s\n",
            "[CV 3/3] END bootstrap=True, max_depth=90, max_features=3, min_samples_leaf=5, min_samples_split=10, n_estimators=1000;, score=0.904 total time=   6.1s\n",
            "[CV 1/3] END bootstrap=True, max_depth=90, max_features=3, min_samples_leaf=5, min_samples_split=12, n_estimators=100;, score=0.891 total time=   0.7s\n",
            "[CV 2/3] END bootstrap=True, max_depth=90, max_features=3, min_samples_leaf=5, min_samples_split=12, n_estimators=100;, score=0.894 total time=   0.6s\n",
            "[CV 3/3] END bootstrap=True, max_depth=90, max_features=3, min_samples_leaf=5, min_samples_split=12, n_estimators=100;, score=0.903 total time=   0.6s\n",
            "[CV 1/3] END bootstrap=True, max_depth=90, max_features=3, min_samples_leaf=5, min_samples_split=12, n_estimators=200;, score=0.887 total time=   1.2s\n",
            "[CV 2/3] END bootstrap=True, max_depth=90, max_features=3, min_samples_leaf=5, min_samples_split=12, n_estimators=200;, score=0.899 total time=   1.2s\n",
            "[CV 3/3] END bootstrap=True, max_depth=90, max_features=3, min_samples_leaf=5, min_samples_split=12, n_estimators=200;, score=0.900 total time=   1.2s\n",
            "[CV 1/3] END bootstrap=True, max_depth=90, max_features=3, min_samples_leaf=5, min_samples_split=12, n_estimators=300;, score=0.897 total time=   1.8s\n",
            "[CV 2/3] END bootstrap=True, max_depth=90, max_features=3, min_samples_leaf=5, min_samples_split=12, n_estimators=300;, score=0.899 total time=   1.8s\n",
            "[CV 3/3] END bootstrap=True, max_depth=90, max_features=3, min_samples_leaf=5, min_samples_split=12, n_estimators=300;, score=0.904 total time=   1.8s\n",
            "[CV 1/3] END bootstrap=True, max_depth=90, max_features=3, min_samples_leaf=5, min_samples_split=12, n_estimators=1000;, score=0.898 total time=   6.0s\n",
            "[CV 2/3] END bootstrap=True, max_depth=90, max_features=3, min_samples_leaf=5, min_samples_split=12, n_estimators=1000;, score=0.903 total time=   5.8s\n",
            "[CV 3/3] END bootstrap=True, max_depth=90, max_features=3, min_samples_leaf=5, min_samples_split=12, n_estimators=1000;, score=0.901 total time=   5.9s\n",
            "[CV 1/3] END bootstrap=True, max_depth=100, max_features=2, min_samples_leaf=3, min_samples_split=8, n_estimators=100;, score=0.883 total time=   0.6s\n",
            "[CV 2/3] END bootstrap=True, max_depth=100, max_features=2, min_samples_leaf=3, min_samples_split=8, n_estimators=100;, score=0.888 total time=   0.6s\n",
            "[CV 3/3] END bootstrap=True, max_depth=100, max_features=2, min_samples_leaf=3, min_samples_split=8, n_estimators=100;, score=0.884 total time=   0.5s\n",
            "[CV 1/3] END bootstrap=True, max_depth=100, max_features=2, min_samples_leaf=3, min_samples_split=8, n_estimators=200;, score=0.894 total time=   1.1s\n",
            "[CV 2/3] END bootstrap=True, max_depth=100, max_features=2, min_samples_leaf=3, min_samples_split=8, n_estimators=200;, score=0.895 total time=   1.1s\n",
            "[CV 3/3] END bootstrap=True, max_depth=100, max_features=2, min_samples_leaf=3, min_samples_split=8, n_estimators=200;, score=0.898 total time=   1.1s\n",
            "[CV 1/3] END bootstrap=True, max_depth=100, max_features=2, min_samples_leaf=3, min_samples_split=8, n_estimators=300;, score=0.892 total time=   1.6s\n",
            "[CV 2/3] END bootstrap=True, max_depth=100, max_features=2, min_samples_leaf=3, min_samples_split=8, n_estimators=300;, score=0.895 total time=   1.6s\n",
            "[CV 3/3] END bootstrap=True, max_depth=100, max_features=2, min_samples_leaf=3, min_samples_split=8, n_estimators=300;, score=0.898 total time=   1.6s\n",
            "[CV 1/3] END bootstrap=True, max_depth=100, max_features=2, min_samples_leaf=3, min_samples_split=8, n_estimators=1000;, score=0.893 total time=   5.4s\n",
            "[CV 2/3] END bootstrap=True, max_depth=100, max_features=2, min_samples_leaf=3, min_samples_split=8, n_estimators=1000;, score=0.901 total time=   5.4s\n",
            "[CV 3/3] END bootstrap=True, max_depth=100, max_features=2, min_samples_leaf=3, min_samples_split=8, n_estimators=1000;, score=0.902 total time=   5.3s\n",
            "[CV 1/3] END bootstrap=True, max_depth=100, max_features=2, min_samples_leaf=3, min_samples_split=10, n_estimators=100;, score=0.883 total time=   0.6s\n",
            "[CV 2/3] END bootstrap=True, max_depth=100, max_features=2, min_samples_leaf=3, min_samples_split=10, n_estimators=100;, score=0.901 total time=   0.5s\n",
            "[CV 3/3] END bootstrap=True, max_depth=100, max_features=2, min_samples_leaf=3, min_samples_split=10, n_estimators=100;, score=0.885 total time=   0.5s\n",
            "[CV 1/3] END bootstrap=True, max_depth=100, max_features=2, min_samples_leaf=3, min_samples_split=10, n_estimators=200;, score=0.888 total time=   1.1s\n",
            "[CV 2/3] END bootstrap=True, max_depth=100, max_features=2, min_samples_leaf=3, min_samples_split=10, n_estimators=200;, score=0.896 total time=   1.1s\n",
            "[CV 3/3] END bootstrap=True, max_depth=100, max_features=2, min_samples_leaf=3, min_samples_split=10, n_estimators=200;, score=0.899 total time=   1.1s\n",
            "[CV 1/3] END bootstrap=True, max_depth=100, max_features=2, min_samples_leaf=3, min_samples_split=10, n_estimators=300;, score=0.893 total time=   1.6s\n",
            "[CV 2/3] END bootstrap=True, max_depth=100, max_features=2, min_samples_leaf=3, min_samples_split=10, n_estimators=300;, score=0.893 total time=   1.6s\n",
            "[CV 3/3] END bootstrap=True, max_depth=100, max_features=2, min_samples_leaf=3, min_samples_split=10, n_estimators=300;, score=0.898 total time=   1.6s\n",
            "[CV 1/3] END bootstrap=True, max_depth=100, max_features=2, min_samples_leaf=3, min_samples_split=10, n_estimators=1000;, score=0.889 total time=   5.2s\n",
            "[CV 2/3] END bootstrap=True, max_depth=100, max_features=2, min_samples_leaf=3, min_samples_split=10, n_estimators=1000;, score=0.898 total time=   5.2s\n",
            "[CV 3/3] END bootstrap=True, max_depth=100, max_features=2, min_samples_leaf=3, min_samples_split=10, n_estimators=1000;, score=0.903 total time=   5.2s\n",
            "[CV 1/3] END bootstrap=True, max_depth=100, max_features=2, min_samples_leaf=3, min_samples_split=12, n_estimators=100;, score=0.880 total time=   0.6s\n",
            "[CV 2/3] END bootstrap=True, max_depth=100, max_features=2, min_samples_leaf=3, min_samples_split=12, n_estimators=100;, score=0.885 total time=   0.6s\n",
            "[CV 3/3] END bootstrap=True, max_depth=100, max_features=2, min_samples_leaf=3, min_samples_split=12, n_estimators=100;, score=0.893 total time=   0.6s\n",
            "[CV 1/3] END bootstrap=True, max_depth=100, max_features=2, min_samples_leaf=3, min_samples_split=12, n_estimators=200;, score=0.884 total time=   1.1s\n",
            "[CV 2/3] END bootstrap=True, max_depth=100, max_features=2, min_samples_leaf=3, min_samples_split=12, n_estimators=200;, score=0.889 total time=   1.1s\n",
            "[CV 3/3] END bootstrap=True, max_depth=100, max_features=2, min_samples_leaf=3, min_samples_split=12, n_estimators=200;, score=0.897 total time=   1.1s\n",
            "[CV 1/3] END bootstrap=True, max_depth=100, max_features=2, min_samples_leaf=3, min_samples_split=12, n_estimators=300;, score=0.892 total time=   1.6s\n",
            "[CV 2/3] END bootstrap=True, max_depth=100, max_features=2, min_samples_leaf=3, min_samples_split=12, n_estimators=300;, score=0.895 total time=   1.5s\n",
            "[CV 3/3] END bootstrap=True, max_depth=100, max_features=2, min_samples_leaf=3, min_samples_split=12, n_estimators=300;, score=0.902 total time=   1.5s\n",
            "[CV 1/3] END bootstrap=True, max_depth=100, max_features=2, min_samples_leaf=3, min_samples_split=12, n_estimators=1000;, score=0.890 total time=   5.2s\n",
            "[CV 2/3] END bootstrap=True, max_depth=100, max_features=2, min_samples_leaf=3, min_samples_split=12, n_estimators=1000;, score=0.896 total time=   5.2s\n",
            "[CV 3/3] END bootstrap=True, max_depth=100, max_features=2, min_samples_leaf=3, min_samples_split=12, n_estimators=1000;, score=0.900 total time=   5.2s\n",
            "[CV 1/3] END bootstrap=True, max_depth=100, max_features=2, min_samples_leaf=4, min_samples_split=8, n_estimators=100;, score=0.875 total time=   0.5s\n",
            "[CV 2/3] END bootstrap=True, max_depth=100, max_features=2, min_samples_leaf=4, min_samples_split=8, n_estimators=100;, score=0.882 total time=   0.5s\n",
            "[CV 3/3] END bootstrap=True, max_depth=100, max_features=2, min_samples_leaf=4, min_samples_split=8, n_estimators=100;, score=0.893 total time=   0.5s\n",
            "[CV 1/3] END bootstrap=True, max_depth=100, max_features=2, min_samples_leaf=4, min_samples_split=8, n_estimators=200;, score=0.881 total time=   1.0s\n",
            "[CV 2/3] END bootstrap=True, max_depth=100, max_features=2, min_samples_leaf=4, min_samples_split=8, n_estimators=200;, score=0.889 total time=   1.0s\n",
            "[CV 3/3] END bootstrap=True, max_depth=100, max_features=2, min_samples_leaf=4, min_samples_split=8, n_estimators=200;, score=0.894 total time=   1.0s\n",
            "[CV 1/3] END bootstrap=True, max_depth=100, max_features=2, min_samples_leaf=4, min_samples_split=8, n_estimators=300;, score=0.880 total time=   1.6s\n",
            "[CV 2/3] END bootstrap=True, max_depth=100, max_features=2, min_samples_leaf=4, min_samples_split=8, n_estimators=300;, score=0.891 total time=   1.5s\n",
            "[CV 3/3] END bootstrap=True, max_depth=100, max_features=2, min_samples_leaf=4, min_samples_split=8, n_estimators=300;, score=0.895 total time=   1.5s\n",
            "[CV 1/3] END bootstrap=True, max_depth=100, max_features=2, min_samples_leaf=4, min_samples_split=8, n_estimators=1000;, score=0.884 total time=   4.9s\n",
            "[CV 2/3] END bootstrap=True, max_depth=100, max_features=2, min_samples_leaf=4, min_samples_split=8, n_estimators=1000;, score=0.890 total time=   4.9s\n",
            "[CV 3/3] END bootstrap=True, max_depth=100, max_features=2, min_samples_leaf=4, min_samples_split=8, n_estimators=1000;, score=0.897 total time=   4.9s\n",
            "[CV 1/3] END bootstrap=True, max_depth=100, max_features=2, min_samples_leaf=4, min_samples_split=10, n_estimators=100;, score=0.873 total time=   0.5s\n",
            "[CV 2/3] END bootstrap=True, max_depth=100, max_features=2, min_samples_leaf=4, min_samples_split=10, n_estimators=100;, score=0.887 total time=   0.5s\n",
            "[CV 3/3] END bootstrap=True, max_depth=100, max_features=2, min_samples_leaf=4, min_samples_split=10, n_estimators=100;, score=0.887 total time=   0.5s\n",
            "[CV 1/3] END bootstrap=True, max_depth=100, max_features=2, min_samples_leaf=4, min_samples_split=10, n_estimators=200;, score=0.882 total time=   1.0s\n",
            "[CV 2/3] END bootstrap=True, max_depth=100, max_features=2, min_samples_leaf=4, min_samples_split=10, n_estimators=200;, score=0.890 total time=   1.0s\n",
            "[CV 3/3] END bootstrap=True, max_depth=100, max_features=2, min_samples_leaf=4, min_samples_split=10, n_estimators=200;, score=0.896 total time=   1.1s\n",
            "[CV 1/3] END bootstrap=True, max_depth=100, max_features=2, min_samples_leaf=4, min_samples_split=10, n_estimators=300;, score=0.875 total time=   1.5s\n",
            "[CV 2/3] END bootstrap=True, max_depth=100, max_features=2, min_samples_leaf=4, min_samples_split=10, n_estimators=300;, score=0.890 total time=   1.5s\n",
            "[CV 3/3] END bootstrap=True, max_depth=100, max_features=2, min_samples_leaf=4, min_samples_split=10, n_estimators=300;, score=0.895 total time=   1.5s\n",
            "[CV 1/3] END bootstrap=True, max_depth=100, max_features=2, min_samples_leaf=4, min_samples_split=10, n_estimators=1000;, score=0.883 total time=   5.0s\n",
            "[CV 2/3] END bootstrap=True, max_depth=100, max_features=2, min_samples_leaf=4, min_samples_split=10, n_estimators=1000;, score=0.894 total time=   5.0s\n",
            "[CV 3/3] END bootstrap=True, max_depth=100, max_features=2, min_samples_leaf=4, min_samples_split=10, n_estimators=1000;, score=0.897 total time=   4.8s\n",
            "[CV 1/3] END bootstrap=True, max_depth=100, max_features=2, min_samples_leaf=4, min_samples_split=12, n_estimators=100;, score=0.877 total time=   0.5s\n",
            "[CV 2/3] END bootstrap=True, max_depth=100, max_features=2, min_samples_leaf=4, min_samples_split=12, n_estimators=100;, score=0.880 total time=   0.5s\n",
            "[CV 3/3] END bootstrap=True, max_depth=100, max_features=2, min_samples_leaf=4, min_samples_split=12, n_estimators=100;, score=0.892 total time=   0.5s\n",
            "[CV 1/3] END bootstrap=True, max_depth=100, max_features=2, min_samples_leaf=4, min_samples_split=12, n_estimators=200;, score=0.883 total time=   1.0s\n",
            "[CV 2/3] END bootstrap=True, max_depth=100, max_features=2, min_samples_leaf=4, min_samples_split=12, n_estimators=200;, score=0.890 total time=   1.0s\n",
            "[CV 3/3] END bootstrap=True, max_depth=100, max_features=2, min_samples_leaf=4, min_samples_split=12, n_estimators=200;, score=0.893 total time=   1.0s\n",
            "[CV 1/3] END bootstrap=True, max_depth=100, max_features=2, min_samples_leaf=4, min_samples_split=12, n_estimators=300;, score=0.878 total time=   1.5s\n",
            "[CV 2/3] END bootstrap=True, max_depth=100, max_features=2, min_samples_leaf=4, min_samples_split=12, n_estimators=300;, score=0.882 total time=   1.5s\n",
            "[CV 3/3] END bootstrap=True, max_depth=100, max_features=2, min_samples_leaf=4, min_samples_split=12, n_estimators=300;, score=0.889 total time=   1.5s\n",
            "[CV 1/3] END bootstrap=True, max_depth=100, max_features=2, min_samples_leaf=4, min_samples_split=12, n_estimators=1000;, score=0.887 total time=   5.0s\n",
            "[CV 2/3] END bootstrap=True, max_depth=100, max_features=2, min_samples_leaf=4, min_samples_split=12, n_estimators=1000;, score=0.890 total time=   4.9s\n",
            "[CV 3/3] END bootstrap=True, max_depth=100, max_features=2, min_samples_leaf=4, min_samples_split=12, n_estimators=1000;, score=0.894 total time=   4.8s\n",
            "[CV 1/3] END bootstrap=True, max_depth=100, max_features=2, min_samples_leaf=5, min_samples_split=8, n_estimators=100;, score=0.864 total time=   0.5s\n",
            "[CV 2/3] END bootstrap=True, max_depth=100, max_features=2, min_samples_leaf=5, min_samples_split=8, n_estimators=100;, score=0.881 total time=   0.5s\n",
            "[CV 3/3] END bootstrap=True, max_depth=100, max_features=2, min_samples_leaf=5, min_samples_split=8, n_estimators=100;, score=0.878 total time=   0.5s\n",
            "[CV 1/3] END bootstrap=True, max_depth=100, max_features=2, min_samples_leaf=5, min_samples_split=8, n_estimators=200;, score=0.877 total time=   1.2s\n",
            "[CV 2/3] END bootstrap=True, max_depth=100, max_features=2, min_samples_leaf=5, min_samples_split=8, n_estimators=200;, score=0.882 total time=   1.0s\n",
            "[CV 3/3] END bootstrap=True, max_depth=100, max_features=2, min_samples_leaf=5, min_samples_split=8, n_estimators=200;, score=0.889 total time=   1.0s\n",
            "[CV 1/3] END bootstrap=True, max_depth=100, max_features=2, min_samples_leaf=5, min_samples_split=8, n_estimators=300;, score=0.877 total time=   1.5s\n",
            "[CV 2/3] END bootstrap=True, max_depth=100, max_features=2, min_samples_leaf=5, min_samples_split=8, n_estimators=300;, score=0.879 total time=   1.4s\n",
            "[CV 3/3] END bootstrap=True, max_depth=100, max_features=2, min_samples_leaf=5, min_samples_split=8, n_estimators=300;, score=0.892 total time=   1.5s\n",
            "[CV 1/3] END bootstrap=True, max_depth=100, max_features=2, min_samples_leaf=5, min_samples_split=8, n_estimators=1000;, score=0.879 total time=   4.7s\n",
            "[CV 2/3] END bootstrap=True, max_depth=100, max_features=2, min_samples_leaf=5, min_samples_split=8, n_estimators=1000;, score=0.880 total time=   4.8s\n",
            "[CV 3/3] END bootstrap=True, max_depth=100, max_features=2, min_samples_leaf=5, min_samples_split=8, n_estimators=1000;, score=0.890 total time=   4.7s\n",
            "[CV 1/3] END bootstrap=True, max_depth=100, max_features=2, min_samples_leaf=5, min_samples_split=10, n_estimators=100;, score=0.863 total time=   0.5s\n",
            "[CV 2/3] END bootstrap=True, max_depth=100, max_features=2, min_samples_leaf=5, min_samples_split=10, n_estimators=100;, score=0.877 total time=   0.5s\n",
            "[CV 3/3] END bootstrap=True, max_depth=100, max_features=2, min_samples_leaf=5, min_samples_split=10, n_estimators=100;, score=0.873 total time=   0.5s\n",
            "[CV 1/3] END bootstrap=True, max_depth=100, max_features=2, min_samples_leaf=5, min_samples_split=10, n_estimators=200;, score=0.875 total time=   1.0s\n",
            "[CV 2/3] END bootstrap=True, max_depth=100, max_features=2, min_samples_leaf=5, min_samples_split=10, n_estimators=200;, score=0.877 total time=   1.0s\n",
            "[CV 3/3] END bootstrap=True, max_depth=100, max_features=2, min_samples_leaf=5, min_samples_split=10, n_estimators=200;, score=0.880 total time=   1.0s\n",
            "[CV 1/3] END bootstrap=True, max_depth=100, max_features=2, min_samples_leaf=5, min_samples_split=10, n_estimators=300;, score=0.874 total time=   1.4s\n",
            "[CV 2/3] END bootstrap=True, max_depth=100, max_features=2, min_samples_leaf=5, min_samples_split=10, n_estimators=300;, score=0.882 total time=   1.4s\n",
            "[CV 3/3] END bootstrap=True, max_depth=100, max_features=2, min_samples_leaf=5, min_samples_split=10, n_estimators=300;, score=0.886 total time=   1.4s\n",
            "[CV 1/3] END bootstrap=True, max_depth=100, max_features=2, min_samples_leaf=5, min_samples_split=10, n_estimators=1000;, score=0.880 total time=   4.7s\n",
            "[CV 2/3] END bootstrap=True, max_depth=100, max_features=2, min_samples_leaf=5, min_samples_split=10, n_estimators=1000;, score=0.886 total time=   4.7s\n",
            "[CV 3/3] END bootstrap=True, max_depth=100, max_features=2, min_samples_leaf=5, min_samples_split=10, n_estimators=1000;, score=0.892 total time=   4.7s\n",
            "[CV 1/3] END bootstrap=True, max_depth=100, max_features=2, min_samples_leaf=5, min_samples_split=12, n_estimators=100;, score=0.867 total time=   0.5s\n",
            "[CV 2/3] END bootstrap=True, max_depth=100, max_features=2, min_samples_leaf=5, min_samples_split=12, n_estimators=100;, score=0.873 total time=   0.5s\n",
            "[CV 3/3] END bootstrap=True, max_depth=100, max_features=2, min_samples_leaf=5, min_samples_split=12, n_estimators=100;, score=0.874 total time=   0.5s\n",
            "[CV 1/3] END bootstrap=True, max_depth=100, max_features=2, min_samples_leaf=5, min_samples_split=12, n_estimators=200;, score=0.870 total time=   1.0s\n",
            "[CV 2/3] END bootstrap=True, max_depth=100, max_features=2, min_samples_leaf=5, min_samples_split=12, n_estimators=200;, score=0.880 total time=   1.0s\n",
            "[CV 3/3] END bootstrap=True, max_depth=100, max_features=2, min_samples_leaf=5, min_samples_split=12, n_estimators=200;, score=0.885 total time=   1.0s\n",
            "[CV 1/3] END bootstrap=True, max_depth=100, max_features=2, min_samples_leaf=5, min_samples_split=12, n_estimators=300;, score=0.869 total time=   1.4s\n",
            "[CV 2/3] END bootstrap=True, max_depth=100, max_features=2, min_samples_leaf=5, min_samples_split=12, n_estimators=300;, score=0.880 total time=   1.5s\n",
            "[CV 3/3] END bootstrap=True, max_depth=100, max_features=2, min_samples_leaf=5, min_samples_split=12, n_estimators=300;, score=0.889 total time=   1.4s\n",
            "[CV 1/3] END bootstrap=True, max_depth=100, max_features=2, min_samples_leaf=5, min_samples_split=12, n_estimators=1000;, score=0.876 total time=   4.7s\n",
            "[CV 2/3] END bootstrap=True, max_depth=100, max_features=2, min_samples_leaf=5, min_samples_split=12, n_estimators=1000;, score=0.883 total time=   4.7s\n",
            "[CV 3/3] END bootstrap=True, max_depth=100, max_features=2, min_samples_leaf=5, min_samples_split=12, n_estimators=1000;, score=0.892 total time=   4.6s\n",
            "[CV 1/3] END bootstrap=True, max_depth=100, max_features=3, min_samples_leaf=3, min_samples_split=8, n_estimators=100;, score=0.900 total time=   0.7s\n",
            "[CV 2/3] END bootstrap=True, max_depth=100, max_features=3, min_samples_leaf=3, min_samples_split=8, n_estimators=100;, score=0.899 total time=   0.7s\n",
            "[CV 3/3] END bootstrap=True, max_depth=100, max_features=3, min_samples_leaf=3, min_samples_split=8, n_estimators=100;, score=0.909 total time=   0.7s\n",
            "[CV 1/3] END bootstrap=True, max_depth=100, max_features=3, min_samples_leaf=3, min_samples_split=8, n_estimators=200;, score=0.905 total time=   1.3s\n",
            "[CV 2/3] END bootstrap=True, max_depth=100, max_features=3, min_samples_leaf=3, min_samples_split=8, n_estimators=200;, score=0.909 total time=   1.3s\n",
            "[CV 3/3] END bootstrap=True, max_depth=100, max_features=3, min_samples_leaf=3, min_samples_split=8, n_estimators=200;, score=0.904 total time=   1.3s\n",
            "[CV 1/3] END bootstrap=True, max_depth=100, max_features=3, min_samples_leaf=3, min_samples_split=8, n_estimators=300;, score=0.907 total time=   1.9s\n",
            "[CV 2/3] END bootstrap=True, max_depth=100, max_features=3, min_samples_leaf=3, min_samples_split=8, n_estimators=300;, score=0.913 total time=   2.0s\n",
            "[CV 3/3] END bootstrap=True, max_depth=100, max_features=3, min_samples_leaf=3, min_samples_split=8, n_estimators=300;, score=0.912 total time=   1.9s\n",
            "[CV 1/3] END bootstrap=True, max_depth=100, max_features=3, min_samples_leaf=3, min_samples_split=8, n_estimators=1000;, score=0.906 total time=   6.6s\n",
            "[CV 2/3] END bootstrap=True, max_depth=100, max_features=3, min_samples_leaf=3, min_samples_split=8, n_estimators=1000;, score=0.917 total time=   6.4s\n",
            "[CV 3/3] END bootstrap=True, max_depth=100, max_features=3, min_samples_leaf=3, min_samples_split=8, n_estimators=1000;, score=0.913 total time=   6.3s\n",
            "[CV 1/3] END bootstrap=True, max_depth=100, max_features=3, min_samples_leaf=3, min_samples_split=10, n_estimators=100;, score=0.905 total time=   0.7s\n",
            "[CV 2/3] END bootstrap=True, max_depth=100, max_features=3, min_samples_leaf=3, min_samples_split=10, n_estimators=100;, score=0.904 total time=   0.7s\n",
            "[CV 3/3] END bootstrap=True, max_depth=100, max_features=3, min_samples_leaf=3, min_samples_split=10, n_estimators=100;, score=0.904 total time=   0.6s\n",
            "[CV 1/3] END bootstrap=True, max_depth=100, max_features=3, min_samples_leaf=3, min_samples_split=10, n_estimators=200;, score=0.900 total time=   1.3s\n",
            "[CV 2/3] END bootstrap=True, max_depth=100, max_features=3, min_samples_leaf=3, min_samples_split=10, n_estimators=200;, score=0.911 total time=   1.3s\n",
            "[CV 3/3] END bootstrap=True, max_depth=100, max_features=3, min_samples_leaf=3, min_samples_split=10, n_estimators=200;, score=0.909 total time=   1.2s\n",
            "[CV 1/3] END bootstrap=True, max_depth=100, max_features=3, min_samples_leaf=3, min_samples_split=10, n_estimators=300;, score=0.906 total time=   1.9s\n",
            "[CV 2/3] END bootstrap=True, max_depth=100, max_features=3, min_samples_leaf=3, min_samples_split=10, n_estimators=300;, score=0.914 total time=   1.9s\n",
            "[CV 3/3] END bootstrap=True, max_depth=100, max_features=3, min_samples_leaf=3, min_samples_split=10, n_estimators=300;, score=0.916 total time=   1.9s\n",
            "[CV 1/3] END bootstrap=True, max_depth=100, max_features=3, min_samples_leaf=3, min_samples_split=10, n_estimators=1000;, score=0.908 total time=   6.3s\n",
            "[CV 2/3] END bootstrap=True, max_depth=100, max_features=3, min_samples_leaf=3, min_samples_split=10, n_estimators=1000;, score=0.916 total time=   6.3s\n",
            "[CV 3/3] END bootstrap=True, max_depth=100, max_features=3, min_samples_leaf=3, min_samples_split=10, n_estimators=1000;, score=0.915 total time=   6.3s\n",
            "[CV 1/3] END bootstrap=True, max_depth=100, max_features=3, min_samples_leaf=3, min_samples_split=12, n_estimators=100;, score=0.892 total time=   0.7s\n",
            "[CV 2/3] END bootstrap=True, max_depth=100, max_features=3, min_samples_leaf=3, min_samples_split=12, n_estimators=100;, score=0.903 total time=   0.7s\n",
            "[CV 3/3] END bootstrap=True, max_depth=100, max_features=3, min_samples_leaf=3, min_samples_split=12, n_estimators=100;, score=0.903 total time=   0.7s\n",
            "[CV 1/3] END bootstrap=True, max_depth=100, max_features=3, min_samples_leaf=3, min_samples_split=12, n_estimators=200;, score=0.899 total time=   1.3s\n",
            "[CV 2/3] END bootstrap=True, max_depth=100, max_features=3, min_samples_leaf=3, min_samples_split=12, n_estimators=200;, score=0.907 total time=   1.3s\n",
            "[CV 3/3] END bootstrap=True, max_depth=100, max_features=3, min_samples_leaf=3, min_samples_split=12, n_estimators=200;, score=0.906 total time=   1.3s\n",
            "[CV 1/3] END bootstrap=True, max_depth=100, max_features=3, min_samples_leaf=3, min_samples_split=12, n_estimators=300;, score=0.904 total time=   2.0s\n",
            "[CV 2/3] END bootstrap=True, max_depth=100, max_features=3, min_samples_leaf=3, min_samples_split=12, n_estimators=300;, score=0.911 total time=   1.9s\n",
            "[CV 3/3] END bootstrap=True, max_depth=100, max_features=3, min_samples_leaf=3, min_samples_split=12, n_estimators=300;, score=0.912 total time=   1.9s\n",
            "[CV 1/3] END bootstrap=True, max_depth=100, max_features=3, min_samples_leaf=3, min_samples_split=12, n_estimators=1000;, score=0.904 total time=   6.6s\n",
            "[CV 2/3] END bootstrap=True, max_depth=100, max_features=3, min_samples_leaf=3, min_samples_split=12, n_estimators=1000;, score=0.917 total time=   6.4s\n",
            "[CV 3/3] END bootstrap=True, max_depth=100, max_features=3, min_samples_leaf=3, min_samples_split=12, n_estimators=1000;, score=0.916 total time=   6.4s\n",
            "[CV 1/3] END bootstrap=True, max_depth=100, max_features=3, min_samples_leaf=4, min_samples_split=8, n_estimators=100;, score=0.903 total time=   0.7s\n",
            "[CV 2/3] END bootstrap=True, max_depth=100, max_features=3, min_samples_leaf=4, min_samples_split=8, n_estimators=100;, score=0.894 total time=   0.7s\n",
            "[CV 3/3] END bootstrap=True, max_depth=100, max_features=3, min_samples_leaf=4, min_samples_split=8, n_estimators=100;, score=0.898 total time=   0.7s\n",
            "[CV 1/3] END bootstrap=True, max_depth=100, max_features=3, min_samples_leaf=4, min_samples_split=8, n_estimators=200;, score=0.896 total time=   1.3s\n",
            "[CV 2/3] END bootstrap=True, max_depth=100, max_features=3, min_samples_leaf=4, min_samples_split=8, n_estimators=200;, score=0.902 total time=   1.3s\n",
            "[CV 3/3] END bootstrap=True, max_depth=100, max_features=3, min_samples_leaf=4, min_samples_split=8, n_estimators=200;, score=0.902 total time=   1.3s\n",
            "[CV 1/3] END bootstrap=True, max_depth=100, max_features=3, min_samples_leaf=4, min_samples_split=8, n_estimators=300;, score=0.901 total time=   1.9s\n",
            "[CV 2/3] END bootstrap=True, max_depth=100, max_features=3, min_samples_leaf=4, min_samples_split=8, n_estimators=300;, score=0.908 total time=   1.9s\n",
            "[CV 3/3] END bootstrap=True, max_depth=100, max_features=3, min_samples_leaf=4, min_samples_split=8, n_estimators=300;, score=0.903 total time=   1.8s\n",
            "[CV 1/3] END bootstrap=True, max_depth=100, max_features=3, min_samples_leaf=4, min_samples_split=8, n_estimators=1000;, score=0.901 total time=   6.2s\n",
            "[CV 2/3] END bootstrap=True, max_depth=100, max_features=3, min_samples_leaf=4, min_samples_split=8, n_estimators=1000;, score=0.908 total time=   6.2s\n",
            "[CV 3/3] END bootstrap=True, max_depth=100, max_features=3, min_samples_leaf=4, min_samples_split=8, n_estimators=1000;, score=0.912 total time=   6.1s\n",
            "[CV 1/3] END bootstrap=True, max_depth=100, max_features=3, min_samples_leaf=4, min_samples_split=10, n_estimators=100;, score=0.892 total time=   0.7s\n",
            "[CV 2/3] END bootstrap=True, max_depth=100, max_features=3, min_samples_leaf=4, min_samples_split=10, n_estimators=100;, score=0.904 total time=   0.7s\n",
            "[CV 3/3] END bootstrap=True, max_depth=100, max_features=3, min_samples_leaf=4, min_samples_split=10, n_estimators=100;, score=0.895 total time=   0.7s\n",
            "[CV 1/3] END bootstrap=True, max_depth=100, max_features=3, min_samples_leaf=4, min_samples_split=10, n_estimators=200;, score=0.895 total time=   1.2s\n",
            "[CV 2/3] END bootstrap=True, max_depth=100, max_features=3, min_samples_leaf=4, min_samples_split=10, n_estimators=200;, score=0.906 total time=   1.2s\n",
            "[CV 3/3] END bootstrap=True, max_depth=100, max_features=3, min_samples_leaf=4, min_samples_split=10, n_estimators=200;, score=0.905 total time=   1.2s\n",
            "[CV 1/3] END bootstrap=True, max_depth=100, max_features=3, min_samples_leaf=4, min_samples_split=10, n_estimators=300;, score=0.896 total time=   1.8s\n",
            "[CV 2/3] END bootstrap=True, max_depth=100, max_features=3, min_samples_leaf=4, min_samples_split=10, n_estimators=300;, score=0.907 total time=   1.8s\n",
            "[CV 3/3] END bootstrap=True, max_depth=100, max_features=3, min_samples_leaf=4, min_samples_split=10, n_estimators=300;, score=0.905 total time=   1.8s\n",
            "[CV 1/3] END bootstrap=True, max_depth=100, max_features=3, min_samples_leaf=4, min_samples_split=10, n_estimators=1000;, score=0.902 total time=   6.1s\n",
            "[CV 2/3] END bootstrap=True, max_depth=100, max_features=3, min_samples_leaf=4, min_samples_split=10, n_estimators=1000;, score=0.907 total time=   6.1s\n",
            "[CV 3/3] END bootstrap=True, max_depth=100, max_features=3, min_samples_leaf=4, min_samples_split=10, n_estimators=1000;, score=0.906 total time=   6.0s\n",
            "[CV 1/3] END bootstrap=True, max_depth=100, max_features=3, min_samples_leaf=4, min_samples_split=12, n_estimators=100;, score=0.895 total time=   0.6s\n",
            "[CV 2/3] END bootstrap=True, max_depth=100, max_features=3, min_samples_leaf=4, min_samples_split=12, n_estimators=100;, score=0.904 total time=   0.6s\n",
            "[CV 3/3] END bootstrap=True, max_depth=100, max_features=3, min_samples_leaf=4, min_samples_split=12, n_estimators=100;, score=0.899 total time=   0.6s\n",
            "[CV 1/3] END bootstrap=True, max_depth=100, max_features=3, min_samples_leaf=4, min_samples_split=12, n_estimators=200;, score=0.895 total time=   1.2s\n",
            "[CV 2/3] END bootstrap=True, max_depth=100, max_features=3, min_samples_leaf=4, min_samples_split=12, n_estimators=200;, score=0.900 total time=   1.3s\n",
            "[CV 3/3] END bootstrap=True, max_depth=100, max_features=3, min_samples_leaf=4, min_samples_split=12, n_estimators=200;, score=0.904 total time=   1.2s\n",
            "[CV 1/3] END bootstrap=True, max_depth=100, max_features=3, min_samples_leaf=4, min_samples_split=12, n_estimators=300;, score=0.898 total time=   1.8s\n",
            "[CV 2/3] END bootstrap=True, max_depth=100, max_features=3, min_samples_leaf=4, min_samples_split=12, n_estimators=300;, score=0.904 total time=   1.8s\n",
            "[CV 3/3] END bootstrap=True, max_depth=100, max_features=3, min_samples_leaf=4, min_samples_split=12, n_estimators=300;, score=0.903 total time=   1.8s\n",
            "[CV 1/3] END bootstrap=True, max_depth=100, max_features=3, min_samples_leaf=4, min_samples_split=12, n_estimators=1000;, score=0.903 total time=   6.0s\n",
            "[CV 2/3] END bootstrap=True, max_depth=100, max_features=3, min_samples_leaf=4, min_samples_split=12, n_estimators=1000;, score=0.904 total time=   6.0s\n",
            "[CV 3/3] END bootstrap=True, max_depth=100, max_features=3, min_samples_leaf=4, min_samples_split=12, n_estimators=1000;, score=0.912 total time=   6.2s\n",
            "[CV 1/3] END bootstrap=True, max_depth=100, max_features=3, min_samples_leaf=5, min_samples_split=8, n_estimators=100;, score=0.894 total time=   0.6s\n",
            "[CV 2/3] END bootstrap=True, max_depth=100, max_features=3, min_samples_leaf=5, min_samples_split=8, n_estimators=100;, score=0.892 total time=   0.6s\n",
            "[CV 3/3] END bootstrap=True, max_depth=100, max_features=3, min_samples_leaf=5, min_samples_split=8, n_estimators=100;, score=0.900 total time=   0.6s\n",
            "[CV 1/3] END bootstrap=True, max_depth=100, max_features=3, min_samples_leaf=5, min_samples_split=8, n_estimators=200;, score=0.892 total time=   1.2s\n",
            "[CV 2/3] END bootstrap=True, max_depth=100, max_features=3, min_samples_leaf=5, min_samples_split=8, n_estimators=200;, score=0.896 total time=   1.2s\n",
            "[CV 3/3] END bootstrap=True, max_depth=100, max_features=3, min_samples_leaf=5, min_samples_split=8, n_estimators=200;, score=0.902 total time=   1.2s\n",
            "[CV 1/3] END bootstrap=True, max_depth=100, max_features=3, min_samples_leaf=5, min_samples_split=8, n_estimators=300;, score=0.892 total time=   1.8s\n",
            "[CV 2/3] END bootstrap=True, max_depth=100, max_features=3, min_samples_leaf=5, min_samples_split=8, n_estimators=300;, score=0.903 total time=   1.7s\n",
            "[CV 3/3] END bootstrap=True, max_depth=100, max_features=3, min_samples_leaf=5, min_samples_split=8, n_estimators=300;, score=0.904 total time=   1.8s\n",
            "[CV 1/3] END bootstrap=True, max_depth=100, max_features=3, min_samples_leaf=5, min_samples_split=8, n_estimators=1000;, score=0.898 total time=   5.8s\n",
            "[CV 2/3] END bootstrap=True, max_depth=100, max_features=3, min_samples_leaf=5, min_samples_split=8, n_estimators=1000;, score=0.903 total time=   5.8s\n",
            "[CV 3/3] END bootstrap=True, max_depth=100, max_features=3, min_samples_leaf=5, min_samples_split=8, n_estimators=1000;, score=0.906 total time=   5.7s\n",
            "[CV 1/3] END bootstrap=True, max_depth=100, max_features=3, min_samples_leaf=5, min_samples_split=10, n_estimators=100;, score=0.880 total time=   0.6s\n",
            "[CV 2/3] END bootstrap=True, max_depth=100, max_features=3, min_samples_leaf=5, min_samples_split=10, n_estimators=100;, score=0.897 total time=   0.6s\n",
            "[CV 3/3] END bootstrap=True, max_depth=100, max_features=3, min_samples_leaf=5, min_samples_split=10, n_estimators=100;, score=0.900 total time=   0.6s\n",
            "[CV 1/3] END bootstrap=True, max_depth=100, max_features=3, min_samples_leaf=5, min_samples_split=10, n_estimators=200;, score=0.892 total time=   1.2s\n",
            "[CV 2/3] END bootstrap=True, max_depth=100, max_features=3, min_samples_leaf=5, min_samples_split=10, n_estimators=200;, score=0.897 total time=   1.2s\n",
            "[CV 3/3] END bootstrap=True, max_depth=100, max_features=3, min_samples_leaf=5, min_samples_split=10, n_estimators=200;, score=0.903 total time=   1.2s\n",
            "[CV 1/3] END bootstrap=True, max_depth=100, max_features=3, min_samples_leaf=5, min_samples_split=10, n_estimators=300;, score=0.895 total time=   1.7s\n",
            "[CV 2/3] END bootstrap=True, max_depth=100, max_features=3, min_samples_leaf=5, min_samples_split=10, n_estimators=300;, score=0.904 total time=   1.8s\n",
            "[CV 3/3] END bootstrap=True, max_depth=100, max_features=3, min_samples_leaf=5, min_samples_split=10, n_estimators=300;, score=0.900 total time=   1.8s\n",
            "[CV 1/3] END bootstrap=True, max_depth=100, max_features=3, min_samples_leaf=5, min_samples_split=10, n_estimators=1000;, score=0.895 total time=   5.8s\n",
            "[CV 2/3] END bootstrap=True, max_depth=100, max_features=3, min_samples_leaf=5, min_samples_split=10, n_estimators=1000;, score=0.904 total time=   5.8s\n",
            "[CV 3/3] END bootstrap=True, max_depth=100, max_features=3, min_samples_leaf=5, min_samples_split=10, n_estimators=1000;, score=0.904 total time=   5.9s\n",
            "[CV 1/3] END bootstrap=True, max_depth=100, max_features=3, min_samples_leaf=5, min_samples_split=12, n_estimators=100;, score=0.882 total time=   0.6s\n",
            "[CV 2/3] END bootstrap=True, max_depth=100, max_features=3, min_samples_leaf=5, min_samples_split=12, n_estimators=100;, score=0.886 total time=   0.6s\n",
            "[CV 3/3] END bootstrap=True, max_depth=100, max_features=3, min_samples_leaf=5, min_samples_split=12, n_estimators=100;, score=0.895 total time=   0.6s\n",
            "[CV 1/3] END bootstrap=True, max_depth=100, max_features=3, min_samples_leaf=5, min_samples_split=12, n_estimators=200;, score=0.891 total time=   1.2s\n",
            "[CV 2/3] END bootstrap=True, max_depth=100, max_features=3, min_samples_leaf=5, min_samples_split=12, n_estimators=200;, score=0.898 total time=   1.2s\n",
            "[CV 3/3] END bootstrap=True, max_depth=100, max_features=3, min_samples_leaf=5, min_samples_split=12, n_estimators=200;, score=0.899 total time=   1.2s\n",
            "[CV 1/3] END bootstrap=True, max_depth=100, max_features=3, min_samples_leaf=5, min_samples_split=12, n_estimators=300;, score=0.893 total time=   1.8s\n",
            "[CV 2/3] END bootstrap=True, max_depth=100, max_features=3, min_samples_leaf=5, min_samples_split=12, n_estimators=300;, score=0.899 total time=   1.7s\n",
            "[CV 3/3] END bootstrap=True, max_depth=100, max_features=3, min_samples_leaf=5, min_samples_split=12, n_estimators=300;, score=0.900 total time=   1.8s\n",
            "[CV 1/3] END bootstrap=True, max_depth=100, max_features=3, min_samples_leaf=5, min_samples_split=12, n_estimators=1000;, score=0.895 total time=   5.9s\n",
            "[CV 2/3] END bootstrap=True, max_depth=100, max_features=3, min_samples_leaf=5, min_samples_split=12, n_estimators=1000;, score=0.901 total time=   5.7s\n",
            "[CV 3/3] END bootstrap=True, max_depth=100, max_features=3, min_samples_leaf=5, min_samples_split=12, n_estimators=1000;, score=0.900 total time=   5.6s\n",
            "[CV 1/3] END bootstrap=True, max_depth=110, max_features=2, min_samples_leaf=3, min_samples_split=8, n_estimators=100;, score=0.879 total time=   0.5s\n",
            "[CV 2/3] END bootstrap=True, max_depth=110, max_features=2, min_samples_leaf=3, min_samples_split=8, n_estimators=100;, score=0.884 total time=   0.6s\n",
            "[CV 3/3] END bootstrap=True, max_depth=110, max_features=2, min_samples_leaf=3, min_samples_split=8, n_estimators=100;, score=0.904 total time=   0.5s\n",
            "[CV 1/3] END bootstrap=True, max_depth=110, max_features=2, min_samples_leaf=3, min_samples_split=8, n_estimators=200;, score=0.896 total time=   1.1s\n",
            "[CV 2/3] END bootstrap=True, max_depth=110, max_features=2, min_samples_leaf=3, min_samples_split=8, n_estimators=200;, score=0.891 total time=   1.1s\n",
            "[CV 3/3] END bootstrap=True, max_depth=110, max_features=2, min_samples_leaf=3, min_samples_split=8, n_estimators=200;, score=0.901 total time=   1.1s\n",
            "[CV 1/3] END bootstrap=True, max_depth=110, max_features=2, min_samples_leaf=3, min_samples_split=8, n_estimators=300;, score=0.890 total time=   1.6s\n",
            "[CV 2/3] END bootstrap=True, max_depth=110, max_features=2, min_samples_leaf=3, min_samples_split=8, n_estimators=300;, score=0.892 total time=   1.6s\n",
            "[CV 3/3] END bootstrap=True, max_depth=110, max_features=2, min_samples_leaf=3, min_samples_split=8, n_estimators=300;, score=0.904 total time=   1.6s\n",
            "[CV 1/3] END bootstrap=True, max_depth=110, max_features=2, min_samples_leaf=3, min_samples_split=8, n_estimators=1000;, score=0.894 total time=   5.3s\n",
            "[CV 2/3] END bootstrap=True, max_depth=110, max_features=2, min_samples_leaf=3, min_samples_split=8, n_estimators=1000;, score=0.904 total time=   5.2s\n",
            "[CV 3/3] END bootstrap=True, max_depth=110, max_features=2, min_samples_leaf=3, min_samples_split=8, n_estimators=1000;, score=0.901 total time=   5.0s\n",
            "[CV 1/3] END bootstrap=True, max_depth=110, max_features=2, min_samples_leaf=3, min_samples_split=10, n_estimators=100;, score=0.881 total time=   0.5s\n",
            "[CV 2/3] END bootstrap=True, max_depth=110, max_features=2, min_samples_leaf=3, min_samples_split=10, n_estimators=100;, score=0.880 total time=   0.6s\n",
            "[CV 3/3] END bootstrap=True, max_depth=110, max_features=2, min_samples_leaf=3, min_samples_split=10, n_estimators=100;, score=0.892 total time=   0.5s\n",
            "[CV 1/3] END bootstrap=True, max_depth=110, max_features=2, min_samples_leaf=3, min_samples_split=10, n_estimators=200;, score=0.894 total time=   1.1s\n",
            "[CV 2/3] END bootstrap=True, max_depth=110, max_features=2, min_samples_leaf=3, min_samples_split=10, n_estimators=200;, score=0.898 total time=   1.1s\n",
            "[CV 3/3] END bootstrap=True, max_depth=110, max_features=2, min_samples_leaf=3, min_samples_split=10, n_estimators=200;, score=0.901 total time=   1.1s\n",
            "[CV 1/3] END bootstrap=True, max_depth=110, max_features=2, min_samples_leaf=3, min_samples_split=10, n_estimators=300;, score=0.894 total time=   1.6s\n",
            "[CV 2/3] END bootstrap=True, max_depth=110, max_features=2, min_samples_leaf=3, min_samples_split=10, n_estimators=300;, score=0.895 total time=   1.6s\n",
            "[CV 3/3] END bootstrap=True, max_depth=110, max_features=2, min_samples_leaf=3, min_samples_split=10, n_estimators=300;, score=0.901 total time=   1.6s\n",
            "[CV 1/3] END bootstrap=True, max_depth=110, max_features=2, min_samples_leaf=3, min_samples_split=10, n_estimators=1000;, score=0.891 total time=   5.2s\n",
            "[CV 2/3] END bootstrap=True, max_depth=110, max_features=2, min_samples_leaf=3, min_samples_split=10, n_estimators=1000;, score=0.901 total time=   5.0s\n",
            "[CV 3/3] END bootstrap=True, max_depth=110, max_features=2, min_samples_leaf=3, min_samples_split=10, n_estimators=1000;, score=0.901 total time=   5.2s\n",
            "[CV 1/3] END bootstrap=True, max_depth=110, max_features=2, min_samples_leaf=3, min_samples_split=12, n_estimators=100;, score=0.884 total time=   0.6s\n",
            "[CV 2/3] END bootstrap=True, max_depth=110, max_features=2, min_samples_leaf=3, min_samples_split=12, n_estimators=100;, score=0.886 total time=   0.6s\n",
            "[CV 3/3] END bootstrap=True, max_depth=110, max_features=2, min_samples_leaf=3, min_samples_split=12, n_estimators=100;, score=0.897 total time=   0.6s\n",
            "[CV 1/3] END bootstrap=True, max_depth=110, max_features=2, min_samples_leaf=3, min_samples_split=12, n_estimators=200;, score=0.893 total time=   1.1s\n",
            "[CV 2/3] END bootstrap=True, max_depth=110, max_features=2, min_samples_leaf=3, min_samples_split=12, n_estimators=200;, score=0.894 total time=   1.1s\n",
            "[CV 3/3] END bootstrap=True, max_depth=110, max_features=2, min_samples_leaf=3, min_samples_split=12, n_estimators=200;, score=0.899 total time=   1.1s\n",
            "[CV 1/3] END bootstrap=True, max_depth=110, max_features=2, min_samples_leaf=3, min_samples_split=12, n_estimators=300;, score=0.889 total time=   1.6s\n",
            "[CV 2/3] END bootstrap=True, max_depth=110, max_features=2, min_samples_leaf=3, min_samples_split=12, n_estimators=300;, score=0.892 total time=   1.6s\n",
            "[CV 3/3] END bootstrap=True, max_depth=110, max_features=2, min_samples_leaf=3, min_samples_split=12, n_estimators=300;, score=0.899 total time=   1.6s\n",
            "[CV 1/3] END bootstrap=True, max_depth=110, max_features=2, min_samples_leaf=3, min_samples_split=12, n_estimators=1000;, score=0.890 total time=   5.2s\n",
            "[CV 2/3] END bootstrap=True, max_depth=110, max_features=2, min_samples_leaf=3, min_samples_split=12, n_estimators=1000;, score=0.900 total time=   5.1s\n",
            "[CV 3/3] END bootstrap=True, max_depth=110, max_features=2, min_samples_leaf=3, min_samples_split=12, n_estimators=1000;, score=0.902 total time=   5.1s\n",
            "[CV 1/3] END bootstrap=True, max_depth=110, max_features=2, min_samples_leaf=4, min_samples_split=8, n_estimators=100;, score=0.871 total time=   0.5s\n",
            "[CV 2/3] END bootstrap=True, max_depth=110, max_features=2, min_samples_leaf=4, min_samples_split=8, n_estimators=100;, score=0.874 total time=   0.5s\n",
            "[CV 3/3] END bootstrap=True, max_depth=110, max_features=2, min_samples_leaf=4, min_samples_split=8, n_estimators=100;, score=0.884 total time=   0.5s\n",
            "[CV 1/3] END bootstrap=True, max_depth=110, max_features=2, min_samples_leaf=4, min_samples_split=8, n_estimators=200;, score=0.884 total time=   1.0s\n",
            "[CV 2/3] END bootstrap=True, max_depth=110, max_features=2, min_samples_leaf=4, min_samples_split=8, n_estimators=200;, score=0.896 total time=   1.0s\n",
            "[CV 3/3] END bootstrap=True, max_depth=110, max_features=2, min_samples_leaf=4, min_samples_split=8, n_estimators=200;, score=0.892 total time=   1.1s\n",
            "[CV 1/3] END bootstrap=True, max_depth=110, max_features=2, min_samples_leaf=4, min_samples_split=8, n_estimators=300;, score=0.880 total time=   1.6s\n",
            "[CV 2/3] END bootstrap=True, max_depth=110, max_features=2, min_samples_leaf=4, min_samples_split=8, n_estimators=300;, score=0.891 total time=   1.5s\n",
            "[CV 3/3] END bootstrap=True, max_depth=110, max_features=2, min_samples_leaf=4, min_samples_split=8, n_estimators=300;, score=0.894 total time=   1.5s\n",
            "[CV 1/3] END bootstrap=True, max_depth=110, max_features=2, min_samples_leaf=4, min_samples_split=8, n_estimators=1000;, score=0.887 total time=   5.0s\n",
            "[CV 2/3] END bootstrap=True, max_depth=110, max_features=2, min_samples_leaf=4, min_samples_split=8, n_estimators=1000;, score=0.890 total time=   4.8s\n",
            "[CV 3/3] END bootstrap=True, max_depth=110, max_features=2, min_samples_leaf=4, min_samples_split=8, n_estimators=1000;, score=0.900 total time=   5.0s\n",
            "[CV 1/3] END bootstrap=True, max_depth=110, max_features=2, min_samples_leaf=4, min_samples_split=10, n_estimators=100;, score=0.869 total time=   0.5s\n",
            "[CV 2/3] END bootstrap=True, max_depth=110, max_features=2, min_samples_leaf=4, min_samples_split=10, n_estimators=100;, score=0.880 total time=   0.5s\n",
            "[CV 3/3] END bootstrap=True, max_depth=110, max_features=2, min_samples_leaf=4, min_samples_split=10, n_estimators=100;, score=0.883 total time=   0.5s\n",
            "[CV 1/3] END bootstrap=True, max_depth=110, max_features=2, min_samples_leaf=4, min_samples_split=10, n_estimators=200;, score=0.880 total time=   1.0s\n",
            "[CV 2/3] END bootstrap=True, max_depth=110, max_features=2, min_samples_leaf=4, min_samples_split=10, n_estimators=200;, score=0.887 total time=   1.0s\n",
            "[CV 3/3] END bootstrap=True, max_depth=110, max_features=2, min_samples_leaf=4, min_samples_split=10, n_estimators=200;, score=0.891 total time=   1.0s\n",
            "[CV 1/3] END bootstrap=True, max_depth=110, max_features=2, min_samples_leaf=4, min_samples_split=10, n_estimators=300;, score=0.886 total time=   1.5s\n",
            "[CV 2/3] END bootstrap=True, max_depth=110, max_features=2, min_samples_leaf=4, min_samples_split=10, n_estimators=300;, score=0.889 total time=   1.5s\n",
            "[CV 3/3] END bootstrap=True, max_depth=110, max_features=2, min_samples_leaf=4, min_samples_split=10, n_estimators=300;, score=0.895 total time=   1.4s\n",
            "[CV 1/3] END bootstrap=True, max_depth=110, max_features=2, min_samples_leaf=4, min_samples_split=10, n_estimators=1000;, score=0.885 total time=   4.9s\n",
            "[CV 2/3] END bootstrap=True, max_depth=110, max_features=2, min_samples_leaf=4, min_samples_split=10, n_estimators=1000;, score=0.893 total time=   5.0s\n",
            "[CV 3/3] END bootstrap=True, max_depth=110, max_features=2, min_samples_leaf=4, min_samples_split=10, n_estimators=1000;, score=0.897 total time=   4.9s\n",
            "[CV 1/3] END bootstrap=True, max_depth=110, max_features=2, min_samples_leaf=4, min_samples_split=12, n_estimators=100;, score=0.880 total time=   0.5s\n",
            "[CV 2/3] END bootstrap=True, max_depth=110, max_features=2, min_samples_leaf=4, min_samples_split=12, n_estimators=100;, score=0.881 total time=   0.5s\n",
            "[CV 3/3] END bootstrap=True, max_depth=110, max_features=2, min_samples_leaf=4, min_samples_split=12, n_estimators=100;, score=0.886 total time=   0.5s\n",
            "[CV 1/3] END bootstrap=True, max_depth=110, max_features=2, min_samples_leaf=4, min_samples_split=12, n_estimators=200;, score=0.880 total time=   1.0s\n",
            "[CV 2/3] END bootstrap=True, max_depth=110, max_features=2, min_samples_leaf=4, min_samples_split=12, n_estimators=200;, score=0.878 total time=   1.0s\n",
            "[CV 3/3] END bootstrap=True, max_depth=110, max_features=2, min_samples_leaf=4, min_samples_split=12, n_estimators=200;, score=0.891 total time=   1.0s\n",
            "[CV 1/3] END bootstrap=True, max_depth=110, max_features=2, min_samples_leaf=4, min_samples_split=12, n_estimators=300;, score=0.894 total time=   1.5s\n",
            "[CV 2/3] END bootstrap=True, max_depth=110, max_features=2, min_samples_leaf=4, min_samples_split=12, n_estimators=300;, score=0.883 total time=   1.5s\n",
            "[CV 3/3] END bootstrap=True, max_depth=110, max_features=2, min_samples_leaf=4, min_samples_split=12, n_estimators=300;, score=0.889 total time=   1.5s\n",
            "[CV 1/3] END bootstrap=True, max_depth=110, max_features=2, min_samples_leaf=4, min_samples_split=12, n_estimators=1000;, score=0.885 total time=   5.0s\n",
            "[CV 2/3] END bootstrap=True, max_depth=110, max_features=2, min_samples_leaf=4, min_samples_split=12, n_estimators=1000;, score=0.893 total time=   4.9s\n",
            "[CV 3/3] END bootstrap=True, max_depth=110, max_features=2, min_samples_leaf=4, min_samples_split=12, n_estimators=1000;, score=0.893 total time=   4.9s\n",
            "[CV 1/3] END bootstrap=True, max_depth=110, max_features=2, min_samples_leaf=5, min_samples_split=8, n_estimators=100;, score=0.861 total time=   0.5s\n",
            "[CV 2/3] END bootstrap=True, max_depth=110, max_features=2, min_samples_leaf=5, min_samples_split=8, n_estimators=100;, score=0.872 total time=   0.5s\n",
            "[CV 3/3] END bootstrap=True, max_depth=110, max_features=2, min_samples_leaf=5, min_samples_split=8, n_estimators=100;, score=0.880 total time=   0.5s\n",
            "[CV 1/3] END bootstrap=True, max_depth=110, max_features=2, min_samples_leaf=5, min_samples_split=8, n_estimators=200;, score=0.874 total time=   1.0s\n",
            "[CV 2/3] END bootstrap=True, max_depth=110, max_features=2, min_samples_leaf=5, min_samples_split=8, n_estimators=200;, score=0.880 total time=   1.0s\n",
            "[CV 3/3] END bootstrap=True, max_depth=110, max_features=2, min_samples_leaf=5, min_samples_split=8, n_estimators=200;, score=0.883 total time=   1.0s\n",
            "[CV 1/3] END bootstrap=True, max_depth=110, max_features=2, min_samples_leaf=5, min_samples_split=8, n_estimators=300;, score=0.881 total time=   1.5s\n",
            "[CV 2/3] END bootstrap=True, max_depth=110, max_features=2, min_samples_leaf=5, min_samples_split=8, n_estimators=300;, score=0.886 total time=   1.4s\n",
            "[CV 3/3] END bootstrap=True, max_depth=110, max_features=2, min_samples_leaf=5, min_samples_split=8, n_estimators=300;, score=0.886 total time=   1.4s\n",
            "[CV 1/3] END bootstrap=True, max_depth=110, max_features=2, min_samples_leaf=5, min_samples_split=8, n_estimators=1000;, score=0.880 total time=   4.8s\n",
            "[CV 2/3] END bootstrap=True, max_depth=110, max_features=2, min_samples_leaf=5, min_samples_split=8, n_estimators=1000;, score=0.883 total time=   4.8s\n",
            "[CV 3/3] END bootstrap=True, max_depth=110, max_features=2, min_samples_leaf=5, min_samples_split=8, n_estimators=1000;, score=0.888 total time=   4.8s\n",
            "[CV 1/3] END bootstrap=True, max_depth=110, max_features=2, min_samples_leaf=5, min_samples_split=10, n_estimators=100;, score=0.867 total time=   0.5s\n",
            "[CV 2/3] END bootstrap=True, max_depth=110, max_features=2, min_samples_leaf=5, min_samples_split=10, n_estimators=100;, score=0.874 total time=   0.5s\n",
            "[CV 3/3] END bootstrap=True, max_depth=110, max_features=2, min_samples_leaf=5, min_samples_split=10, n_estimators=100;, score=0.888 total time=   0.5s\n",
            "[CV 1/3] END bootstrap=True, max_depth=110, max_features=2, min_samples_leaf=5, min_samples_split=10, n_estimators=200;, score=0.878 total time=   1.0s\n",
            "[CV 2/3] END bootstrap=True, max_depth=110, max_features=2, min_samples_leaf=5, min_samples_split=10, n_estimators=200;, score=0.880 total time=   1.0s\n",
            "[CV 3/3] END bootstrap=True, max_depth=110, max_features=2, min_samples_leaf=5, min_samples_split=10, n_estimators=200;, score=0.889 total time=   1.0s\n",
            "[CV 1/3] END bootstrap=True, max_depth=110, max_features=2, min_samples_leaf=5, min_samples_split=10, n_estimators=300;, score=0.875 total time=   1.4s\n",
            "[CV 2/3] END bootstrap=True, max_depth=110, max_features=2, min_samples_leaf=5, min_samples_split=10, n_estimators=300;, score=0.880 total time=   1.5s\n",
            "[CV 3/3] END bootstrap=True, max_depth=110, max_features=2, min_samples_leaf=5, min_samples_split=10, n_estimators=300;, score=0.897 total time=   1.5s\n",
            "[CV 1/3] END bootstrap=True, max_depth=110, max_features=2, min_samples_leaf=5, min_samples_split=10, n_estimators=1000;, score=0.881 total time=   4.9s\n",
            "[CV 2/3] END bootstrap=True, max_depth=110, max_features=2, min_samples_leaf=5, min_samples_split=10, n_estimators=1000;, score=0.883 total time=   5.0s\n",
            "[CV 3/3] END bootstrap=True, max_depth=110, max_features=2, min_samples_leaf=5, min_samples_split=10, n_estimators=1000;, score=0.888 total time=   4.8s\n",
            "[CV 1/3] END bootstrap=True, max_depth=110, max_features=2, min_samples_leaf=5, min_samples_split=12, n_estimators=100;, score=0.869 total time=   0.5s\n",
            "[CV 2/3] END bootstrap=True, max_depth=110, max_features=2, min_samples_leaf=5, min_samples_split=12, n_estimators=100;, score=0.874 total time=   0.5s\n",
            "[CV 3/3] END bootstrap=True, max_depth=110, max_features=2, min_samples_leaf=5, min_samples_split=12, n_estimators=100;, score=0.883 total time=   0.5s\n",
            "[CV 1/3] END bootstrap=True, max_depth=110, max_features=2, min_samples_leaf=5, min_samples_split=12, n_estimators=200;, score=0.875 total time=   1.0s\n",
            "[CV 2/3] END bootstrap=True, max_depth=110, max_features=2, min_samples_leaf=5, min_samples_split=12, n_estimators=200;, score=0.879 total time=   1.0s\n",
            "[CV 3/3] END bootstrap=True, max_depth=110, max_features=2, min_samples_leaf=5, min_samples_split=12, n_estimators=200;, score=0.888 total time=   1.0s\n",
            "[CV 1/3] END bootstrap=True, max_depth=110, max_features=2, min_samples_leaf=5, min_samples_split=12, n_estimators=300;, score=0.876 total time=   1.5s\n",
            "[CV 2/3] END bootstrap=True, max_depth=110, max_features=2, min_samples_leaf=5, min_samples_split=12, n_estimators=300;, score=0.884 total time=   1.5s\n",
            "[CV 3/3] END bootstrap=True, max_depth=110, max_features=2, min_samples_leaf=5, min_samples_split=12, n_estimators=300;, score=0.884 total time=   1.5s\n",
            "[CV 1/3] END bootstrap=True, max_depth=110, max_features=2, min_samples_leaf=5, min_samples_split=12, n_estimators=1000;, score=0.879 total time=   4.8s\n",
            "[CV 2/3] END bootstrap=True, max_depth=110, max_features=2, min_samples_leaf=5, min_samples_split=12, n_estimators=1000;, score=0.883 total time=   4.8s\n",
            "[CV 3/3] END bootstrap=True, max_depth=110, max_features=2, min_samples_leaf=5, min_samples_split=12, n_estimators=1000;, score=0.891 total time=   4.7s\n",
            "[CV 1/3] END bootstrap=True, max_depth=110, max_features=3, min_samples_leaf=3, min_samples_split=8, n_estimators=100;, score=0.903 total time=   0.7s\n",
            "[CV 2/3] END bootstrap=True, max_depth=110, max_features=3, min_samples_leaf=3, min_samples_split=8, n_estimators=100;, score=0.915 total time=   0.7s\n",
            "[CV 3/3] END bootstrap=True, max_depth=110, max_features=3, min_samples_leaf=3, min_samples_split=8, n_estimators=100;, score=0.906 total time=   0.7s\n",
            "[CV 1/3] END bootstrap=True, max_depth=110, max_features=3, min_samples_leaf=3, min_samples_split=8, n_estimators=200;, score=0.897 total time=   1.3s\n",
            "[CV 2/3] END bootstrap=True, max_depth=110, max_features=3, min_samples_leaf=3, min_samples_split=8, n_estimators=200;, score=0.911 total time=   1.3s\n",
            "[CV 3/3] END bootstrap=True, max_depth=110, max_features=3, min_samples_leaf=3, min_samples_split=8, n_estimators=200;, score=0.911 total time=   1.3s\n",
            "[CV 1/3] END bootstrap=True, max_depth=110, max_features=3, min_samples_leaf=3, min_samples_split=8, n_estimators=300;, score=0.911 total time=   2.0s\n",
            "[CV 2/3] END bootstrap=True, max_depth=110, max_features=3, min_samples_leaf=3, min_samples_split=8, n_estimators=300;, score=0.916 total time=   1.9s\n",
            "[CV 3/3] END bootstrap=True, max_depth=110, max_features=3, min_samples_leaf=3, min_samples_split=8, n_estimators=300;, score=0.912 total time=   1.9s\n",
            "[CV 1/3] END bootstrap=True, max_depth=110, max_features=3, min_samples_leaf=3, min_samples_split=8, n_estimators=1000;, score=0.912 total time=   6.4s\n",
            "[CV 2/3] END bootstrap=True, max_depth=110, max_features=3, min_samples_leaf=3, min_samples_split=8, n_estimators=1000;, score=0.916 total time=   6.4s\n",
            "[CV 3/3] END bootstrap=True, max_depth=110, max_features=3, min_samples_leaf=3, min_samples_split=8, n_estimators=1000;, score=0.918 total time=   6.4s\n",
            "[CV 1/3] END bootstrap=True, max_depth=110, max_features=3, min_samples_leaf=3, min_samples_split=10, n_estimators=100;, score=0.894 total time=   0.7s\n",
            "[CV 2/3] END bootstrap=True, max_depth=110, max_features=3, min_samples_leaf=3, min_samples_split=10, n_estimators=100;, score=0.901 total time=   0.7s\n",
            "[CV 3/3] END bootstrap=True, max_depth=110, max_features=3, min_samples_leaf=3, min_samples_split=10, n_estimators=100;, score=0.906 total time=   0.7s\n",
            "[CV 1/3] END bootstrap=True, max_depth=110, max_features=3, min_samples_leaf=3, min_samples_split=10, n_estimators=200;, score=0.907 total time=   1.5s\n",
            "[CV 2/3] END bootstrap=True, max_depth=110, max_features=3, min_samples_leaf=3, min_samples_split=10, n_estimators=200;, score=0.913 total time=   1.3s\n",
            "[CV 3/3] END bootstrap=True, max_depth=110, max_features=3, min_samples_leaf=3, min_samples_split=10, n_estimators=200;, score=0.910 total time=   1.3s\n",
            "[CV 1/3] END bootstrap=True, max_depth=110, max_features=3, min_samples_leaf=3, min_samples_split=10, n_estimators=300;, score=0.907 total time=   2.0s\n",
            "[CV 2/3] END bootstrap=True, max_depth=110, max_features=3, min_samples_leaf=3, min_samples_split=10, n_estimators=300;, score=0.912 total time=   2.0s\n",
            "[CV 3/3] END bootstrap=True, max_depth=110, max_features=3, min_samples_leaf=3, min_samples_split=10, n_estimators=300;, score=0.912 total time=   2.0s\n",
            "[CV 1/3] END bootstrap=True, max_depth=110, max_features=3, min_samples_leaf=3, min_samples_split=10, n_estimators=1000;, score=0.905 total time=   6.4s\n",
            "[CV 2/3] END bootstrap=True, max_depth=110, max_features=3, min_samples_leaf=3, min_samples_split=10, n_estimators=1000;, score=0.915 total time=   6.4s\n",
            "[CV 3/3] END bootstrap=True, max_depth=110, max_features=3, min_samples_leaf=3, min_samples_split=10, n_estimators=1000;, score=0.910 total time=   6.4s\n",
            "[CV 1/3] END bootstrap=True, max_depth=110, max_features=3, min_samples_leaf=3, min_samples_split=12, n_estimators=100;, score=0.894 total time=   0.7s\n",
            "[CV 2/3] END bootstrap=True, max_depth=110, max_features=3, min_samples_leaf=3, min_samples_split=12, n_estimators=100;, score=0.905 total time=   0.7s\n",
            "[CV 3/3] END bootstrap=True, max_depth=110, max_features=3, min_samples_leaf=3, min_samples_split=12, n_estimators=100;, score=0.906 total time=   0.7s\n",
            "[CV 1/3] END bootstrap=True, max_depth=110, max_features=3, min_samples_leaf=3, min_samples_split=12, n_estimators=200;, score=0.899 total time=   1.3s\n",
            "[CV 2/3] END bootstrap=True, max_depth=110, max_features=3, min_samples_leaf=3, min_samples_split=12, n_estimators=200;, score=0.905 total time=   1.3s\n",
            "[CV 3/3] END bootstrap=True, max_depth=110, max_features=3, min_samples_leaf=3, min_samples_split=12, n_estimators=200;, score=0.908 total time=   1.3s\n",
            "[CV 1/3] END bootstrap=True, max_depth=110, max_features=3, min_samples_leaf=3, min_samples_split=12, n_estimators=300;, score=0.899 total time=   1.9s\n",
            "[CV 2/3] END bootstrap=True, max_depth=110, max_features=3, min_samples_leaf=3, min_samples_split=12, n_estimators=300;, score=0.910 total time=   1.9s\n",
            "[CV 3/3] END bootstrap=True, max_depth=110, max_features=3, min_samples_leaf=3, min_samples_split=12, n_estimators=300;, score=0.911 total time=   1.9s\n",
            "[CV 1/3] END bootstrap=True, max_depth=110, max_features=3, min_samples_leaf=3, min_samples_split=12, n_estimators=1000;, score=0.907 total time=   6.3s\n",
            "[CV 2/3] END bootstrap=True, max_depth=110, max_features=3, min_samples_leaf=3, min_samples_split=12, n_estimators=1000;, score=0.912 total time=   6.1s\n",
            "[CV 3/3] END bootstrap=True, max_depth=110, max_features=3, min_samples_leaf=3, min_samples_split=12, n_estimators=1000;, score=0.910 total time=   6.1s\n",
            "[CV 1/3] END bootstrap=True, max_depth=110, max_features=3, min_samples_leaf=4, min_samples_split=8, n_estimators=100;, score=0.892 total time=   0.6s\n",
            "[CV 2/3] END bootstrap=True, max_depth=110, max_features=3, min_samples_leaf=4, min_samples_split=8, n_estimators=100;, score=0.902 total time=   0.6s\n",
            "[CV 3/3] END bootstrap=True, max_depth=110, max_features=3, min_samples_leaf=4, min_samples_split=8, n_estimators=100;, score=0.902 total time=   0.7s\n",
            "[CV 1/3] END bootstrap=True, max_depth=110, max_features=3, min_samples_leaf=4, min_samples_split=8, n_estimators=200;, score=0.895 total time=   1.2s\n",
            "[CV 2/3] END bootstrap=True, max_depth=110, max_features=3, min_samples_leaf=4, min_samples_split=8, n_estimators=200;, score=0.904 total time=   1.2s\n",
            "[CV 3/3] END bootstrap=True, max_depth=110, max_features=3, min_samples_leaf=4, min_samples_split=8, n_estimators=200;, score=0.909 total time=   1.2s\n",
            "[CV 1/3] END bootstrap=True, max_depth=110, max_features=3, min_samples_leaf=4, min_samples_split=8, n_estimators=300;, score=0.896 total time=   1.8s\n",
            "[CV 2/3] END bootstrap=True, max_depth=110, max_features=3, min_samples_leaf=4, min_samples_split=8, n_estimators=300;, score=0.909 total time=   1.9s\n",
            "[CV 3/3] END bootstrap=True, max_depth=110, max_features=3, min_samples_leaf=4, min_samples_split=8, n_estimators=300;, score=0.907 total time=   1.9s\n",
            "[CV 1/3] END bootstrap=True, max_depth=110, max_features=3, min_samples_leaf=4, min_samples_split=8, n_estimators=1000;, score=0.898 total time=   6.2s\n",
            "[CV 2/3] END bootstrap=True, max_depth=110, max_features=3, min_samples_leaf=4, min_samples_split=8, n_estimators=1000;, score=0.912 total time=   6.2s\n",
            "[CV 3/3] END bootstrap=True, max_depth=110, max_features=3, min_samples_leaf=4, min_samples_split=8, n_estimators=1000;, score=0.911 total time=   6.2s\n",
            "[CV 1/3] END bootstrap=True, max_depth=110, max_features=3, min_samples_leaf=4, min_samples_split=10, n_estimators=100;, score=0.890 total time=   0.7s\n",
            "[CV 2/3] END bootstrap=True, max_depth=110, max_features=3, min_samples_leaf=4, min_samples_split=10, n_estimators=100;, score=0.899 total time=   0.6s\n",
            "[CV 3/3] END bootstrap=True, max_depth=110, max_features=3, min_samples_leaf=4, min_samples_split=10, n_estimators=100;, score=0.900 total time=   0.6s\n",
            "[CV 1/3] END bootstrap=True, max_depth=110, max_features=3, min_samples_leaf=4, min_samples_split=10, n_estimators=200;, score=0.892 total time=   1.3s\n",
            "[CV 2/3] END bootstrap=True, max_depth=110, max_features=3, min_samples_leaf=4, min_samples_split=10, n_estimators=200;, score=0.902 total time=   1.2s\n",
            "[CV 3/3] END bootstrap=True, max_depth=110, max_features=3, min_samples_leaf=4, min_samples_split=10, n_estimators=200;, score=0.905 total time=   1.2s\n",
            "[CV 1/3] END bootstrap=True, max_depth=110, max_features=3, min_samples_leaf=4, min_samples_split=10, n_estimators=300;, score=0.901 total time=   1.9s\n",
            "[CV 2/3] END bootstrap=True, max_depth=110, max_features=3, min_samples_leaf=4, min_samples_split=10, n_estimators=300;, score=0.908 total time=   1.9s\n",
            "[CV 3/3] END bootstrap=True, max_depth=110, max_features=3, min_samples_leaf=4, min_samples_split=10, n_estimators=300;, score=0.906 total time=   1.9s\n",
            "[CV 1/3] END bootstrap=True, max_depth=110, max_features=3, min_samples_leaf=4, min_samples_split=10, n_estimators=1000;, score=0.905 total time=   6.3s\n",
            "[CV 2/3] END bootstrap=True, max_depth=110, max_features=3, min_samples_leaf=4, min_samples_split=10, n_estimators=1000;, score=0.912 total time=   6.3s\n",
            "[CV 3/3] END bootstrap=True, max_depth=110, max_features=3, min_samples_leaf=4, min_samples_split=10, n_estimators=1000;, score=0.909 total time=   6.2s\n",
            "[CV 1/3] END bootstrap=True, max_depth=110, max_features=3, min_samples_leaf=4, min_samples_split=12, n_estimators=100;, score=0.889 total time=   0.7s\n",
            "[CV 2/3] END bootstrap=True, max_depth=110, max_features=3, min_samples_leaf=4, min_samples_split=12, n_estimators=100;, score=0.892 total time=   0.6s\n",
            "[CV 3/3] END bootstrap=True, max_depth=110, max_features=3, min_samples_leaf=4, min_samples_split=12, n_estimators=100;, score=0.902 total time=   0.7s\n",
            "[CV 1/3] END bootstrap=True, max_depth=110, max_features=3, min_samples_leaf=4, min_samples_split=12, n_estimators=200;, score=0.895 total time=   1.3s\n",
            "[CV 2/3] END bootstrap=True, max_depth=110, max_features=3, min_samples_leaf=4, min_samples_split=12, n_estimators=200;, score=0.903 total time=   1.3s\n",
            "[CV 3/3] END bootstrap=True, max_depth=110, max_features=3, min_samples_leaf=4, min_samples_split=12, n_estimators=200;, score=0.896 total time=   1.3s\n",
            "[CV 1/3] END bootstrap=True, max_depth=110, max_features=3, min_samples_leaf=4, min_samples_split=12, n_estimators=300;, score=0.901 total time=   1.9s\n",
            "[CV 2/3] END bootstrap=True, max_depth=110, max_features=3, min_samples_leaf=4, min_samples_split=12, n_estimators=300;, score=0.905 total time=   2.0s\n",
            "[CV 3/3] END bootstrap=True, max_depth=110, max_features=3, min_samples_leaf=4, min_samples_split=12, n_estimators=300;, score=0.908 total time=   2.0s\n",
            "[CV 1/3] END bootstrap=True, max_depth=110, max_features=3, min_samples_leaf=4, min_samples_split=12, n_estimators=1000;, score=0.897 total time=   6.2s\n",
            "[CV 2/3] END bootstrap=True, max_depth=110, max_features=3, min_samples_leaf=4, min_samples_split=12, n_estimators=1000;, score=0.910 total time=   6.2s\n",
            "[CV 3/3] END bootstrap=True, max_depth=110, max_features=3, min_samples_leaf=4, min_samples_split=12, n_estimators=1000;, score=0.909 total time=   6.2s\n",
            "[CV 1/3] END bootstrap=True, max_depth=110, max_features=3, min_samples_leaf=5, min_samples_split=8, n_estimators=100;, score=0.891 total time=   0.6s\n",
            "[CV 2/3] END bootstrap=True, max_depth=110, max_features=3, min_samples_leaf=5, min_samples_split=8, n_estimators=100;, score=0.894 total time=   0.6s\n",
            "[CV 3/3] END bootstrap=True, max_depth=110, max_features=3, min_samples_leaf=5, min_samples_split=8, n_estimators=100;, score=0.896 total time=   0.6s\n",
            "[CV 1/3] END bootstrap=True, max_depth=110, max_features=3, min_samples_leaf=5, min_samples_split=8, n_estimators=200;, score=0.892 total time=   1.3s\n",
            "[CV 2/3] END bootstrap=True, max_depth=110, max_features=3, min_samples_leaf=5, min_samples_split=8, n_estimators=200;, score=0.897 total time=   1.2s\n",
            "[CV 3/3] END bootstrap=True, max_depth=110, max_features=3, min_samples_leaf=5, min_samples_split=8, n_estimators=200;, score=0.904 total time=   1.2s\n",
            "[CV 1/3] END bootstrap=True, max_depth=110, max_features=3, min_samples_leaf=5, min_samples_split=8, n_estimators=300;, score=0.893 total time=   1.8s\n",
            "[CV 2/3] END bootstrap=True, max_depth=110, max_features=3, min_samples_leaf=5, min_samples_split=8, n_estimators=300;, score=0.895 total time=   1.9s\n",
            "[CV 3/3] END bootstrap=True, max_depth=110, max_features=3, min_samples_leaf=5, min_samples_split=8, n_estimators=300;, score=0.900 total time=   1.8s\n",
            "[CV 1/3] END bootstrap=True, max_depth=110, max_features=3, min_samples_leaf=5, min_samples_split=8, n_estimators=1000;, score=0.897 total time=   6.1s\n",
            "[CV 2/3] END bootstrap=True, max_depth=110, max_features=3, min_samples_leaf=5, min_samples_split=8, n_estimators=1000;, score=0.906 total time=   6.1s\n",
            "[CV 3/3] END bootstrap=True, max_depth=110, max_features=3, min_samples_leaf=5, min_samples_split=8, n_estimators=1000;, score=0.905 total time=   6.2s\n",
            "[CV 1/3] END bootstrap=True, max_depth=110, max_features=3, min_samples_leaf=5, min_samples_split=10, n_estimators=100;, score=0.884 total time=   0.6s\n",
            "[CV 2/3] END bootstrap=True, max_depth=110, max_features=3, min_samples_leaf=5, min_samples_split=10, n_estimators=100;, score=0.900 total time=   0.7s\n",
            "[CV 3/3] END bootstrap=True, max_depth=110, max_features=3, min_samples_leaf=5, min_samples_split=10, n_estimators=100;, score=0.896 total time=   0.7s\n",
            "[CV 1/3] END bootstrap=True, max_depth=110, max_features=3, min_samples_leaf=5, min_samples_split=10, n_estimators=200;, score=0.890 total time=   1.3s\n",
            "[CV 2/3] END bootstrap=True, max_depth=110, max_features=3, min_samples_leaf=5, min_samples_split=10, n_estimators=200;, score=0.901 total time=   1.2s\n",
            "[CV 3/3] END bootstrap=True, max_depth=110, max_features=3, min_samples_leaf=5, min_samples_split=10, n_estimators=200;, score=0.903 total time=   1.2s\n",
            "[CV 1/3] END bootstrap=True, max_depth=110, max_features=3, min_samples_leaf=5, min_samples_split=10, n_estimators=300;, score=0.896 total time=   1.8s\n",
            "[CV 2/3] END bootstrap=True, max_depth=110, max_features=3, min_samples_leaf=5, min_samples_split=10, n_estimators=300;, score=0.899 total time=   1.9s\n",
            "[CV 3/3] END bootstrap=True, max_depth=110, max_features=3, min_samples_leaf=5, min_samples_split=10, n_estimators=300;, score=0.899 total time=   1.9s\n",
            "[CV 1/3] END bootstrap=True, max_depth=110, max_features=3, min_samples_leaf=5, min_samples_split=10, n_estimators=1000;, score=0.894 total time=   6.2s\n",
            "[CV 2/3] END bootstrap=True, max_depth=110, max_features=3, min_samples_leaf=5, min_samples_split=10, n_estimators=1000;, score=0.902 total time=   6.2s\n",
            "[CV 3/3] END bootstrap=True, max_depth=110, max_features=3, min_samples_leaf=5, min_samples_split=10, n_estimators=1000;, score=0.902 total time=   6.2s\n",
            "[CV 1/3] END bootstrap=True, max_depth=110, max_features=3, min_samples_leaf=5, min_samples_split=12, n_estimators=100;, score=0.890 total time=   0.6s\n",
            "[CV 2/3] END bootstrap=True, max_depth=110, max_features=3, min_samples_leaf=5, min_samples_split=12, n_estimators=100;, score=0.897 total time=   0.6s\n",
            "[CV 3/3] END bootstrap=True, max_depth=110, max_features=3, min_samples_leaf=5, min_samples_split=12, n_estimators=100;, score=0.896 total time=   0.6s\n",
            "[CV 1/3] END bootstrap=True, max_depth=110, max_features=3, min_samples_leaf=5, min_samples_split=12, n_estimators=200;, score=0.887 total time=   1.3s\n",
            "[CV 2/3] END bootstrap=True, max_depth=110, max_features=3, min_samples_leaf=5, min_samples_split=12, n_estimators=200;, score=0.898 total time=   1.2s\n",
            "[CV 3/3] END bootstrap=True, max_depth=110, max_features=3, min_samples_leaf=5, min_samples_split=12, n_estimators=200;, score=0.902 total time=   1.2s\n",
            "[CV 1/3] END bootstrap=True, max_depth=110, max_features=3, min_samples_leaf=5, min_samples_split=12, n_estimators=300;, score=0.891 total time=   1.8s\n",
            "[CV 2/3] END bootstrap=True, max_depth=110, max_features=3, min_samples_leaf=5, min_samples_split=12, n_estimators=300;, score=0.899 total time=   1.8s\n",
            "[CV 3/3] END bootstrap=True, max_depth=110, max_features=3, min_samples_leaf=5, min_samples_split=12, n_estimators=300;, score=0.904 total time=   1.8s\n",
            "[CV 1/3] END bootstrap=True, max_depth=110, max_features=3, min_samples_leaf=5, min_samples_split=12, n_estimators=1000;, score=0.895 total time=   5.9s\n",
            "[CV 2/3] END bootstrap=True, max_depth=110, max_features=3, min_samples_leaf=5, min_samples_split=12, n_estimators=1000;, score=0.905 total time=   5.9s\n",
            "[CV 3/3] END bootstrap=True, max_depth=110, max_features=3, min_samples_leaf=5, min_samples_split=12, n_estimators=1000;, score=0.903 total time=   5.8s\n"
          ]
        },
        {
          "output_type": "execute_result",
          "data": {
            "text/plain": [
              "GridSearchCV(cv=3, estimator=RandomForestClassifier(),\n",
              "             param_grid={'bootstrap': [True], 'max_depth': [80, 90, 100, 110],\n",
              "                         'max_features': [2, 3], 'min_samples_leaf': [3, 4, 5],\n",
              "                         'min_samples_split': [8, 10, 12],\n",
              "                         'n_estimators': [100, 200, 300, 1000]},\n",
              "             verbose=3)"
            ]
          },
          "metadata": {},
          "execution_count": 34
        }
      ]
    },
    {
      "cell_type": "code",
      "source": [
        "y_pred = forest_grid_model.predict(xtest)\n",
        "confusion_matrix(ytest,y_pred)"
      ],
      "metadata": {
        "colab": {
          "base_uri": "https://localhost:8080/"
        },
        "id": "m2yyF-XcdVRD",
        "outputId": "634f2baa-0c6c-4d1b-8dcf-7835878ea22b"
      },
      "execution_count": 35,
      "outputs": [
        {
          "output_type": "execute_result",
          "data": {
            "text/plain": [
              "array([[654,   0,   0,   0,   1,   2,   7,   1,   6,   1],\n",
              "       [  0, 784,   2,   2,   0,   1,   5,   0,   1,   0],\n",
              "       [  6,   6, 661,  10,   6,   0,   8,  17,  15,   0],\n",
              "       [  2,   5,   7, 651,   0,   2,   5,  18,   9,   3],\n",
              "       [  1,   7,   1,   0, 638,   0,  14,   3,   1,  35],\n",
              "       [ 11,   2,   2,  52,  12, 516,  19,   3,   8,   8],\n",
              "       [ 12,   5,   1,   0,  10,   6, 621,   0,   1,   0],\n",
              "       [  1,  25,  13,   2,   6,   0,   0, 635,   3,  27],\n",
              "       [ 13,   6,   9,  32,  10,   6,   9,  12, 571,  14],\n",
              "       [ 13,  11,   2,  13,  19,   0,   1,  11,   6, 643]])"
            ]
          },
          "metadata": {},
          "execution_count": 35
        }
      ]
    },
    {
      "cell_type": "code",
      "source": [
        "accuracy_score(ytest,y_pred)"
      ],
      "metadata": {
        "colab": {
          "base_uri": "https://localhost:8080/"
        },
        "id": "2pe-zGONmuIu",
        "outputId": "934a2e76-fe08-422c-9500-8fdc0822b580"
      },
      "execution_count": 36,
      "outputs": [
        {
          "output_type": "execute_result",
          "data": {
            "text/plain": [
              "0.9105714285714286"
            ]
          },
          "metadata": {},
          "execution_count": 36
        }
      ]
    },
    {
      "cell_type": "code",
      "source": [
        "forest_grid_model.best_params_"
      ],
      "metadata": {
        "colab": {
          "base_uri": "https://localhost:8080/"
        },
        "id": "AeFlBD52mxQe",
        "outputId": "befbe408-318d-477b-9baa-85643bf935a6"
      },
      "execution_count": 38,
      "outputs": [
        {
          "output_type": "execute_result",
          "data": {
            "text/plain": [
              "{'bootstrap': True,\n",
              " 'max_depth': 110,\n",
              " 'max_features': 3,\n",
              " 'min_samples_leaf': 3,\n",
              " 'min_samples_split': 8,\n",
              " 'n_estimators': 1000}"
            ]
          },
          "metadata": {},
          "execution_count": 38
        }
      ]
    },
    {
      "cell_type": "markdown",
      "source": [
        "# Voting Classifier"
      ],
      "metadata": {
        "id": "iaxQndOgKbuB"
      }
    },
    {
      "cell_type": "code",
      "source": [
        "#using with the best parameters acquired from GridSearchCV\n",
        "# COMBINED_ESTIMATORS = [\n",
        "#                        SVC(C= 1, gamma= 0.1, kernel= 'rbf'),\n",
        "#                        KNeighborsClassifier(n_neighbors= 5),\n",
        "#                        RandomForestClassifier(bootstrap= True, max_depth= 110,\n",
        "#                         max_features= 3, min_samples_leaf= 3, min_samples_split= 8,n_estimators= 1000)]\n",
        "\n",
        "\n",
        "COMBINED_ESTIMATORS = [(\"SVM Classifier\",SVC(C= 1, gamma= 0.1, kernel= 'rbf',probability=True)),\n",
        "                       (\"KNN Classifier\",KNeighborsClassifier(n_neighbors= 5)),\n",
        "                       ('Random Forest Classifier',RandomForestClassifier(bootstrap= True, max_depth= 110,\n",
        "                        max_features= 3, min_samples_leaf= 3, min_samples_split= 8,n_estimators= 1000))]"
      ],
      "metadata": {
        "id": "db0ieIzYKZm0"
      },
      "execution_count": 31,
      "outputs": []
    },
    {
      "cell_type": "code",
      "source": [
        "soft_voter = VotingClassifier(COMBINED_ESTIMATORS,voting='soft',n_jobs = -1, verbose =3)\n",
        "soft_voter.fit(xtrain,ytrain)"
      ],
      "metadata": {
        "colab": {
          "base_uri": "https://localhost:8080/"
        },
        "id": "fajmL2hNmzrl",
        "outputId": "d0756114-0f62-4fc7-c731-15f6c0bd7ac5"
      },
      "execution_count": 33,
      "outputs": [
        {
          "output_type": "execute_result",
          "data": {
            "text/plain": [
              "VotingClassifier(estimators=[('SVM Classifier',\n",
              "                              SVC(C=1, gamma=0.1, probability=True)),\n",
              "                             ('KNN Classifier', KNeighborsClassifier()),\n",
              "                             ('Random Forest Classifier',\n",
              "                              RandomForestClassifier(max_depth=110,\n",
              "                                                     max_features=3,\n",
              "                                                     min_samples_leaf=3,\n",
              "                                                     min_samples_split=8,\n",
              "                                                     n_estimators=1000))],\n",
              "                 n_jobs=-1, verbose=3, voting='soft')"
            ]
          },
          "metadata": {},
          "execution_count": 33
        }
      ]
    },
    {
      "cell_type": "code",
      "source": [
        "soft_voter.score(xtest,ytest)"
      ],
      "metadata": {
        "colab": {
          "base_uri": "https://localhost:8080/"
        },
        "id": "bmv5dZ82RGDo",
        "outputId": "27061445-48a3-4a68-d303-57743504809f"
      },
      "execution_count": 34,
      "outputs": [
        {
          "output_type": "execute_result",
          "data": {
            "text/plain": [
              "0.9428571428571428"
            ]
          },
          "metadata": {},
          "execution_count": 34
        }
      ]
    },
    {
      "cell_type": "code",
      "source": [
        ""
      ],
      "metadata": {
        "id": "cyWHFImMVbtd"
      },
      "execution_count": null,
      "outputs": []
    }
  ]
}