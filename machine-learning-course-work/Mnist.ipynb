{
  "nbformat": 4,
  "nbformat_minor": 0,
  "metadata": {
    "colab": {
      "name": "Mnist",
      "provenance": []
    },
    "kernelspec": {
      "name": "python3",
      "display_name": "Python 3"
    },
    "accelerator": "GPU"
  },
  "cells": [
    {
      "cell_type": "code",
      "metadata": {
        "id": "MkdQ-su6umhM"
      },
      "source": [
        "import numpy as np\n",
        "import matplotlib.pyplot as plt\n",
        "from keras.datasets import mnist\n",
        "from sklearn.svm import SVC\n",
        "from sklearn.neighbors import KNeighborsClassifier\n",
        "from sklearn.ensemble import RandomForestClassifier\n",
        "from sklearn.metrics import confusion_matrix, plot_confusion_matrix\n",
        "from sklearn.metrics import accuracy_score"
      ],
      "execution_count": 13,
      "outputs": []
    },
    {
      "cell_type": "code",
      "source": [
        ""
      ],
      "metadata": {
        "id": "UhFIgsRZQhK9"
      },
      "execution_count": 1,
      "outputs": []
    },
    {
      "cell_type": "markdown",
      "source": [
        "# Loading the data and splitting them into train and test set\n"
      ],
      "metadata": {
        "id": "_gw7DMX3QiZD"
      }
    },
    {
      "cell_type": "code",
      "source": [
        "(xtrain, ytrain), (xtest,ytest) = mnist.load_data()"
      ],
      "metadata": {
        "colab": {
          "base_uri": "https://localhost:8080/"
        },
        "id": "p41XES8xPiic",
        "outputId": "195f4be4-acc3-4d6a-d882-0ec77e51d4a4"
      },
      "execution_count": 2,
      "outputs": [
        {
          "output_type": "stream",
          "name": "stdout",
          "text": [
            "Downloading data from https://storage.googleapis.com/tensorflow/tf-keras-datasets/mnist.npz\n",
            "11493376/11490434 [==============================] - 0s 0us/step\n",
            "11501568/11490434 [==============================] - 0s 0us/step\n"
          ]
        }
      ]
    },
    {
      "cell_type": "code",
      "source": [
        "xtrain.shape, xtest.shape, ytrain.shape, ytest.shape"
      ],
      "metadata": {
        "colab": {
          "base_uri": "https://localhost:8080/"
        },
        "id": "YBgjA52oQHp0",
        "outputId": "444f91ce-21d4-4cc0-c831-5aa3b57b0bf4"
      },
      "execution_count": 3,
      "outputs": [
        {
          "output_type": "execute_result",
          "data": {
            "text/plain": [
              "((60000, 28, 28), (10000, 28, 28), (60000,), (10000,))"
            ]
          },
          "metadata": {},
          "execution_count": 3
        }
      ]
    },
    {
      "cell_type": "code",
      "source": [
        "plt.imshow(xtrain[9])"
      ],
      "metadata": {
        "colab": {
          "base_uri": "https://localhost:8080/",
          "height": 282
        },
        "id": "2r0-ovxvQVsi",
        "outputId": "9daba45f-9f3f-4317-e16e-926f91609060"
      },
      "execution_count": 4,
      "outputs": [
        {
          "output_type": "execute_result",
          "data": {
            "text/plain": [
              "<matplotlib.image.AxesImage at 0x7f2636c1ce10>"
            ]
          },
          "metadata": {},
          "execution_count": 4
        },
        {
          "output_type": "display_data",
          "data": {
            "text/plain": [
              "<Figure size 432x288 with 1 Axes>"
            ],
            "image/png": "[encoded data removed]"
          },
          "metadata": {
            "needs_background": "light"
          }
        }
      ]
    },
    {
      "cell_type": "markdown",
      "source": [
        "# Training the data on 3 classifiers (SVM, KNN, Random-Forest)"
      ],
      "metadata": {
        "id": "tSEF65J8Q3Hd"
      }
    },
    {
      "cell_type": "markdown",
      "source": [
        "## Data Preprocessing"
      ],
      "metadata": {
        "id": "IzqqgXnoRAtv"
      }
    },
    {
      "cell_type": "code",
      "source": [
        "#rescaling the images \n",
        "# xtrain = xtrain/255.0\n",
        "# xtest = xtest/255.0\n",
        "\n",
        "#transformrnig them data into 1 DIM\n",
        "xtrain = np.reshape(xtrain,(xtrain.shape[0],xtrain.shape[1]*xtrain.shape[1]))\n",
        "\n",
        "xtest = np.reshape(xtest,(xtest.shape[0],xtest.shape[1]*xtest.shape[1]))"
      ],
      "metadata": {
        "id": "5UQ6534CQr5r"
      },
      "execution_count": 5,
      "outputs": []
    },
    {
      "cell_type": "markdown",
      "source": [
        "## Traning MODELS on default parameters"
      ],
      "metadata": {
        "id": "GSBHRA-_ThFD"
      }
    },
    {
      "cell_type": "markdown",
      "source": [
        "### SVM"
      ],
      "metadata": {
        "id": "KMdAjPb3UcNo"
      }
    },
    {
      "cell_type": "code",
      "source": [
        "svm_model = SVC()\n",
        "svm_model.fit(xtrain,ytrain)"
      ],
      "metadata": {
        "colab": {
          "base_uri": "https://localhost:8080/"
        },
        "id": "x4lKbi7CQ_EC",
        "outputId": "429c568c-2b0a-4122-fa4d-e3bdae9ef925"
      },
      "execution_count": 6,
      "outputs": [
        {
          "output_type": "execute_result",
          "data": {
            "text/plain": [
              "SVC()"
            ]
          },
          "metadata": {},
          "execution_count": 6
        }
      ]
    },
    {
      "cell_type": "markdown",
      "source": [
        "### Plotting Confusion Matrix"
      ],
      "metadata": {
        "id": "cJ4W2sYfWtZ5"
      }
    },
    {
      "cell_type": "code",
      "source": [
        "y_pred = svm_model.predict(xtest)\n",
        "confusion_matrix(ytest,y_pred)"
      ],
      "metadata": {
        "colab": {
          "base_uri": "https://localhost:8080/"
        },
        "id": "v56CcxCcTxF5",
        "outputId": "95165cf8-fd7f-47ec-c640-04380c8a87f9"
      },
      "execution_count": 9,
      "outputs": [
        {
          "output_type": "execute_result",
          "data": {
            "text/plain": [
              "array([[ 973,    0,    1,    0,    0,    2,    1,    1,    2,    0],\n",
              "       [   0, 1126,    3,    1,    0,    1,    1,    1,    2,    0],\n",
              "       [   6,    1, 1006,    2,    1,    0,    2,    7,    6,    1],\n",
              "       [   0,    0,    2,  995,    0,    2,    0,    5,    5,    1],\n",
              "       [   0,    0,    5,    0,  961,    0,    3,    0,    2,   11],\n",
              "       [   2,    0,    0,    9,    0,  871,    4,    1,    4,    1],\n",
              "       [   6,    2,    0,    0,    2,    3,  944,    0,    1,    0],\n",
              "       [   0,    6,   11,    1,    1,    0,    0,  996,    2,   11],\n",
              "       [   3,    0,    2,    6,    3,    2,    2,    3,  950,    3],\n",
              "       [   3,    4,    1,    7,   10,    2,    1,    7,    4,  970]])"
            ]
          },
          "metadata": {},
          "execution_count": 9
        }
      ]
    },
    {
      "cell_type": "code",
      "source": [
        "plot_confusion_matrix(svm_model,xtest,ytest)"
      ],
      "metadata": {
        "colab": {
          "base_uri": "https://localhost:8080/",
          "height": 351
        },
        "id": "I7MU87HbTy0y",
        "outputId": "98d56d94-3df7-4ccc-ed41-1d64b046cb36"
      },
      "execution_count": 12,
      "outputs": [
        {
          "output_type": "stream",
          "name": "stderr",
          "text": [
            "/usr/local/lib/python3.7/dist-packages/sklearn/utils/deprecation.py:87: FutureWarning: Function plot_confusion_matrix is deprecated; Function `plot_confusion_matrix` is deprecated in 1.0 and will be removed in 1.2. Use one of the class methods: ConfusionMatrixDisplay.from_predictions or ConfusionMatrixDisplay.from_estimator.\n",
            "  warnings.warn(msg, category=FutureWarning)\n"
          ]
        },
        {
          "output_type": "execute_result",
          "data": {
            "text/plain": [
              "<sklearn.metrics._plot.confusion_matrix.ConfusionMatrixDisplay at 0x7f26b8f31ed0>"
            ]
          },
          "metadata": {},
          "execution_count": 12
        },
        {
          "output_type": "display_data",
          "data": {
            "text/plain": [
              "<Figure size 432x288 with 2 Axes>"
            ],
            "image/png": "[encoded data removed]"
          },
          "metadata": {
            "needs_background": "light"
          }
        }
      ]
    },
    {
      "cell_type": "code",
      "source": [
        "accuracy_score(ytest,y_pred)"
      ],
      "metadata": {
        "id": "ZSJrrWV9Xgfi",
        "outputId": "44c3c342-6df6-42c3-d296-5a74e5b7064e",
        "colab": {
          "base_uri": "https://localhost:8080/"
        }
      },
      "execution_count": 14,
      "outputs": [
        {
          "output_type": "execute_result",
          "data": {
            "text/plain": [
              "0.9792"
            ]
          },
          "metadata": {},
          "execution_count": 14
        }
      ]
    },
    {
      "cell_type": "markdown",
      "source": [
        "# K-Neighreast Neighbours"
      ],
      "metadata": {
        "id": "RQOBS219Yd0a"
      }
    },
    {
      "cell_type": "code",
      "source": [
        "knn_model = KNeighborsClassifier()\n",
        "knn_model.fit(xtrain,ytrain)"
      ],
      "metadata": {
        "id": "yEvH80oyYcK2",
        "outputId": "668b42ec-7166-42a2-988c-dfc61779a7e8",
        "colab": {
          "base_uri": "https://localhost:8080/"
        }
      },
      "execution_count": 15,
      "outputs": [
        {
          "output_type": "execute_result",
          "data": {
            "text/plain": [
              "KNeighborsClassifier()"
            ]
          },
          "metadata": {},
          "execution_count": 15
        }
      ]
    },
    {
      "cell_type": "code",
      "source": [
        "y_pred = knn_model.predict(xtest)\n",
        "confusion_matrix(ytest,y_pred)"
      ],
      "metadata": {
        "id": "nAQkhoymYq88",
        "outputId": "5d300090-bea7-4ec7-dbc4-681c3b0211b2",
        "colab": {
          "base_uri": "https://localhost:8080/"
        }
      },
      "execution_count": 16,
      "outputs": [
        {
          "output_type": "execute_result",
          "data": {
            "text/plain": [
              "array([[ 974,    1,    1,    0,    0,    1,    2,    1,    0,    0],\n",
              "       [   0, 1133,    2,    0,    0,    0,    0,    0,    0,    0],\n",
              "       [  11,    8,  991,    2,    1,    0,    1,   15,    3,    0],\n",
              "       [   0,    3,    3,  976,    1,   13,    1,    6,    3,    4],\n",
              "       [   3,    7,    0,    0,  944,    0,    4,    2,    1,   21],\n",
              "       [   5,    0,    0,   12,    2,  862,    4,    1,    2,    4],\n",
              "       [   5,    3,    0,    0,    3,    2,  945,    0,    0,    0],\n",
              "       [   0,   22,    4,    0,    3,    0,    0,  988,    0,   11],\n",
              "       [   8,    3,    5,   13,    6,   12,    5,    5,  913,    4],\n",
              "       [   5,    7,    3,    9,    7,    3,    1,   10,    2,  962]])"
            ]
          },
          "metadata": {},
          "execution_count": 16
        }
      ]
    },
    {
      "cell_type": "code",
      "source": [
        "plot_confusion_matrix(knn_model,xtest,ytest)"
      ],
      "metadata": {
        "id": "cWzpOMtGYwkx",
        "outputId": "2abc746b-3d20-424d-d6cc-e6fed473698a",
        "colab": {
          "base_uri": "https://localhost:8080/",
          "height": 351
        }
      },
      "execution_count": 17,
      "outputs": [
        {
          "output_type": "stream",
          "name": "stderr",
          "text": [
            "/usr/local/lib/python3.7/dist-packages/sklearn/utils/deprecation.py:87: FutureWarning: Function plot_confusion_matrix is deprecated; Function `plot_confusion_matrix` is deprecated in 1.0 and will be removed in 1.2. Use one of the class methods: ConfusionMatrixDisplay.from_predictions or ConfusionMatrixDisplay.from_estimator.\n",
            "  warnings.warn(msg, category=FutureWarning)\n"
          ]
        },
        {
          "output_type": "execute_result",
          "data": {
            "text/plain": [
              "<sklearn.metrics._plot.confusion_matrix.ConfusionMatrixDisplay at 0x7f26363059d0>"
            ]
          },
          "metadata": {},
          "execution_count": 17
        },
        {
          "output_type": "display_data",
          "data": {
            "text/plain": [
              "<Figure size 432x288 with 2 Axes>"
            ],
            "image/png": "[encoded data removed]"
          },
          "metadata": {
            "needs_background": "light"
          }
        }
      ]
    },
    {
      "cell_type": "code",
      "source": [
        "accuracy_score(ytest,y_pred)"
      ],
      "metadata": {
        "id": "bOehcPvWY0rT",
        "outputId": "f913e3ec-5661-4c42-97a1-d682149eb612",
        "colab": {
          "base_uri": "https://localhost:8080/"
        }
      },
      "execution_count": 18,
      "outputs": [
        {
          "output_type": "execute_result",
          "data": {
            "text/plain": [
              "0.9688"
            ]
          },
          "metadata": {},
          "execution_count": 18
        }
      ]
    },
    {
      "cell_type": "code",
      "source": [
        "forest_model = RandomForestClassifier()\n",
        "forest_model.fit(xtrain,ytrain)"
      ],
      "metadata": {
        "id": "LDih2L35Y2Yk",
        "outputId": "8d4b5f63-508e-408f-80c7-c72c5416ab01",
        "colab": {
          "base_uri": "https://localhost:8080/"
        }
      },
      "execution_count": 19,
      "outputs": [
        {
          "output_type": "execute_result",
          "data": {
            "text/plain": [
              "RandomForestClassifier()"
            ]
          },
          "metadata": {},
          "execution_count": 19
        }
      ]
    },
    {
      "cell_type": "code",
      "source": [
        "y_pred = forest_model.predict(xtest)\n",
        "confusion_matrix(ytest,y_pred)"
      ],
      "metadata": {
        "id": "-W_yONiqbATO",
        "outputId": "33f64aa9-a9de-4aa9-c079-c96fcd2efae0",
        "colab": {
          "base_uri": "https://localhost:8080/"
        }
      },
      "execution_count": 20,
      "outputs": [
        {
          "output_type": "execute_result",
          "data": {
            "text/plain": [
              "array([[ 970,    0,    1,    0,    0,    1,    3,    1,    4,    0],\n",
              "       [   0, 1124,    2,    3,    1,    2,    2,    0,    1,    0],\n",
              "       [   6,    0,  997,    6,    3,    0,    3,    9,    7,    1],\n",
              "       [   0,    0,   12,  967,    0,   11,    0,    9,    8,    3],\n",
              "       [   2,    0,    0,    0,  959,    0,    5,    0,    3,   13],\n",
              "       [   3,    0,    0,   14,    5,  856,    6,    2,    4,    2],\n",
              "       [   5,    3,    0,    0,    4,    5,  938,    0,    3,    0],\n",
              "       [   1,    4,   20,    2,    0,    0,    0,  989,    1,   11],\n",
              "       [   5,    0,    4,   13,    7,    6,    4,    4,  923,    8],\n",
              "       [   4,    5,    2,    9,   16,    6,    1,    5,    7,  954]])"
            ]
          },
          "metadata": {},
          "execution_count": 20
        }
      ]
    },
    {
      "cell_type": "code",
      "source": [
        "plot_confusion_matrix(forest_model,xtest,ytest)"
      ],
      "metadata": {
        "id": "9yWVbC33bOtF",
        "outputId": "2bb68837-d6dd-4741-eda3-38d3484ca4a0",
        "colab": {
          "base_uri": "https://localhost:8080/",
          "height": 351
        }
      },
      "execution_count": 21,
      "outputs": [
        {
          "output_type": "stream",
          "name": "stderr",
          "text": [
            "/usr/local/lib/python3.7/dist-packages/sklearn/utils/deprecation.py:87: FutureWarning: Function plot_confusion_matrix is deprecated; Function `plot_confusion_matrix` is deprecated in 1.0 and will be removed in 1.2. Use one of the class methods: ConfusionMatrixDisplay.from_predictions or ConfusionMatrixDisplay.from_estimator.\n",
            "  warnings.warn(msg, category=FutureWarning)\n"
          ]
        },
        {
          "output_type": "execute_result",
          "data": {
            "text/plain": [
              "<sklearn.metrics._plot.confusion_matrix.ConfusionMatrixDisplay at 0x7f26362d4f90>"
            ]
          },
          "metadata": {},
          "execution_count": 21
        },
        {
          "output_type": "display_data",
          "data": {
            "text/plain": [
              "<Figure size 432x288 with 2 Axes>"
            ],
            "image/png": "[encoded data removed]"
          },
          "metadata": {
            "needs_background": "light"
          }
        }
      ]
    },
    {
      "cell_type": "code",
      "source": [
        "accuracy_score(ytest,y_pred)"
      ],
      "metadata": {
        "id": "jD2skRHufaE2",
        "outputId": "77169448-b57e-41ac-a21b-8e23fa1ad309",
        "colab": {
          "base_uri": "https://localhost:8080/"
        }
      },
      "execution_count": 22,
      "outputs": [
        {
          "output_type": "execute_result",
          "data": {
            "text/plain": [
              "0.9677"
            ]
          },
          "metadata": {},
          "execution_count": 22
        }
      ]
    },
    {
      "cell_type": "code",
      "source": [
        ""
      ],
      "metadata": {
        "id": "db1RuvZlfnFb"
      },
      "execution_count": null,
      "outputs": []
    }
  ]
}