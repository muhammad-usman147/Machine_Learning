{
 "cells": [
  {
   "cell_type": "code",
   "execution_count": 53,
   "id": "athletic-turkish",
   "metadata": {},
   "outputs": [],
   "source": [
    "import numpy as np\n",
    "import pandas as pd\n",
    "import matplotlib.pyplot as plt\n",
    "import seaborn as sns"
   ]
  },
  {
   "cell_type": "code",
   "execution_count": 54,
   "id": "alpine-boundary",
   "metadata": {},
   "outputs": [
    {
     "data": {
      "text/html": [
       "<div>\n",
       "<style scoped>\n",
       "    .dataframe tbody tr th:only-of-type {\n",
       "        vertical-align: middle;\n",
       "    }\n",
       "\n",
       "    .dataframe tbody tr th {\n",
       "        vertical-align: top;\n",
       "    }\n",
       "\n",
       "    .dataframe thead th {\n",
       "        text-align: right;\n",
       "    }\n",
       "</style>\n",
       "<table border=\"1\" class=\"dataframe\">\n",
       "  <thead>\n",
       "    <tr style=\"text-align: right;\">\n",
       "      <th></th>\n",
       "      <th>Cereal</th>\n",
       "      <th>Manufacturer</th>\n",
       "      <th>Type</th>\n",
       "      <th>Calories</th>\n",
       "      <th>Protein</th>\n",
       "      <th>Fat</th>\n",
       "      <th>Sodium</th>\n",
       "      <th>Fiber</th>\n",
       "      <th>Carbohydrates</th>\n",
       "      <th>Sugars</th>\n",
       "      <th>Shelf</th>\n",
       "      <th>Potassium</th>\n",
       "      <th>Vitamins</th>\n",
       "      <th>Weight</th>\n",
       "      <th>Cups</th>\n",
       "    </tr>\n",
       "  </thead>\n",
       "  <tbody>\n",
       "    <tr>\n",
       "      <th>0</th>\n",
       "      <td>Apple Cinnamon Cheerios</td>\n",
       "      <td>G</td>\n",
       "      <td>C</td>\n",
       "      <td>110</td>\n",
       "      <td>2</td>\n",
       "      <td>2</td>\n",
       "      <td>180</td>\n",
       "      <td>1.5</td>\n",
       "      <td>10.5</td>\n",
       "      <td>10</td>\n",
       "      <td>1</td>\n",
       "      <td>70</td>\n",
       "      <td>25</td>\n",
       "      <td>1.00</td>\n",
       "      <td>0.75</td>\n",
       "    </tr>\n",
       "    <tr>\n",
       "      <th>1</th>\n",
       "      <td>Basic 4</td>\n",
       "      <td>G</td>\n",
       "      <td>C</td>\n",
       "      <td>130</td>\n",
       "      <td>3</td>\n",
       "      <td>2</td>\n",
       "      <td>210</td>\n",
       "      <td>2.0</td>\n",
       "      <td>18.0</td>\n",
       "      <td>8</td>\n",
       "      <td>3</td>\n",
       "      <td>100</td>\n",
       "      <td>25</td>\n",
       "      <td>1.33</td>\n",
       "      <td>0.75</td>\n",
       "    </tr>\n",
       "    <tr>\n",
       "      <th>2</th>\n",
       "      <td>Cheerios</td>\n",
       "      <td>G</td>\n",
       "      <td>C</td>\n",
       "      <td>110</td>\n",
       "      <td>6</td>\n",
       "      <td>2</td>\n",
       "      <td>290</td>\n",
       "      <td>2.0</td>\n",
       "      <td>17.0</td>\n",
       "      <td>1</td>\n",
       "      <td>1</td>\n",
       "      <td>105</td>\n",
       "      <td>25</td>\n",
       "      <td>1.00</td>\n",
       "      <td>1.25</td>\n",
       "    </tr>\n",
       "    <tr>\n",
       "      <th>3</th>\n",
       "      <td>Cinnamon Toast Crunch</td>\n",
       "      <td>G</td>\n",
       "      <td>C</td>\n",
       "      <td>120</td>\n",
       "      <td>1</td>\n",
       "      <td>3</td>\n",
       "      <td>210</td>\n",
       "      <td>0.0</td>\n",
       "      <td>13.0</td>\n",
       "      <td>9</td>\n",
       "      <td>2</td>\n",
       "      <td>45</td>\n",
       "      <td>25</td>\n",
       "      <td>1.00</td>\n",
       "      <td>0.75</td>\n",
       "    </tr>\n",
       "    <tr>\n",
       "      <th>4</th>\n",
       "      <td>Clusters</td>\n",
       "      <td>G</td>\n",
       "      <td>C</td>\n",
       "      <td>110</td>\n",
       "      <td>3</td>\n",
       "      <td>2</td>\n",
       "      <td>140</td>\n",
       "      <td>2.0</td>\n",
       "      <td>13.0</td>\n",
       "      <td>7</td>\n",
       "      <td>3</td>\n",
       "      <td>105</td>\n",
       "      <td>25</td>\n",
       "      <td>1.00</td>\n",
       "      <td>0.50</td>\n",
       "    </tr>\n",
       "  </tbody>\n",
       "</table>\n",
       "</div>"
      ],
      "text/plain": [
       "                    Cereal Manufacturer Type  Calories  Protein  Fat  Sodium  \\\n",
       "0  Apple Cinnamon Cheerios            G    C       110        2    2     180   \n",
       "1                  Basic 4            G    C       130        3    2     210   \n",
       "2                 Cheerios            G    C       110        6    2     290   \n",
       "3    Cinnamon Toast Crunch            G    C       120        1    3     210   \n",
       "4                 Clusters            G    C       110        3    2     140   \n",
       "\n",
       "   Fiber  Carbohydrates  Sugars  Shelf  Potassium  Vitamins  Weight  Cups  \n",
       "0    1.5           10.5      10      1         70        25    1.00  0.75  \n",
       "1    2.0           18.0       8      3        100        25    1.33  0.75  \n",
       "2    2.0           17.0       1      1        105        25    1.00  1.25  \n",
       "3    0.0           13.0       9      2         45        25    1.00  0.75  \n",
       "4    2.0           13.0       7      3        105        25    1.00  0.50  "
      ]
     },
     "execution_count": 54,
     "metadata": {},
     "output_type": "execute_result"
    }
   ],
   "source": [
    "df = pd.read_excel('Assignment-1 Data Set.xls')\n",
    "df.head()"
   ]
  },
  {
   "cell_type": "code",
   "execution_count": 55,
   "id": "duplicate-dakota",
   "metadata": {},
   "outputs": [
    {
     "name": "stdout",
     "output_type": "stream",
     "text": [
      "Total unique cereal # 77 \n",
      " Total unique manifacturer # 7\n"
     ]
    }
   ],
   "source": [
    "print(\"Total unique cereal # {} \\n Total unique manifacturer # {}\".format(len(df['Cereal'].unique()),\n",
    "                                                                         len(df['Manufacturer'].unique())))"
   ]
  },
  {
   "cell_type": "code",
   "execution_count": 56,
   "id": "intense-substance",
   "metadata": {},
   "outputs": [
    {
     "data": {
      "text/plain": [
       "Index(['Cereal', 'Manufacturer', 'Type', 'Calories', 'Protein', 'Fat',\n",
       "       'Sodium', 'Fiber', 'Carbohydrates', 'Sugars', 'Shelf', 'Potassium',\n",
       "       'Vitamins', 'Weight', 'Cups'],\n",
       "      dtype='object')"
      ]
     },
     "execution_count": 56,
     "metadata": {},
     "output_type": "execute_result"
    }
   ],
   "source": [
    "df.columns"
   ]
  },
  {
   "cell_type": "code",
   "execution_count": 57,
   "id": "raising-wheat",
   "metadata": {
    "scrolled": true
   },
   "outputs": [
    {
     "data": {
      "text/html": [
       "<div>\n",
       "<style scoped>\n",
       "    .dataframe tbody tr th:only-of-type {\n",
       "        vertical-align: middle;\n",
       "    }\n",
       "\n",
       "    .dataframe tbody tr th {\n",
       "        vertical-align: top;\n",
       "    }\n",
       "\n",
       "    .dataframe thead th {\n",
       "        text-align: right;\n",
       "    }\n",
       "</style>\n",
       "<table border=\"1\" class=\"dataframe\">\n",
       "  <thead>\n",
       "    <tr style=\"text-align: right;\">\n",
       "      <th></th>\n",
       "      <th>Manufacturer</th>\n",
       "      <th>Type</th>\n",
       "      <th>Calories</th>\n",
       "      <th>Protein</th>\n",
       "      <th>Fat</th>\n",
       "      <th>Sodium</th>\n",
       "      <th>Fiber</th>\n",
       "      <th>Carbohydrates</th>\n",
       "      <th>Sugars</th>\n",
       "      <th>Shelf</th>\n",
       "      <th>Potassium</th>\n",
       "      <th>Vitamins</th>\n",
       "      <th>Weight</th>\n",
       "      <th>Cups</th>\n",
       "    </tr>\n",
       "    <tr>\n",
       "      <th>Cereal</th>\n",
       "      <th></th>\n",
       "      <th></th>\n",
       "      <th></th>\n",
       "      <th></th>\n",
       "      <th></th>\n",
       "      <th></th>\n",
       "      <th></th>\n",
       "      <th></th>\n",
       "      <th></th>\n",
       "      <th></th>\n",
       "      <th></th>\n",
       "      <th></th>\n",
       "      <th></th>\n",
       "      <th></th>\n",
       "    </tr>\n",
       "  </thead>\n",
       "  <tbody>\n",
       "    <tr>\n",
       "      <th>Apple Cinnamon Cheerios</th>\n",
       "      <td>G</td>\n",
       "      <td>C</td>\n",
       "      <td>110</td>\n",
       "      <td>2</td>\n",
       "      <td>2</td>\n",
       "      <td>180</td>\n",
       "      <td>1.5</td>\n",
       "      <td>10.5</td>\n",
       "      <td>10</td>\n",
       "      <td>1</td>\n",
       "      <td>70</td>\n",
       "      <td>25</td>\n",
       "      <td>1.00</td>\n",
       "      <td>0.75</td>\n",
       "    </tr>\n",
       "    <tr>\n",
       "      <th>Basic 4</th>\n",
       "      <td>G</td>\n",
       "      <td>C</td>\n",
       "      <td>130</td>\n",
       "      <td>3</td>\n",
       "      <td>2</td>\n",
       "      <td>210</td>\n",
       "      <td>2.0</td>\n",
       "      <td>18.0</td>\n",
       "      <td>8</td>\n",
       "      <td>3</td>\n",
       "      <td>100</td>\n",
       "      <td>25</td>\n",
       "      <td>1.33</td>\n",
       "      <td>0.75</td>\n",
       "    </tr>\n",
       "    <tr>\n",
       "      <th>Cheerios</th>\n",
       "      <td>G</td>\n",
       "      <td>C</td>\n",
       "      <td>110</td>\n",
       "      <td>6</td>\n",
       "      <td>2</td>\n",
       "      <td>290</td>\n",
       "      <td>2.0</td>\n",
       "      <td>17.0</td>\n",
       "      <td>1</td>\n",
       "      <td>1</td>\n",
       "      <td>105</td>\n",
       "      <td>25</td>\n",
       "      <td>1.00</td>\n",
       "      <td>1.25</td>\n",
       "    </tr>\n",
       "    <tr>\n",
       "      <th>Cinnamon Toast Crunch</th>\n",
       "      <td>G</td>\n",
       "      <td>C</td>\n",
       "      <td>120</td>\n",
       "      <td>1</td>\n",
       "      <td>3</td>\n",
       "      <td>210</td>\n",
       "      <td>0.0</td>\n",
       "      <td>13.0</td>\n",
       "      <td>9</td>\n",
       "      <td>2</td>\n",
       "      <td>45</td>\n",
       "      <td>25</td>\n",
       "      <td>1.00</td>\n",
       "      <td>0.75</td>\n",
       "    </tr>\n",
       "    <tr>\n",
       "      <th>Clusters</th>\n",
       "      <td>G</td>\n",
       "      <td>C</td>\n",
       "      <td>110</td>\n",
       "      <td>3</td>\n",
       "      <td>2</td>\n",
       "      <td>140</td>\n",
       "      <td>2.0</td>\n",
       "      <td>13.0</td>\n",
       "      <td>7</td>\n",
       "      <td>3</td>\n",
       "      <td>105</td>\n",
       "      <td>25</td>\n",
       "      <td>1.00</td>\n",
       "      <td>0.50</td>\n",
       "    </tr>\n",
       "  </tbody>\n",
       "</table>\n",
       "</div>"
      ],
      "text/plain": [
       "                        Manufacturer Type  Calories  Protein  Fat  Sodium  \\\n",
       "Cereal                                                                      \n",
       "Apple Cinnamon Cheerios            G    C       110        2    2     180   \n",
       "Basic 4                            G    C       130        3    2     210   \n",
       "Cheerios                           G    C       110        6    2     290   \n",
       "Cinnamon Toast Crunch              G    C       120        1    3     210   \n",
       "Clusters                           G    C       110        3    2     140   \n",
       "\n",
       "                         Fiber  Carbohydrates  Sugars  Shelf  Potassium  \\\n",
       "Cereal                                                                    \n",
       "Apple Cinnamon Cheerios    1.5           10.5      10      1         70   \n",
       "Basic 4                    2.0           18.0       8      3        100   \n",
       "Cheerios                   2.0           17.0       1      1        105   \n",
       "Cinnamon Toast Crunch      0.0           13.0       9      2         45   \n",
       "Clusters                   2.0           13.0       7      3        105   \n",
       "\n",
       "                         Vitamins  Weight  Cups  \n",
       "Cereal                                           \n",
       "Apple Cinnamon Cheerios        25    1.00  0.75  \n",
       "Basic 4                        25    1.33  0.75  \n",
       "Cheerios                       25    1.00  1.25  \n",
       "Cinnamon Toast Crunch          25    1.00  0.75  \n",
       "Clusters                       25    1.00  0.50  "
      ]
     },
     "execution_count": 57,
     "metadata": {},
     "output_type": "execute_result"
    }
   ],
   "source": [
    "df = df.set_index(\"Cereal\")\n",
    "df.head()"
   ]
  },
  {
   "cell_type": "markdown",
   "id": "humanitarian-ambassador",
   "metadata": {},
   "source": [
    "### In type, H stand for Hot  and C stands for Cold"
   ]
  },
  {
   "cell_type": "code",
   "execution_count": 58,
   "id": "prescribed-baseline",
   "metadata": {},
   "outputs": [
    {
     "data": {
      "text/html": [
       "<div>\n",
       "<style scoped>\n",
       "    .dataframe tbody tr th:only-of-type {\n",
       "        vertical-align: middle;\n",
       "    }\n",
       "\n",
       "    .dataframe tbody tr th {\n",
       "        vertical-align: top;\n",
       "    }\n",
       "\n",
       "    .dataframe thead th {\n",
       "        text-align: right;\n",
       "    }\n",
       "</style>\n",
       "<table border=\"1\" class=\"dataframe\">\n",
       "  <thead>\n",
       "    <tr style=\"text-align: right;\">\n",
       "      <th></th>\n",
       "      <th>Manufacturer</th>\n",
       "      <th>Type</th>\n",
       "      <th>Calories</th>\n",
       "      <th>Protein</th>\n",
       "      <th>Fat</th>\n",
       "      <th>Sodium</th>\n",
       "      <th>Fiber</th>\n",
       "      <th>Carbohydrates</th>\n",
       "      <th>Sugars</th>\n",
       "      <th>Shelf</th>\n",
       "      <th>Potassium</th>\n",
       "      <th>Vitamins</th>\n",
       "      <th>Weight</th>\n",
       "      <th>Cups</th>\n",
       "    </tr>\n",
       "    <tr>\n",
       "      <th>Cereal</th>\n",
       "      <th></th>\n",
       "      <th></th>\n",
       "      <th></th>\n",
       "      <th></th>\n",
       "      <th></th>\n",
       "      <th></th>\n",
       "      <th></th>\n",
       "      <th></th>\n",
       "      <th></th>\n",
       "      <th></th>\n",
       "      <th></th>\n",
       "      <th></th>\n",
       "      <th></th>\n",
       "      <th></th>\n",
       "    </tr>\n",
       "  </thead>\n",
       "  <tbody>\n",
       "    <tr>\n",
       "      <th>Apple Cinnamon Cheerios</th>\n",
       "      <td>G</td>\n",
       "      <td>1</td>\n",
       "      <td>110</td>\n",
       "      <td>2</td>\n",
       "      <td>2</td>\n",
       "      <td>180</td>\n",
       "      <td>1.5</td>\n",
       "      <td>10.5</td>\n",
       "      <td>10</td>\n",
       "      <td>1</td>\n",
       "      <td>70</td>\n",
       "      <td>25</td>\n",
       "      <td>1.00</td>\n",
       "      <td>0.75</td>\n",
       "    </tr>\n",
       "    <tr>\n",
       "      <th>Basic 4</th>\n",
       "      <td>G</td>\n",
       "      <td>1</td>\n",
       "      <td>130</td>\n",
       "      <td>3</td>\n",
       "      <td>2</td>\n",
       "      <td>210</td>\n",
       "      <td>2.0</td>\n",
       "      <td>18.0</td>\n",
       "      <td>8</td>\n",
       "      <td>3</td>\n",
       "      <td>100</td>\n",
       "      <td>25</td>\n",
       "      <td>1.33</td>\n",
       "      <td>0.75</td>\n",
       "    </tr>\n",
       "    <tr>\n",
       "      <th>Cheerios</th>\n",
       "      <td>G</td>\n",
       "      <td>1</td>\n",
       "      <td>110</td>\n",
       "      <td>6</td>\n",
       "      <td>2</td>\n",
       "      <td>290</td>\n",
       "      <td>2.0</td>\n",
       "      <td>17.0</td>\n",
       "      <td>1</td>\n",
       "      <td>1</td>\n",
       "      <td>105</td>\n",
       "      <td>25</td>\n",
       "      <td>1.00</td>\n",
       "      <td>1.25</td>\n",
       "    </tr>\n",
       "    <tr>\n",
       "      <th>Cinnamon Toast Crunch</th>\n",
       "      <td>G</td>\n",
       "      <td>1</td>\n",
       "      <td>120</td>\n",
       "      <td>1</td>\n",
       "      <td>3</td>\n",
       "      <td>210</td>\n",
       "      <td>0.0</td>\n",
       "      <td>13.0</td>\n",
       "      <td>9</td>\n",
       "      <td>2</td>\n",
       "      <td>45</td>\n",
       "      <td>25</td>\n",
       "      <td>1.00</td>\n",
       "      <td>0.75</td>\n",
       "    </tr>\n",
       "    <tr>\n",
       "      <th>Clusters</th>\n",
       "      <td>G</td>\n",
       "      <td>1</td>\n",
       "      <td>110</td>\n",
       "      <td>3</td>\n",
       "      <td>2</td>\n",
       "      <td>140</td>\n",
       "      <td>2.0</td>\n",
       "      <td>13.0</td>\n",
       "      <td>7</td>\n",
       "      <td>3</td>\n",
       "      <td>105</td>\n",
       "      <td>25</td>\n",
       "      <td>1.00</td>\n",
       "      <td>0.50</td>\n",
       "    </tr>\n",
       "  </tbody>\n",
       "</table>\n",
       "</div>"
      ],
      "text/plain": [
       "                        Manufacturer  Type  Calories  Protein  Fat  Sodium  \\\n",
       "Cereal                                                                       \n",
       "Apple Cinnamon Cheerios            G     1       110        2    2     180   \n",
       "Basic 4                            G     1       130        3    2     210   \n",
       "Cheerios                           G     1       110        6    2     290   \n",
       "Cinnamon Toast Crunch              G     1       120        1    3     210   \n",
       "Clusters                           G     1       110        3    2     140   \n",
       "\n",
       "                         Fiber  Carbohydrates  Sugars  Shelf  Potassium  \\\n",
       "Cereal                                                                    \n",
       "Apple Cinnamon Cheerios    1.5           10.5      10      1         70   \n",
       "Basic 4                    2.0           18.0       8      3        100   \n",
       "Cheerios                   2.0           17.0       1      1        105   \n",
       "Cinnamon Toast Crunch      0.0           13.0       9      2         45   \n",
       "Clusters                   2.0           13.0       7      3        105   \n",
       "\n",
       "                         Vitamins  Weight  Cups  \n",
       "Cereal                                           \n",
       "Apple Cinnamon Cheerios        25    1.00  0.75  \n",
       "Basic 4                        25    1.33  0.75  \n",
       "Cheerios                       25    1.00  1.25  \n",
       "Cinnamon Toast Crunch          25    1.00  0.75  \n",
       "Clusters                       25    1.00  0.50  "
      ]
     },
     "execution_count": 58,
     "metadata": {},
     "output_type": "execute_result"
    }
   ],
   "source": [
    "df['Type']=df['Type'].replace(['C','H'],[1,0])\n",
    "df.head()"
   ]
  },
  {
   "cell_type": "code",
   "execution_count": 59,
   "id": "exterior-franklin",
   "metadata": {},
   "outputs": [
    {
     "name": "stderr",
     "output_type": "stream",
     "text": [
      "c:\\users\\kk\\appdata\\local\\programs\\python\\python37\\lib\\site-packages\\seaborn\\distributions.py:306: UserWarning: Dataset has 0 variance; skipping density estimate.\n",
      "  warnings.warn(msg, UserWarning)\n"
     ]
    },
    {
     "data": {
      "text/plain": [
       "<AxesSubplot:xlabel='Calories', ylabel='Count'>"
      ]
     },
     "execution_count": 59,
     "metadata": {},
     "output_type": "execute_result"
    },
    {
     "data": {
      "image/png": "[encoded data removed]",
      "text/plain": [
       "<Figure size 432x288 with 1 Axes>"
      ]
     },
     "metadata": {
      "needs_background": "light"
     },
     "output_type": "display_data"
    }
   ],
   "source": [
    "#df['Type'].plot(kind='hist', hue='Calories')\n",
    "sns.histplot(data=df,x='Calories',hue='Type',kde=True)"
   ]
  },
  {
   "cell_type": "code",
   "execution_count": 62,
   "id": "pressing-sherman",
   "metadata": {},
   "outputs": [
    {
     "data": {
      "text/plain": [
       "<AxesSubplot:xlabel='Calories', ylabel='Count'>"
      ]
     },
     "execution_count": 62,
     "metadata": {},
     "output_type": "execute_result"
    },
    {
     "data": {
      "image/png": "[encoded data removed]",
      "text/plain": [
       "<Figure size 432x288 with 1 Axes>"
      ]
     },
     "metadata": {
      "needs_background": "light"
     },
     "output_type": "display_data"
    }
   ],
   "source": [
    "\n",
    "sns.histplot(data=df,x='Calories',hue='Manufacturer')"
   ]
  },
  {
   "cell_type": "code",
   "execution_count": 70,
   "id": "built-sweet",
   "metadata": {},
   "outputs": [
    {
     "data": {
      "text/plain": [
       "<AxesSubplot:xlabel='Type', ylabel='Calories'>"
      ]
     },
     "execution_count": 70,
     "metadata": {},
     "output_type": "execute_result"
    },
    {
     "data": {
      "image/png": "[encoded data removed]",
      "text/plain": [
       "<Figure size 432x288 with 1 Axes>"
      ]
     },
     "metadata": {
      "needs_background": "light"
     },
     "output_type": "display_data"
    }
   ],
   "source": [
    "\n",
    "sns.boxplot(data=df,y='Calories',x='Type',hue='Manufacturer')"
   ]
  },
  {
   "cell_type": "markdown",
   "id": "retired-centre",
   "metadata": {},
   "source": [
    "\n",
    "## Considering Cold value based data\n",
    "### Assuming\n",
    "#### Considering 3 main elements for growth \n",
    "##### Calories\n",
    "##### Protien\n",
    "##### Carbohydrates\n",
    "##### Less Sugar"
   ]
  },
  {
   "cell_type": "markdown",
   "id": "wireless-championship",
   "metadata": {},
   "source": [
    "# Less Sugar"
   ]
  },
  {
   "cell_type": "code",
   "execution_count": 89,
   "id": "strange-demand",
   "metadata": {},
   "outputs": [
    {
     "data": {
      "text/plain": [
       "<AxesSubplot:xlabel='Manufacturer', ylabel='Calories'>"
      ]
     },
     "execution_count": 89,
     "metadata": {},
     "output_type": "execute_result"
    },
    {
     "data": {
      "image/png": "[encoded data removed]",
      "text/plain": [
       "<Figure size 432x288 with 1 Axes>"
      ]
     },
     "metadata": {
      "needs_background": "light"
     },
     "output_type": "display_data"
    }
   ],
   "source": [
    "#calculating Calories per Manufacturer\n",
    "sns.barplot(x=df['Manufacturer'],y=df['Calories'])"
   ]
  },
  {
   "cell_type": "code",
   "execution_count": 144,
   "id": "unavailable-preliminary",
   "metadata": {},
   "outputs": [
    {
     "name": "stdout",
     "output_type": "stream",
     "text": [
      "Sugars Mean is 7\n",
      "Sugars Median is 8\n"
     ]
    }
   ],
   "source": [
    "df = df.sort_values(by='Sugars')\n",
    "print('Sugars Mean is {}'.format(df['Sugars'].unique()[df['Sugars'].unique().sum()//df['Sugars'].unique().shape][0]))\n",
    "\n",
    "print('Sugars Median is {}'.format(df['Sugars'].unique()[len(df['Sugars'].unique())//2]))"
   ]
  },
  {
   "cell_type": "markdown",
   "id": "general-radar",
   "metadata": {},
   "source": [
    "### Creating range of sugards \n",
    "#### if  sugar < 5 ==0 \n",
    "#### if sugar >=5 and <=8 1\n",
    "#### if sugar >8 == 2 "
   ]
  },
  {
   "cell_type": "code",
   "execution_count": 154,
   "id": "third-convention",
   "metadata": {},
   "outputs": [],
   "source": [
    "df['Sugars']=df['Sugars'].mask(df['Sugars']<5,0)\n",
    "df['Sugars']=df['Sugars'].mask((df['Sugars']>=5) & (df['Sugars']<=8),1)\n",
    "\n",
    "df['Sugars']=df['Sugars'].mask(df['Sugars']>8,2)"
   ]
  },
  {
   "cell_type": "code",
   "execution_count": 158,
   "id": "elementary-trance",
   "metadata": {},
   "outputs": [
    {
     "data": {
      "text/plain": [
       "2    30\n",
       "0    23\n",
       "1    21\n",
       "Name: Sugars, dtype: int64"
      ]
     },
     "execution_count": 158,
     "metadata": {},
     "output_type": "execute_result"
    }
   ],
   "source": [
    "df['Sugars'].value_counts()"
   ]
  },
  {
   "cell_type": "code",
   "execution_count": 163,
   "id": "approved-disabled",
   "metadata": {},
   "outputs": [
    {
     "data": {
      "text/plain": [
       "<AxesSubplot:xlabel='Manufacturer', ylabel='Sugars'>"
      ]
     },
     "execution_count": 163,
     "metadata": {},
     "output_type": "execute_result"
    },
    {
     "data": {
      "image/png": "[encoded data removed]",
      "text/plain": [
       "<Figure size 432x288 with 1 Axes>"
      ]
     },
     "metadata": {
      "needs_background": "light"
     },
     "output_type": "display_data"
    }
   ],
   "source": [
    "sns.boxplot(x=df['Manufacturer'],y=df['Sugars'])\n",
    "#this shows how much an average a amouunt of sugar a company is provided in their cereals"
   ]
  },
  {
   "cell_type": "markdown",
   "id": "hungry-oregon",
   "metadata": {},
   "source": [
    "# Calories"
   ]
  },
  {
   "cell_type": "code",
   "execution_count": 169,
   "id": "arbitrary-barrel",
   "metadata": {},
   "outputs": [
    {
     "name": "stdout",
     "output_type": "stream",
     "text": [
      "count     74.000000\n",
      "mean     107.162162\n",
      "std       19.829428\n",
      "min       50.000000\n",
      "25%      100.000000\n",
      "50%      110.000000\n",
      "75%      110.000000\n",
      "max      160.000000\n",
      "Name: Calories, dtype: float64\n"
     ]
    },
    {
     "data": {
      "text/plain": [
       "<AxesSubplot:>"
      ]
     },
     "execution_count": 169,
     "metadata": {},
     "output_type": "execute_result"
    },
    {
     "data": {
      "image/png": "[encoded data removed]",
      "text/plain": [
       "<Figure size 432x288 with 1 Axes>"
      ]
     },
     "metadata": {
      "needs_background": "light"
     },
     "output_type": "display_data"
    }
   ],
   "source": [
    "#While individual functions for mean, median, max, ect. do exist, this is an easy way to get it all at once.\n",
    "print(df['Calories'].describe())\n",
    "df['Calories'].plot.box(vert=False)"
   ]
  },
  {
   "cell_type": "markdown",
   "id": "qualified-expression",
   "metadata": {},
   "source": [
    "# Carbohyderates"
   ]
  },
  {
   "cell_type": "code",
   "execution_count": 171,
   "id": "familiar-package",
   "metadata": {},
   "outputs": [
    {
     "data": {
      "text/html": [
       "<div>\n",
       "<style scoped>\n",
       "    .dataframe tbody tr th:only-of-type {\n",
       "        vertical-align: middle;\n",
       "    }\n",
       "\n",
       "    .dataframe tbody tr th {\n",
       "        vertical-align: top;\n",
       "    }\n",
       "\n",
       "    .dataframe thead tr th {\n",
       "        text-align: left;\n",
       "    }\n",
       "\n",
       "    .dataframe thead tr:last-of-type th {\n",
       "        text-align: right;\n",
       "    }\n",
       "</style>\n",
       "<table border=\"1\" class=\"dataframe\">\n",
       "  <thead>\n",
       "    <tr>\n",
       "      <th></th>\n",
       "      <th colspan=\"8\" halign=\"left\">Type</th>\n",
       "      <th colspan=\"2\" halign=\"left\">Calories</th>\n",
       "      <th>...</th>\n",
       "      <th colspan=\"2\" halign=\"left\">Weight</th>\n",
       "      <th colspan=\"8\" halign=\"left\">Cups</th>\n",
       "    </tr>\n",
       "    <tr>\n",
       "      <th></th>\n",
       "      <th>count</th>\n",
       "      <th>mean</th>\n",
       "      <th>std</th>\n",
       "      <th>min</th>\n",
       "      <th>25%</th>\n",
       "      <th>50%</th>\n",
       "      <th>75%</th>\n",
       "      <th>max</th>\n",
       "      <th>count</th>\n",
       "      <th>mean</th>\n",
       "      <th>...</th>\n",
       "      <th>75%</th>\n",
       "      <th>max</th>\n",
       "      <th>count</th>\n",
       "      <th>mean</th>\n",
       "      <th>std</th>\n",
       "      <th>min</th>\n",
       "      <th>25%</th>\n",
       "      <th>50%</th>\n",
       "      <th>75%</th>\n",
       "      <th>max</th>\n",
       "    </tr>\n",
       "    <tr>\n",
       "      <th>Manufacturer</th>\n",
       "      <th></th>\n",
       "      <th></th>\n",
       "      <th></th>\n",
       "      <th></th>\n",
       "      <th></th>\n",
       "      <th></th>\n",
       "      <th></th>\n",
       "      <th></th>\n",
       "      <th></th>\n",
       "      <th></th>\n",
       "      <th></th>\n",
       "      <th></th>\n",
       "      <th></th>\n",
       "      <th></th>\n",
       "      <th></th>\n",
       "      <th></th>\n",
       "      <th></th>\n",
       "      <th></th>\n",
       "      <th></th>\n",
       "      <th></th>\n",
       "      <th></th>\n",
       "    </tr>\n",
       "  </thead>\n",
       "  <tbody>\n",
       "    <tr>\n",
       "      <th>G</th>\n",
       "      <td>22.0</td>\n",
       "      <td>1.0</td>\n",
       "      <td>0.0</td>\n",
       "      <td>1.0</td>\n",
       "      <td>1.0</td>\n",
       "      <td>1.0</td>\n",
       "      <td>1.0</td>\n",
       "      <td>1.0</td>\n",
       "      <td>22.0</td>\n",
       "      <td>111.363636</td>\n",
       "      <td>...</td>\n",
       "      <td>1.0</td>\n",
       "      <td>1.50</td>\n",
       "      <td>22.0</td>\n",
       "      <td>0.875000</td>\n",
       "      <td>0.240906</td>\n",
       "      <td>0.50</td>\n",
       "      <td>0.7500</td>\n",
       "      <td>0.875</td>\n",
       "      <td>1.0000</td>\n",
       "      <td>1.50</td>\n",
       "    </tr>\n",
       "    <tr>\n",
       "      <th>K</th>\n",
       "      <td>23.0</td>\n",
       "      <td>1.0</td>\n",
       "      <td>0.0</td>\n",
       "      <td>1.0</td>\n",
       "      <td>1.0</td>\n",
       "      <td>1.0</td>\n",
       "      <td>1.0</td>\n",
       "      <td>1.0</td>\n",
       "      <td>23.0</td>\n",
       "      <td>108.695652</td>\n",
       "      <td>...</td>\n",
       "      <td>1.0</td>\n",
       "      <td>1.50</td>\n",
       "      <td>23.0</td>\n",
       "      <td>0.622174</td>\n",
       "      <td>0.549429</td>\n",
       "      <td>-1.00</td>\n",
       "      <td>0.5850</td>\n",
       "      <td>0.750</td>\n",
       "      <td>1.0000</td>\n",
       "      <td>1.00</td>\n",
       "    </tr>\n",
       "    <tr>\n",
       "      <th>N</th>\n",
       "      <td>5.0</td>\n",
       "      <td>1.0</td>\n",
       "      <td>0.0</td>\n",
       "      <td>1.0</td>\n",
       "      <td>1.0</td>\n",
       "      <td>1.0</td>\n",
       "      <td>1.0</td>\n",
       "      <td>1.0</td>\n",
       "      <td>5.0</td>\n",
       "      <td>84.000000</td>\n",
       "      <td>...</td>\n",
       "      <td>1.0</td>\n",
       "      <td>1.00</td>\n",
       "      <td>5.0</td>\n",
       "      <td>-0.066000</td>\n",
       "      <td>0.863846</td>\n",
       "      <td>-1.00</td>\n",
       "      <td>-1.0000</td>\n",
       "      <td>0.330</td>\n",
       "      <td>0.6700</td>\n",
       "      <td>0.67</td>\n",
       "    </tr>\n",
       "    <tr>\n",
       "      <th>P</th>\n",
       "      <td>9.0</td>\n",
       "      <td>1.0</td>\n",
       "      <td>0.0</td>\n",
       "      <td>1.0</td>\n",
       "      <td>1.0</td>\n",
       "      <td>1.0</td>\n",
       "      <td>1.0</td>\n",
       "      <td>1.0</td>\n",
       "      <td>9.0</td>\n",
       "      <td>108.888889</td>\n",
       "      <td>...</td>\n",
       "      <td>1.0</td>\n",
       "      <td>1.33</td>\n",
       "      <td>9.0</td>\n",
       "      <td>0.714444</td>\n",
       "      <td>0.317101</td>\n",
       "      <td>0.25</td>\n",
       "      <td>0.6700</td>\n",
       "      <td>0.670</td>\n",
       "      <td>0.8800</td>\n",
       "      <td>1.33</td>\n",
       "    </tr>\n",
       "    <tr>\n",
       "      <th>Q</th>\n",
       "      <td>7.0</td>\n",
       "      <td>1.0</td>\n",
       "      <td>0.0</td>\n",
       "      <td>1.0</td>\n",
       "      <td>1.0</td>\n",
       "      <td>1.0</td>\n",
       "      <td>1.0</td>\n",
       "      <td>1.0</td>\n",
       "      <td>7.0</td>\n",
       "      <td>94.285714</td>\n",
       "      <td>...</td>\n",
       "      <td>1.0</td>\n",
       "      <td>1.00</td>\n",
       "      <td>7.0</td>\n",
       "      <td>0.274286</td>\n",
       "      <td>0.888329</td>\n",
       "      <td>-1.00</td>\n",
       "      <td>-0.2500</td>\n",
       "      <td>0.670</td>\n",
       "      <td>0.8750</td>\n",
       "      <td>1.00</td>\n",
       "    </tr>\n",
       "    <tr>\n",
       "      <th>R</th>\n",
       "      <td>8.0</td>\n",
       "      <td>1.0</td>\n",
       "      <td>0.0</td>\n",
       "      <td>1.0</td>\n",
       "      <td>1.0</td>\n",
       "      <td>1.0</td>\n",
       "      <td>1.0</td>\n",
       "      <td>1.0</td>\n",
       "      <td>8.0</td>\n",
       "      <td>115.000000</td>\n",
       "      <td>...</td>\n",
       "      <td>1.0</td>\n",
       "      <td>1.00</td>\n",
       "      <td>8.0</td>\n",
       "      <td>0.371250</td>\n",
       "      <td>0.861650</td>\n",
       "      <td>-1.00</td>\n",
       "      <td>0.2525</td>\n",
       "      <td>0.710</td>\n",
       "      <td>0.8125</td>\n",
       "      <td>1.13</td>\n",
       "    </tr>\n",
       "  </tbody>\n",
       "</table>\n",
       "<p>6 rows × 104 columns</p>\n",
       "</div>"
      ],
      "text/plain": [
       "              Type                                    Calories              \\\n",
       "             count mean  std  min  25%  50%  75%  max    count        mean   \n",
       "Manufacturer                                                                 \n",
       "G             22.0  1.0  0.0  1.0  1.0  1.0  1.0  1.0     22.0  111.363636   \n",
       "K             23.0  1.0  0.0  1.0  1.0  1.0  1.0  1.0     23.0  108.695652   \n",
       "N              5.0  1.0  0.0  1.0  1.0  1.0  1.0  1.0      5.0   84.000000   \n",
       "P              9.0  1.0  0.0  1.0  1.0  1.0  1.0  1.0      9.0  108.888889   \n",
       "Q              7.0  1.0  0.0  1.0  1.0  1.0  1.0  1.0      7.0   94.285714   \n",
       "R              8.0  1.0  0.0  1.0  1.0  1.0  1.0  1.0      8.0  115.000000   \n",
       "\n",
       "              ... Weight        Cups                                           \\\n",
       "              ...    75%   max count      mean       std   min     25%    50%   \n",
       "Manufacturer  ...                                                               \n",
       "G             ...    1.0  1.50  22.0  0.875000  0.240906  0.50  0.7500  0.875   \n",
       "K             ...    1.0  1.50  23.0  0.622174  0.549429 -1.00  0.5850  0.750   \n",
       "N             ...    1.0  1.00   5.0 -0.066000  0.863846 -1.00 -1.0000  0.330   \n",
       "P             ...    1.0  1.33   9.0  0.714444  0.317101  0.25  0.6700  0.670   \n",
       "Q             ...    1.0  1.00   7.0  0.274286  0.888329 -1.00 -0.2500  0.670   \n",
       "R             ...    1.0  1.00   8.0  0.371250  0.861650 -1.00  0.2525  0.710   \n",
       "\n",
       "                            \n",
       "                 75%   max  \n",
       "Manufacturer                \n",
       "G             1.0000  1.50  \n",
       "K             1.0000  1.00  \n",
       "N             0.6700  0.67  \n",
       "P             0.8800  1.33  \n",
       "Q             0.8750  1.00  \n",
       "R             0.8125  1.13  \n",
       "\n",
       "[6 rows x 104 columns]"
      ]
     },
     "execution_count": 171,
     "metadata": {},
     "output_type": "execute_result"
    }
   ],
   "source": [
    "df.groupby('Manufacturer').describe()"
   ]
  },
  {
   "cell_type": "code",
   "execution_count": 172,
   "id": "former-owner",
   "metadata": {},
   "outputs": [
    {
     "data": {
      "text/html": [
       "<div>\n",
       "<style scoped>\n",
       "    .dataframe tbody tr th:only-of-type {\n",
       "        vertical-align: middle;\n",
       "    }\n",
       "\n",
       "    .dataframe tbody tr th {\n",
       "        vertical-align: top;\n",
       "    }\n",
       "\n",
       "    .dataframe thead th {\n",
       "        text-align: right;\n",
       "    }\n",
       "</style>\n",
       "<table border=\"1\" class=\"dataframe\">\n",
       "  <thead>\n",
       "    <tr style=\"text-align: right;\">\n",
       "      <th></th>\n",
       "      <th>count</th>\n",
       "      <th>mean</th>\n",
       "      <th>std</th>\n",
       "      <th>min</th>\n",
       "      <th>25%</th>\n",
       "      <th>50%</th>\n",
       "      <th>75%</th>\n",
       "      <th>max</th>\n",
       "    </tr>\n",
       "    <tr>\n",
       "      <th>Manufacturer</th>\n",
       "      <th></th>\n",
       "      <th></th>\n",
       "      <th></th>\n",
       "      <th></th>\n",
       "      <th></th>\n",
       "      <th></th>\n",
       "      <th></th>\n",
       "      <th></th>\n",
       "    </tr>\n",
       "  </thead>\n",
       "  <tbody>\n",
       "    <tr>\n",
       "      <th>G</th>\n",
       "      <td>22.0</td>\n",
       "      <td>111.363636</td>\n",
       "      <td>10.371873</td>\n",
       "      <td>100.0</td>\n",
       "      <td>110.0</td>\n",
       "      <td>110.0</td>\n",
       "      <td>110.0</td>\n",
       "      <td>140.0</td>\n",
       "    </tr>\n",
       "    <tr>\n",
       "      <th>K</th>\n",
       "      <td>23.0</td>\n",
       "      <td>108.695652</td>\n",
       "      <td>22.218818</td>\n",
       "      <td>50.0</td>\n",
       "      <td>100.0</td>\n",
       "      <td>110.0</td>\n",
       "      <td>115.0</td>\n",
       "      <td>160.0</td>\n",
       "    </tr>\n",
       "    <tr>\n",
       "      <th>N</th>\n",
       "      <td>5.0</td>\n",
       "      <td>84.000000</td>\n",
       "      <td>8.944272</td>\n",
       "      <td>70.0</td>\n",
       "      <td>80.0</td>\n",
       "      <td>90.0</td>\n",
       "      <td>90.0</td>\n",
       "      <td>90.0</td>\n",
       "    </tr>\n",
       "    <tr>\n",
       "      <th>P</th>\n",
       "      <td>9.0</td>\n",
       "      <td>108.888889</td>\n",
       "      <td>10.540926</td>\n",
       "      <td>90.0</td>\n",
       "      <td>100.0</td>\n",
       "      <td>110.0</td>\n",
       "      <td>120.0</td>\n",
       "      <td>120.0</td>\n",
       "    </tr>\n",
       "    <tr>\n",
       "      <th>Q</th>\n",
       "      <td>7.0</td>\n",
       "      <td>94.285714</td>\n",
       "      <td>31.547394</td>\n",
       "      <td>50.0</td>\n",
       "      <td>75.0</td>\n",
       "      <td>100.0</td>\n",
       "      <td>120.0</td>\n",
       "      <td>120.0</td>\n",
       "    </tr>\n",
       "    <tr>\n",
       "      <th>R</th>\n",
       "      <td>8.0</td>\n",
       "      <td>115.000000</td>\n",
       "      <td>22.677868</td>\n",
       "      <td>90.0</td>\n",
       "      <td>100.0</td>\n",
       "      <td>110.0</td>\n",
       "      <td>120.0</td>\n",
       "      <td>150.0</td>\n",
       "    </tr>\n",
       "  </tbody>\n",
       "</table>\n",
       "</div>"
      ],
      "text/plain": [
       "              count        mean        std    min    25%    50%    75%    max\n",
       "Manufacturer                                                                 \n",
       "G              22.0  111.363636  10.371873  100.0  110.0  110.0  110.0  140.0\n",
       "K              23.0  108.695652  22.218818   50.0  100.0  110.0  115.0  160.0\n",
       "N               5.0   84.000000   8.944272   70.0   80.0   90.0   90.0   90.0\n",
       "P               9.0  108.888889  10.540926   90.0  100.0  110.0  120.0  120.0\n",
       "Q               7.0   94.285714  31.547394   50.0   75.0  100.0  120.0  120.0\n",
       "R               8.0  115.000000  22.677868   90.0  100.0  110.0  120.0  150.0"
      ]
     },
     "execution_count": 172,
     "metadata": {},
     "output_type": "execute_result"
    }
   ],
   "source": [
    "df.groupby('Manufacturer').describe()['Calories']\n"
   ]
  },
  {
   "cell_type": "markdown",
   "id": "productive-writer",
   "metadata": {},
   "source": [
    "the manufacturer R consists of higher calories "
   ]
  },
  {
   "cell_type": "code",
   "execution_count": 176,
   "id": "demanding-violation",
   "metadata": {},
   "outputs": [
    {
     "data": {
      "text/html": [
       "<div>\n",
       "<style scoped>\n",
       "    .dataframe tbody tr th:only-of-type {\n",
       "        vertical-align: middle;\n",
       "    }\n",
       "\n",
       "    .dataframe tbody tr th {\n",
       "        vertical-align: top;\n",
       "    }\n",
       "\n",
       "    .dataframe thead th {\n",
       "        text-align: right;\n",
       "    }\n",
       "</style>\n",
       "<table border=\"1\" class=\"dataframe\">\n",
       "  <thead>\n",
       "    <tr style=\"text-align: right;\">\n",
       "      <th></th>\n",
       "      <th>count</th>\n",
       "      <th>mean</th>\n",
       "      <th>std</th>\n",
       "      <th>min</th>\n",
       "      <th>25%</th>\n",
       "      <th>50%</th>\n",
       "      <th>75%</th>\n",
       "      <th>max</th>\n",
       "    </tr>\n",
       "    <tr>\n",
       "      <th>Manufacturer</th>\n",
       "      <th></th>\n",
       "      <th></th>\n",
       "      <th></th>\n",
       "      <th></th>\n",
       "      <th></th>\n",
       "      <th></th>\n",
       "      <th></th>\n",
       "      <th></th>\n",
       "    </tr>\n",
       "  </thead>\n",
       "  <tbody>\n",
       "    <tr>\n",
       "      <th>G</th>\n",
       "      <td>22.0</td>\n",
       "      <td>14.727273</td>\n",
       "      <td>3.347804</td>\n",
       "      <td>10.5</td>\n",
       "      <td>12.00</td>\n",
       "      <td>14.25</td>\n",
       "      <td>16.75</td>\n",
       "      <td>21.0</td>\n",
       "    </tr>\n",
       "    <tr>\n",
       "      <th>K</th>\n",
       "      <td>23.0</td>\n",
       "      <td>15.130435</td>\n",
       "      <td>4.465060</td>\n",
       "      <td>7.0</td>\n",
       "      <td>12.00</td>\n",
       "      <td>15.00</td>\n",
       "      <td>19.00</td>\n",
       "      <td>22.0</td>\n",
       "    </tr>\n",
       "    <tr>\n",
       "      <th>N</th>\n",
       "      <td>5.0</td>\n",
       "      <td>15.000000</td>\n",
       "      <td>5.958188</td>\n",
       "      <td>5.0</td>\n",
       "      <td>15.00</td>\n",
       "      <td>16.00</td>\n",
       "      <td>19.00</td>\n",
       "      <td>20.0</td>\n",
       "    </tr>\n",
       "    <tr>\n",
       "      <th>P</th>\n",
       "      <td>9.0</td>\n",
       "      <td>13.222222</td>\n",
       "      <td>1.922094</td>\n",
       "      <td>11.0</td>\n",
       "      <td>12.00</td>\n",
       "      <td>13.00</td>\n",
       "      <td>14.00</td>\n",
       "      <td>17.0</td>\n",
       "    </tr>\n",
       "    <tr>\n",
       "      <th>Q</th>\n",
       "      <td>7.0</td>\n",
       "      <td>11.571429</td>\n",
       "      <td>1.988060</td>\n",
       "      <td>8.0</td>\n",
       "      <td>11.00</td>\n",
       "      <td>12.00</td>\n",
       "      <td>12.50</td>\n",
       "      <td>14.0</td>\n",
       "    </tr>\n",
       "    <tr>\n",
       "      <th>R</th>\n",
       "      <td>8.0</td>\n",
       "      <td>17.625000</td>\n",
       "      <td>3.248626</td>\n",
       "      <td>14.0</td>\n",
       "      <td>15.75</td>\n",
       "      <td>16.50</td>\n",
       "      <td>19.00</td>\n",
       "      <td>23.0</td>\n",
       "    </tr>\n",
       "  </tbody>\n",
       "</table>\n",
       "</div>"
      ],
      "text/plain": [
       "              count       mean       std   min    25%    50%    75%   max\n",
       "Manufacturer                                                             \n",
       "G              22.0  14.727273  3.347804  10.5  12.00  14.25  16.75  21.0\n",
       "K              23.0  15.130435  4.465060   7.0  12.00  15.00  19.00  22.0\n",
       "N               5.0  15.000000  5.958188   5.0  15.00  16.00  19.00  20.0\n",
       "P               9.0  13.222222  1.922094  11.0  12.00  13.00  14.00  17.0\n",
       "Q               7.0  11.571429  1.988060   8.0  11.00  12.00  12.50  14.0\n",
       "R               8.0  17.625000  3.248626  14.0  15.75  16.50  19.00  23.0"
      ]
     },
     "execution_count": 176,
     "metadata": {},
     "output_type": "execute_result"
    }
   ],
   "source": [
    "df.groupby('Manufacturer').describe()['Carbohydrates']"
   ]
  },
  {
   "cell_type": "markdown",
   "id": "related-franklin",
   "metadata": {},
   "source": [
    "Again the manufacturer R consists of higher Carbohydrates "
   ]
  },
  {
   "cell_type": "code",
   "execution_count": null,
   "id": "identified-while",
   "metadata": {},
   "outputs": [],
   "source": []
  }
 ],
 "metadata": {
  "kernelspec": {
   "display_name": "Python 3",
   "language": "python",
   "name": "python3"
  },
  "language_info": {
   "codemirror_mode": {
    "name": "ipython",
    "version": 3
   },
   "file_extension": ".py",
   "mimetype": "text/x-python",
   "name": "python",
   "nbconvert_exporter": "python",
   "pygments_lexer": "ipython3",
   "version": "3.7.8"
  }
 },
 "nbformat": 4,
 "nbformat_minor": 5
}
