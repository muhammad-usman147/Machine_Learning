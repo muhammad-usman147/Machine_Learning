{
  "nbformat": 4,
  "nbformat_minor": 0,
  "metadata": {
    "colab": {
      "name": "logs.ipynb",
      "provenance": [],
      "collapsed_sections": []
    },
    "kernelspec": {
      "name": "python3",
      "display_name": "Python 3"
    },
    "language_info": {
      "name": "python"
    }
  },
  "cells": [
    {
      "cell_type": "code",
      "metadata": {
        "id": "KZTTHhZVnOxF"
      },
      "source": [
        "'''Note:\n",
        "before execution, save your log file to a txt file\n",
        "exp: file.log rename to ==> file.txt\n",
        "'''\n",
        "\n",
        "FILENAME = 'logs.txt' #log file name to read\n",
        "SAVE_AS = 'updated_logs.txt' #new filtered file name, to store the new filtered data\n",
        "with open(FILENAME,'r') as f:\n",
        "  data = f.readlines()\n",
        "new_data = ''\n",
        "flag = True\n",
        "order = 1\n",
        "for i in data:\n",
        "  if i != '\\n':\n",
        "    x = i.split(\"|\")[4].strip()\n",
        "    if x == '35=D':\n",
        "      new_data += 'order: {} \\n{}'.format(order,i)\n",
        "      \n",
        "      order += 1\n",
        "    elif x == '35=8' or x == '35=F':\n",
        "      new_data += \"{} \\n\".format(i)\n",
        "\n",
        "with open(SAVE_AS,'w') as f:\n",
        "  f.write(new_data)\n"
      ],
      "execution_count": 38,
      "outputs": []
    },
    {
      "cell_type": "code",
      "metadata": {
        "id": "ceGIAXnArHJw"
      },
      "source": [
        ""
      ],
      "execution_count": 34,
      "outputs": []
    },
    {
      "cell_type": "code",
      "metadata": {
        "colab": {
          "base_uri": "https://localhost:8080/",
          "height": 35
        },
        "id": "Wkk-HnBsroJz",
        "outputId": "e8b7277c-ee89-4123-cbb6-c179ff5b5fec"
      },
      "source": [
        ""
      ],
      "execution_count": 30,
      "outputs": [
        {
          "output_type": "execute_result",
          "data": {
            "application/vnd.google.colaboratory.intrinsic+json": {
              "type": "string"
            },
            "text/plain": [
              "''"
            ]
          },
          "metadata": {},
          "execution_count": 30
        }
      ]
    },
    {
      "cell_type": "code",
      "metadata": {
        "id": "LcCkJ9m_xL8p"
      },
      "source": [
        ""
      ],
      "execution_count": null,
      "outputs": []
    }
  ]
}